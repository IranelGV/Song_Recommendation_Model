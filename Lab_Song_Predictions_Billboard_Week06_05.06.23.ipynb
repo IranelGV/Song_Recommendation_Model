{
 "cells": [
  {
   "cell_type": "code",
   "execution_count": 112,
   "id": "680ceca2",
   "metadata": {},
   "outputs": [],
   "source": [
    "import requests # to download html code\n",
    "from bs4 import BeautifulSoup # to navigate through the html code\n",
    "import pandas as pd\n",
    "import numpy as np\n",
    "import re\n",
    "import pandas as pd"
   ]
  },
  {
   "cell_type": "markdown",
   "id": "d873fa07",
   "metadata": {},
   "source": [
    "### Download the Page"
   ]
  },
  {
   "cell_type": "code",
   "execution_count": 113,
   "id": "48e95557",
   "metadata": {},
   "outputs": [],
   "source": [
    "url = \"https://www.billboard.com/charts/hot-100/\""
   ]
  },
  {
   "cell_type": "code",
   "execution_count": 114,
   "id": "0b539008",
   "metadata": {},
   "outputs": [],
   "source": [
    "page= requests.get(url)"
   ]
  },
  {
   "cell_type": "code",
   "execution_count": 115,
   "id": "99d6f792",
   "metadata": {},
   "outputs": [
    {
     "data": {
      "text/plain": [
       "200"
      ]
     },
     "execution_count": 115,
     "metadata": {},
     "output_type": "execute_result"
    }
   ],
   "source": [
    "page.status_code"
   ]
  },
  {
   "cell_type": "markdown",
   "id": "bbc1943a",
   "metadata": {},
   "source": [
    "### Parse the HTML"
   ]
  },
  {
   "cell_type": "code",
   "execution_count": 116,
   "id": "9ce2f79b",
   "metadata": {},
   "outputs": [],
   "source": [
    "soup = BeautifulSoup(page.text, 'html.parser')"
   ]
  },
  {
   "cell_type": "markdown",
   "id": "7dc0774d",
   "metadata": {},
   "source": [
    "### Song Artist"
   ]
  },
  {
   "cell_type": "code",
   "execution_count": 117,
   "id": "3158c662",
   "metadata": {},
   "outputs": [],
   "source": [
    "#soup.select(\"li > span\")"
   ]
  },
  {
   "cell_type": "markdown",
   "id": "be958b00",
   "metadata": {},
   "source": [
    "### Creating a list"
   ]
  },
  {
   "cell_type": "code",
   "execution_count": 118,
   "id": "9717d95f",
   "metadata": {},
   "outputs": [],
   "source": [
    "artist=[]"
   ]
  },
  {
   "cell_type": "code",
   "execution_count": 120,
   "id": "7898213f",
   "metadata": {},
   "outputs": [
    {
     "data": {
      "text/plain": [
       "100"
      ]
     },
     "execution_count": 120,
     "metadata": {},
     "output_type": "execute_result"
    }
   ],
   "source": [
    "for i in soup.select (\"li > span.c-label.a-no-trucate\"):\n",
    "    artist.append(i.get_text(strip=True))\n",
    "\n",
    "len(artist)"
   ]
  },
  {
   "cell_type": "code",
   "execution_count": 121,
   "id": "3ec69c85",
   "metadata": {},
   "outputs": [
    {
     "data": {
      "text/plain": [
       "['Morgan Wallen',\n",
       " 'Luke Combs',\n",
       " 'Rema & Selena Gomez',\n",
       " 'Miley Cyrus',\n",
       " 'Lil Durk Featuring J. Cole',\n",
       " 'Toosii',\n",
       " 'Taylor Swift Featuring Ice Spice',\n",
       " 'SZA',\n",
       " 'Metro Boomin, The Weeknd & 21 Savage',\n",
       " 'Eslabon Armado X Peso Pluma',\n",
       " 'Miguel',\n",
       " 'Taylor Swift',\n",
       " 'SZA',\n",
       " 'Zach Bryan',\n",
       " 'The Weeknd & Ariana Grande',\n",
       " 'Gunna',\n",
       " 'Jelly Roll',\n",
       " 'Taylor Swift',\n",
       " 'Yng Lvcas x Peso Pluma',\n",
       " 'Morgan Wallen',\n",
       " 'Grupo Frontera X Bad Bunny',\n",
       " 'Morgan Wallen',\n",
       " 'Bailey Zimmerman',\n",
       " 'Fifty Fifty',\n",
       " 'Drake',\n",
       " 'Post Malone',\n",
       " 'Ed Sheeran',\n",
       " 'Jordan Davis',\n",
       " 'Gunna',\n",
       " 'Bad Bunny',\n",
       " 'Doja Cat',\n",
       " 'David Guetta & Bebe Rexha',\n",
       " 'Morgan Wallen',\n",
       " 'Dua Lipa',\n",
       " 'Tyler Hubbard',\n",
       " 'Bailey Zimmerman',\n",
       " 'PinkPantheress & Ice Spice',\n",
       " 'Old Dominion',\n",
       " 'Latto Featuring Cardi B',\n",
       " 'Kali',\n",
       " 'Lil Durk Featuring Morgan Wallen',\n",
       " 'Gunna',\n",
       " 'Megan Moroney',\n",
       " 'Bizarrap & Peso Pluma',\n",
       " 'Luke Combs',\n",
       " 'Morgan Wallen',\n",
       " 'Fuerza Regida',\n",
       " 'Coi Leray',\n",
       " 'Chris Brown',\n",
       " 'Kane Brown With Katelyn Brown',\n",
       " 'Gunna',\n",
       " 'Gunna',\n",
       " 'Ice Spice & Nicki Minaj',\n",
       " 'Peso Pluma',\n",
       " 'Metro Boomin, Swae Lee & NAV Featuring A Boogie Wit da Hoodie',\n",
       " 'David Kushner',\n",
       " 'Doechii Featuring Kodak Black',\n",
       " 'Metro Boomin, Swae Lee, Lil Wayne & Offset',\n",
       " 'Kane Brown',\n",
       " 'Gunna',\n",
       " 'Metro Boomin & Coi Leray',\n",
       " 'Gunna',\n",
       " 'Scotty McCreery',\n",
       " 'Noah Kahan',\n",
       " 'Peso Pluma X Natanael Cano',\n",
       " 'Peso Pluma',\n",
       " 'Post Malone',\n",
       " 'Metro Boomin, A$AP Rocky & Roisee',\n",
       " 'Jonas Brothers',\n",
       " 'Tyler, The Creator Featuring Kali Uchis',\n",
       " 'Karol G x Shakira',\n",
       " 'Jon Pardi',\n",
       " 'Young Nudy Featuring 21 Savage',\n",
       " 'Junior H x Peso Pluma',\n",
       " 'Justin Moore & Priscilla Block',\n",
       " 'Gunna',\n",
       " 'Gunna',\n",
       " 'Morgan Wallen Featuring ERNEST',\n",
       " 'David Guetta, Anne-Marie & Coi Leray',\n",
       " 'The Weeknd, Playboi Carti & Madonna',\n",
       " 'Rod Wave',\n",
       " 'NLE Choppa',\n",
       " 'Gunna',\n",
       " 'El Alfa x Peso Pluma',\n",
       " 'Jelly Roll With Lainey Wilson',\n",
       " 'Yahritza y Su Esencia x Grupo Frontera',\n",
       " 'Miley Cyrus',\n",
       " 'Coco Jones',\n",
       " 'HARDY',\n",
       " 'Morgan Wallen',\n",
       " 'DaBaby',\n",
       " 'P!nk',\n",
       " 'Libianca',\n",
       " 'Gunna',\n",
       " 'Becky G & Peso Pluma',\n",
       " 'Kodak Black, NLE Choppa, Jimin, JVKE & Muni Long',\n",
       " 'Parmalee',\n",
       " 'Kali Uchis',\n",
       " 'Feid x Young Miko',\n",
       " 'Gucci Mane & Lil Baby']"
      ]
     },
     "execution_count": 121,
     "metadata": {},
     "output_type": "execute_result"
    }
   ],
   "source": [
    "artist"
   ]
  },
  {
   "cell_type": "markdown",
   "id": "87a3bc7b",
   "metadata": {},
   "source": [
    "### Song Name"
   ]
  },
  {
   "cell_type": "code",
   "execution_count": 123,
   "id": "fbf997e5",
   "metadata": {},
   "outputs": [],
   "source": [
    "song = []"
   ]
  },
  {
   "cell_type": "code",
   "execution_count": 124,
   "id": "f70ed5eb",
   "metadata": {},
   "outputs": [],
   "source": [
    "for i in soup.select (\"li > h3.c-title\"):\n",
    "    song.append(i.get_text(strip=True))\n",
    "    \n",
    "#for i in soup.select (\"li > h3:nth-child(2)\"):\n"
   ]
  },
  {
   "cell_type": "code",
   "execution_count": 125,
   "id": "3b83d23c",
   "metadata": {},
   "outputs": [
    {
     "data": {
      "text/plain": [
       "100"
      ]
     },
     "execution_count": 125,
     "metadata": {},
     "output_type": "execute_result"
    }
   ],
   "source": [
    "len(song)"
   ]
  },
  {
   "cell_type": "code",
   "execution_count": 126,
   "id": "77197578",
   "metadata": {},
   "outputs": [
    {
     "data": {
      "text/plain": [
       "['Last Night',\n",
       " 'Fast Car',\n",
       " 'Calm Down',\n",
       " 'Flowers',\n",
       " 'All My Life',\n",
       " 'Favorite Song',\n",
       " 'Karma',\n",
       " 'Kill Bill',\n",
       " \"Creepin'\",\n",
       " 'Ella Baila Sola',\n",
       " 'Sure Thing',\n",
       " 'Anti-Hero',\n",
       " 'Snooze',\n",
       " 'Something In The Orange',\n",
       " 'Die For You',\n",
       " 'Fukumean',\n",
       " 'Need A Favor',\n",
       " 'Cruel Summer',\n",
       " 'La Bebe',\n",
       " 'You Proof',\n",
       " 'Un x100to',\n",
       " \"Thinkin' Bout Me\",\n",
       " 'Rock And A Hard Place',\n",
       " 'Cupid',\n",
       " 'Search & Rescue',\n",
       " 'Chemical',\n",
       " 'Eyes Closed',\n",
       " 'Next Thing You Know',\n",
       " 'Back To The Moon',\n",
       " 'Where She Goes',\n",
       " 'Attention',\n",
       " \"I'm Good (Blue)\",\n",
       " 'Thought You Should Know',\n",
       " 'Dance The Night',\n",
       " \"Dancin' In The Country\",\n",
       " 'Religiously',\n",
       " \"Boy's A Liar, Pt. 2\",\n",
       " 'Memory Lane',\n",
       " 'Put It On Da Floor Again',\n",
       " 'Area Codes',\n",
       " 'Stand By Me',\n",
       " 'Rodeo Dr',\n",
       " 'Tennessee Orange',\n",
       " 'Bzrp Music Sessions, Vol. 55',\n",
       " 'Love You Anyway',\n",
       " 'One Thing At A Time',\n",
       " 'TQM',\n",
       " 'Players',\n",
       " 'Under The Influence',\n",
       " 'Thank God',\n",
       " 'Back At It',\n",
       " 'Bread & Butter',\n",
       " 'Princess Diana',\n",
       " 'Bye',\n",
       " 'Calling',\n",
       " 'Daylight',\n",
       " 'What It Is (Block Boy)',\n",
       " 'Annihilate',\n",
       " 'Bury Me In Georgia',\n",
       " 'Ca$h $hit',\n",
       " 'Self Love',\n",
       " 'Bottom',\n",
       " 'It Matters To Her',\n",
       " 'Dial Drunk',\n",
       " 'PRC',\n",
       " 'Por Las Noches',\n",
       " 'Mourning',\n",
       " 'Am I Dreaming',\n",
       " 'Waffle House',\n",
       " 'See You Again',\n",
       " 'TQG',\n",
       " 'Your Heart Or Mine',\n",
       " 'Peaches & Eggplants',\n",
       " 'El Azul',\n",
       " 'You, Me, & Whiskey',\n",
       " 'IDK NoMore',\n",
       " 'P Angels',\n",
       " 'Cowgirls',\n",
       " \"Baby Don't Hurt Me\",\n",
       " 'Popular',\n",
       " 'Fight The Feeling',\n",
       " 'Slut Me Out',\n",
       " 'Paybach',\n",
       " 'Plebada',\n",
       " 'Save Me',\n",
       " 'Fragil',\n",
       " 'Jaded',\n",
       " 'ICU',\n",
       " 'Truck Bed',\n",
       " \"Ain't That Some\",\n",
       " 'Shake Sumn',\n",
       " 'Trustfall',\n",
       " 'People',\n",
       " 'Go Crazy',\n",
       " 'Chanel',\n",
       " 'Angel, Pt. 1',\n",
       " 'Girl In Mine',\n",
       " 'Moonlight',\n",
       " 'Classy 101',\n",
       " 'Bluffin']"
      ]
     },
     "execution_count": 126,
     "metadata": {},
     "output_type": "execute_result"
    }
   ],
   "source": [
    "song"
   ]
  },
  {
   "cell_type": "markdown",
   "id": "9c076dcf",
   "metadata": {},
   "source": [
    "### Creating a DataFrame"
   ]
  },
  {
   "cell_type": "code",
   "execution_count": 131,
   "id": "3910f4b0",
   "metadata": {},
   "outputs": [],
   "source": [
    "hotsongs= pd.DataFrame({'artist': artist, 'song': song})"
   ]
  },
  {
   "cell_type": "code",
   "execution_count": 132,
   "id": "fe3506b6",
   "metadata": {},
   "outputs": [
    {
     "data": {
      "text/html": [
       "<div>\n",
       "<style scoped>\n",
       "    .dataframe tbody tr th:only-of-type {\n",
       "        vertical-align: middle;\n",
       "    }\n",
       "\n",
       "    .dataframe tbody tr th {\n",
       "        vertical-align: top;\n",
       "    }\n",
       "\n",
       "    .dataframe thead th {\n",
       "        text-align: right;\n",
       "    }\n",
       "</style>\n",
       "<table border=\"1\" class=\"dataframe\">\n",
       "  <thead>\n",
       "    <tr style=\"text-align: right;\">\n",
       "      <th></th>\n",
       "      <th>artist</th>\n",
       "      <th>song</th>\n",
       "    </tr>\n",
       "  </thead>\n",
       "  <tbody>\n",
       "    <tr>\n",
       "      <th>0</th>\n",
       "      <td>Morgan Wallen</td>\n",
       "      <td>Last Night</td>\n",
       "    </tr>\n",
       "    <tr>\n",
       "      <th>1</th>\n",
       "      <td>Luke Combs</td>\n",
       "      <td>Fast Car</td>\n",
       "    </tr>\n",
       "    <tr>\n",
       "      <th>2</th>\n",
       "      <td>Rema &amp; Selena Gomez</td>\n",
       "      <td>Calm Down</td>\n",
       "    </tr>\n",
       "    <tr>\n",
       "      <th>3</th>\n",
       "      <td>Miley Cyrus</td>\n",
       "      <td>Flowers</td>\n",
       "    </tr>\n",
       "    <tr>\n",
       "      <th>4</th>\n",
       "      <td>Lil Durk Featuring J. Cole</td>\n",
       "      <td>All My Life</td>\n",
       "    </tr>\n",
       "    <tr>\n",
       "      <th>...</th>\n",
       "      <td>...</td>\n",
       "      <td>...</td>\n",
       "    </tr>\n",
       "    <tr>\n",
       "      <th>95</th>\n",
       "      <td>Kodak Black, NLE Choppa, Jimin, JVKE &amp; Muni Long</td>\n",
       "      <td>Angel, Pt. 1</td>\n",
       "    </tr>\n",
       "    <tr>\n",
       "      <th>96</th>\n",
       "      <td>Parmalee</td>\n",
       "      <td>Girl In Mine</td>\n",
       "    </tr>\n",
       "    <tr>\n",
       "      <th>97</th>\n",
       "      <td>Kali Uchis</td>\n",
       "      <td>Moonlight</td>\n",
       "    </tr>\n",
       "    <tr>\n",
       "      <th>98</th>\n",
       "      <td>Feid x Young Miko</td>\n",
       "      <td>Classy 101</td>\n",
       "    </tr>\n",
       "    <tr>\n",
       "      <th>99</th>\n",
       "      <td>Gucci Mane &amp; Lil Baby</td>\n",
       "      <td>Bluffin</td>\n",
       "    </tr>\n",
       "  </tbody>\n",
       "</table>\n",
       "<p>100 rows × 2 columns</p>\n",
       "</div>"
      ],
      "text/plain": [
       "                                              artist          song\n",
       "0                                      Morgan Wallen    Last Night\n",
       "1                                         Luke Combs      Fast Car\n",
       "2                                Rema & Selena Gomez     Calm Down\n",
       "3                                        Miley Cyrus       Flowers\n",
       "4                         Lil Durk Featuring J. Cole   All My Life\n",
       "..                                               ...           ...\n",
       "95  Kodak Black, NLE Choppa, Jimin, JVKE & Muni Long  Angel, Pt. 1\n",
       "96                                          Parmalee  Girl In Mine\n",
       "97                                        Kali Uchis     Moonlight\n",
       "98                                 Feid x Young Miko    Classy 101\n",
       "99                             Gucci Mane & Lil Baby       Bluffin\n",
       "\n",
       "[100 rows x 2 columns]"
      ]
     },
     "execution_count": 132,
     "metadata": {},
     "output_type": "execute_result"
    }
   ],
   "source": [
    "hotsongs"
   ]
  },
  {
   "cell_type": "code",
   "execution_count": 149,
   "id": "ddbf79e4",
   "metadata": {},
   "outputs": [],
   "source": [
    "#def lower_case_column_song(df):\n",
    "   # hotsongs.columns=[i.lower() for i in hotsongs.columns]\n",
    "    #return hotsongs\n",
    "\n"
   ]
  },
  {
   "cell_type": "code",
   "execution_count": 150,
   "id": "21af788d",
   "metadata": {},
   "outputs": [],
   "source": [
    "#lower_case_column_song(hotsongs)"
   ]
  },
  {
   "cell_type": "code",
   "execution_count": null,
   "id": "36df8d97",
   "metadata": {},
   "outputs": [],
   "source": [
    "To get lower case for the values INSIDE of the dataframe"
   ]
  },
  {
   "cell_type": "code",
   "execution_count": 151,
   "id": "57b994d1",
   "metadata": {},
   "outputs": [],
   "source": [
    "df_lower = hotsongs.applymap(lambda x: x.lower() if isinstance(x, str) else x)"
   ]
  },
  {
   "cell_type": "code",
   "execution_count": 152,
   "id": "9224e5b7",
   "metadata": {},
   "outputs": [
    {
     "data": {
      "text/html": [
       "<div>\n",
       "<style scoped>\n",
       "    .dataframe tbody tr th:only-of-type {\n",
       "        vertical-align: middle;\n",
       "    }\n",
       "\n",
       "    .dataframe tbody tr th {\n",
       "        vertical-align: top;\n",
       "    }\n",
       "\n",
       "    .dataframe thead th {\n",
       "        text-align: right;\n",
       "    }\n",
       "</style>\n",
       "<table border=\"1\" class=\"dataframe\">\n",
       "  <thead>\n",
       "    <tr style=\"text-align: right;\">\n",
       "      <th></th>\n",
       "      <th>artist</th>\n",
       "      <th>song</th>\n",
       "    </tr>\n",
       "  </thead>\n",
       "  <tbody>\n",
       "    <tr>\n",
       "      <th>0</th>\n",
       "      <td>morgan wallen</td>\n",
       "      <td>last night</td>\n",
       "    </tr>\n",
       "    <tr>\n",
       "      <th>1</th>\n",
       "      <td>luke combs</td>\n",
       "      <td>fast car</td>\n",
       "    </tr>\n",
       "    <tr>\n",
       "      <th>2</th>\n",
       "      <td>rema &amp; selena gomez</td>\n",
       "      <td>calm down</td>\n",
       "    </tr>\n",
       "    <tr>\n",
       "      <th>3</th>\n",
       "      <td>miley cyrus</td>\n",
       "      <td>flowers</td>\n",
       "    </tr>\n",
       "    <tr>\n",
       "      <th>4</th>\n",
       "      <td>lil durk featuring j. cole</td>\n",
       "      <td>all my life</td>\n",
       "    </tr>\n",
       "    <tr>\n",
       "      <th>...</th>\n",
       "      <td>...</td>\n",
       "      <td>...</td>\n",
       "    </tr>\n",
       "    <tr>\n",
       "      <th>95</th>\n",
       "      <td>kodak black, nle choppa, jimin, jvke &amp; muni long</td>\n",
       "      <td>angel, pt. 1</td>\n",
       "    </tr>\n",
       "    <tr>\n",
       "      <th>96</th>\n",
       "      <td>parmalee</td>\n",
       "      <td>girl in mine</td>\n",
       "    </tr>\n",
       "    <tr>\n",
       "      <th>97</th>\n",
       "      <td>kali uchis</td>\n",
       "      <td>moonlight</td>\n",
       "    </tr>\n",
       "    <tr>\n",
       "      <th>98</th>\n",
       "      <td>feid x young miko</td>\n",
       "      <td>classy 101</td>\n",
       "    </tr>\n",
       "    <tr>\n",
       "      <th>99</th>\n",
       "      <td>gucci mane &amp; lil baby</td>\n",
       "      <td>bluffin</td>\n",
       "    </tr>\n",
       "  </tbody>\n",
       "</table>\n",
       "<p>100 rows × 2 columns</p>\n",
       "</div>"
      ],
      "text/plain": [
       "                                              artist          song\n",
       "0                                      morgan wallen    last night\n",
       "1                                         luke combs      fast car\n",
       "2                                rema & selena gomez     calm down\n",
       "3                                        miley cyrus       flowers\n",
       "4                         lil durk featuring j. cole   all my life\n",
       "..                                               ...           ...\n",
       "95  kodak black, nle choppa, jimin, jvke & muni long  angel, pt. 1\n",
       "96                                          parmalee  girl in mine\n",
       "97                                        kali uchis     moonlight\n",
       "98                                 feid x young miko    classy 101\n",
       "99                             gucci mane & lil baby       bluffin\n",
       "\n",
       "[100 rows x 2 columns]"
      ]
     },
     "execution_count": 152,
     "metadata": {},
     "output_type": "execute_result"
    }
   ],
   "source": [
    "df_lower"
   ]
  },
  {
   "cell_type": "markdown",
   "id": "a2638995",
   "metadata": {},
   "source": [
    "### saving in excel"
   ]
  },
  {
   "cell_type": "code",
   "execution_count": 129,
   "id": "249c0c03",
   "metadata": {},
   "outputs": [],
   "source": [
    "#hotsongs_file = 'hotsongs.xlsx'\n",
    "#Hotsongs.to_excel(hotsongs_file, index=False)"
   ]
  },
  {
   "cell_type": "code",
   "execution_count": 133,
   "id": "45593978",
   "metadata": {},
   "outputs": [],
   "source": [
    "hotsongs.to_csv(\"hotsongs_file.csv\",index=False)"
   ]
  },
  {
   "cell_type": "code",
   "execution_count": 153,
   "id": "11a5d6aa",
   "metadata": {},
   "outputs": [],
   "source": [
    "df_lower.to_csv(\"df_lower_file.csv\",index=False)"
   ]
  },
  {
   "cell_type": "markdown",
   "id": "59886a5b",
   "metadata": {},
   "source": [
    "### Creating the Progra,"
   ]
  },
  {
   "cell_type": "code",
   "execution_count": 155,
   "id": "2756f9f3",
   "metadata": {
    "scrolled": true
   },
   "outputs": [
    {
     "name": "stdout",
     "output_type": "stream",
     "text": [
      "Enter a song name please: Last Night\n",
      "The song Last Night exists in the DataFrame.\n"
     ]
    }
   ],
   "source": [
    "\n",
    "# Ask the user for a song name\n",
    "song_name = input(\"Enter a song name please: \")\n",
    "\n",
    "song_found = False\n",
    "\n",
    "\n",
    "for index, row in hotsongs.iterrows():\n",
    "    if row[\"song\"] == song_name:\n",
    "        song_found = True\n",
    "        \n",
    "        break\n",
    "    else:\n",
    "        print(\"The song\", song_name, \"does not exist in the DataFrame.\")\n",
    "\n",
    "        \n",
    "        \n",
    "# Check if the song was found or not\n",
    "if song_found:\n",
    "    print(\"The song\", song_name, \"exists in the DataFrame.\")\n",
    "else:\n",
    "    print(\"The song\", song_name, \"does not exist in the DataFrame.\")        \n"
   ]
  },
  {
   "cell_type": "code",
   "execution_count": null,
   "id": "bdf9cc18",
   "metadata": {},
   "outputs": [],
   "source": [
    "# Ask the user for a song name\n",
    "song_name = input(\"Enter a song name please: \")\n",
    "\n",
    "song_name_lower = song_name.lower()\n",
    "\n",
    "song_found = False\n",
    "\n",
    "\n",
    "for index, row in df_lower.iterrows():\n",
    "    if row[\"song\"] == song_name_lower:\n",
    "        song_found = True\n",
    "        \n",
    "        break\n",
    "    else:\n",
    "        print(\"The song\", song_name, \"does not exist in the DataFrame.\")\n",
    "\n",
    "        \n",
    "        \n",
    "# Check if the song was found or not\n",
    "if song_found:\n",
    "    print(\"The song\", song_name, \"exists in the DataFrame.\")\n",
    "else:\n",
    "    print(\"The song\", song_name, \"does not exist in the DataFrame.\")  \n",
    "    \n",
    "    "
   ]
  },
  {
   "cell_type": "code",
   "execution_count": 141,
   "id": "8927176f",
   "metadata": {},
   "outputs": [
    {
     "ename": "IndentationError",
     "evalue": "unexpected indent (906238998.py, line 11)",
     "output_type": "error",
     "traceback": [
      "\u001b[1;36m  File \u001b[1;32m\"C:\\Users\\espan\\AppData\\Local\\Temp\\ipykernel_26840\\906238998.py\"\u001b[1;36m, line \u001b[1;32m11\u001b[0m\n\u001b[1;33m    print(\"your song is in the Bilboard Hot 100\")\u001b[0m\n\u001b[1;37m    ^\u001b[0m\n\u001b[1;31mIndentationError\u001b[0m\u001b[1;31m:\u001b[0m unexpected indent\n"
     ]
    }
   ],
   "source": [
    "\n",
    "# Ask the user for a song name\n",
    "song_name = input(\"Enter a song please: \")\n",
    "\n",
    "song_found = False\n",
    "\n",
    "\n",
    "for index, row in hotsongs.iterrows():\n",
    "    if row[\"song\"] == song_name:\n",
    "        song_found = True\n",
    "               \n",
    "                print(\"your song is in the Bilboard Hot 100\")\n",
    "        \n",
    "                song_name2= input(\"Please enter a second song:\")\n",
    "               \n",
    "                  if row[\"song\"] == song_name2:\n",
    "                       \n",
    "                         song_found = True\n",
    "                           \n",
    "                            break\n",
    "        \n",
    "        break\n",
    "    else:\n",
    "        print(\"The song\", song_name, \"does not exist in the DataFrame.\")\n",
    "\n",
    "        \n",
    "        \n",
    "# Check if the song was found or not\n",
    "if song_found:\n",
    "    print(\"The song\", song_name, \"exists in the DataFrame.\")\n",
    "else:\n",
    "    print(\"The song\", song_name, \"does not exist in the DataFrame.\")        \n"
   ]
  },
  {
   "cell_type": "code",
   "execution_count": null,
   "id": "1c1a3c29",
   "metadata": {},
   "outputs": [],
   "source": []
  },
  {
   "cell_type": "code",
   "execution_count": null,
   "id": "0110ce89",
   "metadata": {},
   "outputs": [],
   "source": []
  },
  {
   "cell_type": "code",
   "execution_count": null,
   "id": "b7a4e697",
   "metadata": {},
   "outputs": [],
   "source": [
    "user_song = input(\"Enter a title_name: \")\n",
    "\n",
    "hotsongs['song'] = hotsongs['song'].astype(str)\n",
    "\n",
    "hot_song = hotsongs[hotsongs['song'] .str.lower() == user_song.lower()]\n",
    "\n",
    "if not hot_song.empty:\n",
    "    \n",
    "    \n",
    "    print(\"Yes, it is currently hot!\")\n",
    "    \n",
    "    \n",
    "    # Recommendation logic here\n",
    "    \n",
    "    \n",
    "    \n",
    "    recommendation = hotsongs.sample(n=1)  # Sample a random hot song as a recommendation\n",
    "    print(\"Recommendation:\", recommendation[\"song\"].values[0], \"by\", recommendation[\"artist\"].values[0])\n",
    "else:\n",
    "    print(\"No, it is not currently hot.\")"
   ]
  },
  {
   "cell_type": "code",
   "execution_count": null,
   "id": "0c0eaac5",
   "metadata": {},
   "outputs": [],
   "source": []
  },
  {
   "cell_type": "code",
   "execution_count": null,
   "id": "1f58321f",
   "metadata": {},
   "outputs": [],
   "source": [
    "song_name = input(\"Enter a song please: \").lower()\n",
    "\n",
    "if t"
   ]
  },
  {
   "cell_type": "code",
   "execution_count": null,
   "id": "b483bd5c",
   "metadata": {},
   "outputs": [],
   "source": []
  }
 ],
 "metadata": {
  "kernelspec": {
   "display_name": "Python 3 (ipykernel)",
   "language": "python",
   "name": "python3"
  },
  "language_info": {
   "codemirror_mode": {
    "name": "ipython",
    "version": 3
   },
   "file_extension": ".py",
   "mimetype": "text/x-python",
   "name": "python",
   "nbconvert_exporter": "python",
   "pygments_lexer": "ipython3",
   "version": "3.9.13"
  }
 },
 "nbformat": 4,
 "nbformat_minor": 5
}
