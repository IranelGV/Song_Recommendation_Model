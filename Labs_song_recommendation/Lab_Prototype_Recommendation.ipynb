{
 "cells": [
  {
   "cell_type": "code",
   "execution_count": 1,
   "id": "e4f5c846",
   "metadata": {},
   "outputs": [],
   "source": [
    "import requests # to download html code\n",
    "from bs4 import BeautifulSoup # to navigate through the html code\n",
    "import pandas as pd\n",
    "import numpy as np\n",
    "import re\n",
    "import pandas as pd\n",
    "import random"
   ]
  },
  {
   "cell_type": "code",
   "execution_count": 2,
   "id": "fdc4c667",
   "metadata": {},
   "outputs": [],
   "source": [
    "df= pd.read_csv(\"hotsongs_file.csv\")"
   ]
  },
  {
   "cell_type": "code",
   "execution_count": 3,
   "id": "1a2a876a",
   "metadata": {},
   "outputs": [
    {
     "data": {
      "text/html": [
       "<div>\n",
       "<style scoped>\n",
       "    .dataframe tbody tr th:only-of-type {\n",
       "        vertical-align: middle;\n",
       "    }\n",
       "\n",
       "    .dataframe tbody tr th {\n",
       "        vertical-align: top;\n",
       "    }\n",
       "\n",
       "    .dataframe thead th {\n",
       "        text-align: right;\n",
       "    }\n",
       "</style>\n",
       "<table border=\"1\" class=\"dataframe\">\n",
       "  <thead>\n",
       "    <tr style=\"text-align: right;\">\n",
       "      <th></th>\n",
       "      <th>artist</th>\n",
       "      <th>song</th>\n",
       "    </tr>\n",
       "  </thead>\n",
       "  <tbody>\n",
       "    <tr>\n",
       "      <th>0</th>\n",
       "      <td>Morgan Wallen</td>\n",
       "      <td>Last Night</td>\n",
       "    </tr>\n",
       "    <tr>\n",
       "      <th>1</th>\n",
       "      <td>Luke Combs</td>\n",
       "      <td>Fast Car</td>\n",
       "    </tr>\n",
       "    <tr>\n",
       "      <th>2</th>\n",
       "      <td>Rema &amp; Selena Gomez</td>\n",
       "      <td>Calm Down</td>\n",
       "    </tr>\n",
       "    <tr>\n",
       "      <th>3</th>\n",
       "      <td>Miley Cyrus</td>\n",
       "      <td>Flowers</td>\n",
       "    </tr>\n",
       "    <tr>\n",
       "      <th>4</th>\n",
       "      <td>Lil Durk Featuring J. Cole</td>\n",
       "      <td>All My Life</td>\n",
       "    </tr>\n",
       "    <tr>\n",
       "      <th>...</th>\n",
       "      <td>...</td>\n",
       "      <td>...</td>\n",
       "    </tr>\n",
       "    <tr>\n",
       "      <th>95</th>\n",
       "      <td>Kodak Black, NLE Choppa, Jimin, JVKE &amp; Muni Long</td>\n",
       "      <td>Angel, Pt. 1</td>\n",
       "    </tr>\n",
       "    <tr>\n",
       "      <th>96</th>\n",
       "      <td>Parmalee</td>\n",
       "      <td>Girl In Mine</td>\n",
       "    </tr>\n",
       "    <tr>\n",
       "      <th>97</th>\n",
       "      <td>Kali Uchis</td>\n",
       "      <td>Moonlight</td>\n",
       "    </tr>\n",
       "    <tr>\n",
       "      <th>98</th>\n",
       "      <td>Feid x Young Miko</td>\n",
       "      <td>Classy 101</td>\n",
       "    </tr>\n",
       "    <tr>\n",
       "      <th>99</th>\n",
       "      <td>Gucci Mane &amp; Lil Baby</td>\n",
       "      <td>Bluffin</td>\n",
       "    </tr>\n",
       "  </tbody>\n",
       "</table>\n",
       "<p>100 rows × 2 columns</p>\n",
       "</div>"
      ],
      "text/plain": [
       "                                              artist          song\n",
       "0                                      Morgan Wallen    Last Night\n",
       "1                                         Luke Combs      Fast Car\n",
       "2                                Rema & Selena Gomez     Calm Down\n",
       "3                                        Miley Cyrus       Flowers\n",
       "4                         Lil Durk Featuring J. Cole   All My Life\n",
       "..                                               ...           ...\n",
       "95  Kodak Black, NLE Choppa, Jimin, JVKE & Muni Long  Angel, Pt. 1\n",
       "96                                          Parmalee  Girl In Mine\n",
       "97                                        Kali Uchis     Moonlight\n",
       "98                                 Feid x Young Miko    Classy 101\n",
       "99                             Gucci Mane & Lil Baby       Bluffin\n",
       "\n",
       "[100 rows x 2 columns]"
      ]
     },
     "execution_count": 3,
     "metadata": {},
     "output_type": "execute_result"
    }
   ],
   "source": [
    "df"
   ]
  },
  {
   "cell_type": "code",
   "execution_count": null,
   "id": "7247b3b3",
   "metadata": {},
   "outputs": [],
   "source": []
  },
  {
   "cell_type": "code",
   "execution_count": 5,
   "id": "5ea7a596",
   "metadata": {},
   "outputs": [
    {
     "name": "stdout",
     "output_type": "stream",
     "text": [
      "Enter your favorite song name: last night\n",
      "your song is in the Bilboard Hot 100\n",
      "I will provide you a recommendation from this Billboard Hot list: plebada\n"
     ]
    }
   ],
   "source": [
    "# Convert the 'Song' column values to lowercase\n",
    "\n",
    "\n",
    "df[\"song\"] = df[\"song\"].str.lower()\n",
    "\n",
    "# Ask the user for a song name\n",
    "\n",
    "song_name = input(\"Enter your favorite song name: \")\n",
    "\n",
    "\n",
    "# Convert the user's input to lowercase\n",
    "song_name_lower = song_name.lower()\n",
    "\n",
    "song_found = False\n",
    "\n",
    "\n",
    "# Perform a case-insensitive search\n",
    "matching_songs = df[df[\"song\"].str.contains(song_name_lower, case=False)]\n",
    "\n",
    "\n",
    "for index, row in df.iterrows():\n",
    "    \n",
    "    if row[\"song\"] == song_name_lower:\n",
    "        song_found = True\n",
    "        print(\"your song is in the Bilboard Hot 100\")\n",
    "        \n",
    "        random_music = random.choice(df[\"song\"])\n",
    "        \n",
    "        print(\"I will provide you a recommendation from this Billboard Hot list:\",random_music )\n",
    "        \n",
    "    elif song_found == False:\n",
    "  \n",
    "        print(\"The song\", song_name, \"is not in the  Hot Billboard song.\")\n",
    "    break\n",
    "                    \n",
    "\n",
    "        "
   ]
  },
  {
   "cell_type": "code",
   "execution_count": null,
   "id": "a6f286ce",
   "metadata": {},
   "outputs": [],
   "source": []
  },
  {
   "cell_type": "code",
   "execution_count": null,
   "id": "11a61475",
   "metadata": {},
   "outputs": [],
   "source": []
  },
  {
   "cell_type": "code",
   "execution_count": null,
   "id": "ab780818",
   "metadata": {},
   "outputs": [],
   "source": []
  }
 ],
 "metadata": {
  "kernelspec": {
   "display_name": "Python 3 (ipykernel)",
   "language": "python",
   "name": "python3"
  },
  "language_info": {
   "codemirror_mode": {
    "name": "ipython",
    "version": 3
   },
   "file_extension": ".py",
   "mimetype": "text/x-python",
   "name": "python",
   "nbconvert_exporter": "python",
   "pygments_lexer": "ipython3",
   "version": "3.9.13"
  }
 },
 "nbformat": 4,
 "nbformat_minor": 5
}
