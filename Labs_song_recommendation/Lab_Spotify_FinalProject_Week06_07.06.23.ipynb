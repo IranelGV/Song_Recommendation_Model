{
 "cells": [
  {
   "cell_type": "markdown",
   "id": "2f17f28c",
   "metadata": {},
   "source": [
    "   ## Importing Libraries"
   ]
  },
  {
   "cell_type": "code",
   "execution_count": 1,
   "id": "c46a0d7f",
   "metadata": {},
   "outputs": [],
   "source": [
    "import matplotlib.pyplot as plt\n",
    "import pandas as pd\n",
    "import numpy as np\n",
    "import pickle\n",
    "import config\n",
    "import random\n",
    "\n",
    "from sklearn import datasets # sklearn comes with some toy datasets to practice\n",
    "from sklearn.preprocessing import StandardScaler\n",
    "from sklearn.cluster import KMeans\n",
    "from matplotlib import pyplot\n",
    "from sklearn.metrics import silhouette_score\n",
    "from PIL import Image\n",
    "\n",
    "from IPython.display import display\n",
    "\n",
    "\n",
    "%matplotlib inline"
   ]
  },
  {
   "cell_type": "code",
   "execution_count": 2,
   "id": "098f1b50",
   "metadata": {},
   "outputs": [
    {
     "data": {
      "image/png": "[encoded data removed]",
      "text/plain": [
       "<Figure size 640x480 with 1 Axes>"
      ]
     },
     "metadata": {},
     "output_type": "display_data"
    }
   ],
   "source": [
    "image = Image.open(\"Spotify_Logo.png\")\n",
    "plt.imshow(image)\n",
    "plt.axis('off')\n",
    "plt.show()"
   ]
  },
  {
   "cell_type": "code",
   "execution_count": 5,
   "id": "ffdb654f",
   "metadata": {},
   "outputs": [],
   "source": [
    "df= pd.read_csv(\"My_spotify_df.csv\")\n",
    "\n"
   ]
  },
  {
   "cell_type": "code",
   "execution_count": 6,
   "id": "33f72e99",
   "metadata": {},
   "outputs": [
    {
     "data": {
      "text/html": [
       "<div>\n",
       "<style scoped>\n",
       "    .dataframe tbody tr th:only-of-type {\n",
       "        vertical-align: middle;\n",
       "    }\n",
       "\n",
       "    .dataframe tbody tr th {\n",
       "        vertical-align: top;\n",
       "    }\n",
       "\n",
       "    .dataframe thead th {\n",
       "        text-align: right;\n",
       "    }\n",
       "</style>\n",
       "<table border=\"1\" class=\"dataframe\">\n",
       "  <thead>\n",
       "    <tr style=\"text-align: right;\">\n",
       "      <th></th>\n",
       "      <th>danceability</th>\n",
       "      <th>energy</th>\n",
       "      <th>key</th>\n",
       "      <th>loudness</th>\n",
       "      <th>mode</th>\n",
       "      <th>speechiness</th>\n",
       "      <th>acousticness</th>\n",
       "      <th>instrumentalness</th>\n",
       "      <th>liveness</th>\n",
       "      <th>valence</th>\n",
       "      <th>tempo</th>\n",
       "      <th>type</th>\n",
       "      <th>id</th>\n",
       "      <th>uri</th>\n",
       "      <th>track_href</th>\n",
       "      <th>analysis_url</th>\n",
       "      <th>duration_ms</th>\n",
       "      <th>time_signature</th>\n",
       "    </tr>\n",
       "  </thead>\n",
       "  <tbody>\n",
       "    <tr>\n",
       "      <th>0</th>\n",
       "      <td>0.213</td>\n",
       "      <td>0.06560</td>\n",
       "      <td>7</td>\n",
       "      <td>-24.810</td>\n",
       "      <td>1</td>\n",
       "      <td>0.0467</td>\n",
       "      <td>0.992</td>\n",
       "      <td>0.969000</td>\n",
       "      <td>0.0699</td>\n",
       "      <td>0.0384</td>\n",
       "      <td>65.023</td>\n",
       "      <td>audio_features</td>\n",
       "      <td>3U8Fx7zNTQrctytkj6Gqgd</td>\n",
       "      <td>spotify:track:3U8Fx7zNTQrctytkj6Gqgd</td>\n",
       "      <td>https://api.spotify.com/v1/tracks/3U8Fx7zNTQrc...</td>\n",
       "      <td>https://api.spotify.com/v1/audio-analysis/3U8F...</td>\n",
       "      <td>150147</td>\n",
       "      <td>3</td>\n",
       "    </tr>\n",
       "    <tr>\n",
       "      <th>1</th>\n",
       "      <td>0.330</td>\n",
       "      <td>0.00357</td>\n",
       "      <td>3</td>\n",
       "      <td>-33.142</td>\n",
       "      <td>1</td>\n",
       "      <td>0.0339</td>\n",
       "      <td>0.995</td>\n",
       "      <td>0.953000</td>\n",
       "      <td>0.0989</td>\n",
       "      <td>0.1210</td>\n",
       "      <td>100.741</td>\n",
       "      <td>audio_features</td>\n",
       "      <td>6MzbO6YS0M6tjwT93hjAl0</td>\n",
       "      <td>spotify:track:6MzbO6YS0M6tjwT93hjAl0</td>\n",
       "      <td>https://api.spotify.com/v1/tracks/6MzbO6YS0M6t...</td>\n",
       "      <td>https://api.spotify.com/v1/audio-analysis/6Mzb...</td>\n",
       "      <td>216213</td>\n",
       "      <td>3</td>\n",
       "    </tr>\n",
       "    <tr>\n",
       "      <th>2</th>\n",
       "      <td>0.368</td>\n",
       "      <td>0.00363</td>\n",
       "      <td>1</td>\n",
       "      <td>-36.759</td>\n",
       "      <td>1</td>\n",
       "      <td>0.0350</td>\n",
       "      <td>0.993</td>\n",
       "      <td>0.922000</td>\n",
       "      <td>0.1370</td>\n",
       "      <td>0.0850</td>\n",
       "      <td>69.363</td>\n",
       "      <td>audio_features</td>\n",
       "      <td>1L4NadMj3Jj7YgGaikyhfr</td>\n",
       "      <td>spotify:track:1L4NadMj3Jj7YgGaikyhfr</td>\n",
       "      <td>https://api.spotify.com/v1/tracks/1L4NadMj3Jj7...</td>\n",
       "      <td>https://api.spotify.com/v1/audio-analysis/1L4N...</td>\n",
       "      <td>254000</td>\n",
       "      <td>3</td>\n",
       "    </tr>\n",
       "    <tr>\n",
       "      <th>3</th>\n",
       "      <td>0.320</td>\n",
       "      <td>0.00501</td>\n",
       "      <td>1</td>\n",
       "      <td>-33.366</td>\n",
       "      <td>1</td>\n",
       "      <td>0.0455</td>\n",
       "      <td>0.993</td>\n",
       "      <td>0.919000</td>\n",
       "      <td>0.0618</td>\n",
       "      <td>0.0383</td>\n",
       "      <td>68.947</td>\n",
       "      <td>audio_features</td>\n",
       "      <td>3hCPh4oVVjaM8tv9sFH8cx</td>\n",
       "      <td>spotify:track:3hCPh4oVVjaM8tv9sFH8cx</td>\n",
       "      <td>https://api.spotify.com/v1/tracks/3hCPh4oVVjaM...</td>\n",
       "      <td>https://api.spotify.com/v1/audio-analysis/3hCP...</td>\n",
       "      <td>294960</td>\n",
       "      <td>5</td>\n",
       "    </tr>\n",
       "    <tr>\n",
       "      <th>4</th>\n",
       "      <td>0.701</td>\n",
       "      <td>0.34100</td>\n",
       "      <td>1</td>\n",
       "      <td>-12.260</td>\n",
       "      <td>0</td>\n",
       "      <td>0.0418</td>\n",
       "      <td>0.499</td>\n",
       "      <td>0.903000</td>\n",
       "      <td>0.3590</td>\n",
       "      <td>0.1630</td>\n",
       "      <td>105.513</td>\n",
       "      <td>audio_features</td>\n",
       "      <td>5xbuJuQsTVheVZvX2AJVIv</td>\n",
       "      <td>spotify:track:5xbuJuQsTVheVZvX2AJVIv</td>\n",
       "      <td>https://api.spotify.com/v1/tracks/5xbuJuQsTVhe...</td>\n",
       "      <td>https://api.spotify.com/v1/audio-analysis/5xbu...</td>\n",
       "      <td>151507</td>\n",
       "      <td>3</td>\n",
       "    </tr>\n",
       "    <tr>\n",
       "      <th>...</th>\n",
       "      <td>...</td>\n",
       "      <td>...</td>\n",
       "      <td>...</td>\n",
       "      <td>...</td>\n",
       "      <td>...</td>\n",
       "      <td>...</td>\n",
       "      <td>...</td>\n",
       "      <td>...</td>\n",
       "      <td>...</td>\n",
       "      <td>...</td>\n",
       "      <td>...</td>\n",
       "      <td>...</td>\n",
       "      <td>...</td>\n",
       "      <td>...</td>\n",
       "      <td>...</td>\n",
       "      <td>...</td>\n",
       "      <td>...</td>\n",
       "      <td>...</td>\n",
       "    </tr>\n",
       "    <tr>\n",
       "      <th>8076</th>\n",
       "      <td>0.326</td>\n",
       "      <td>0.09020</td>\n",
       "      <td>7</td>\n",
       "      <td>-20.588</td>\n",
       "      <td>1</td>\n",
       "      <td>0.0344</td>\n",
       "      <td>0.647</td>\n",
       "      <td>0.000910</td>\n",
       "      <td>0.1980</td>\n",
       "      <td>0.2180</td>\n",
       "      <td>137.611</td>\n",
       "      <td>audio_features</td>\n",
       "      <td>3his1UkcI0rwrniPDR9kTj</td>\n",
       "      <td>spotify:track:3his1UkcI0rwrniPDR9kTj</td>\n",
       "      <td>https://api.spotify.com/v1/tracks/3his1UkcI0rw...</td>\n",
       "      <td>https://api.spotify.com/v1/audio-analysis/3his...</td>\n",
       "      <td>219493</td>\n",
       "      <td>4</td>\n",
       "    </tr>\n",
       "    <tr>\n",
       "      <th>8077</th>\n",
       "      <td>0.266</td>\n",
       "      <td>0.34500</td>\n",
       "      <td>10</td>\n",
       "      <td>-11.484</td>\n",
       "      <td>1</td>\n",
       "      <td>0.0309</td>\n",
       "      <td>0.376</td>\n",
       "      <td>0.000019</td>\n",
       "      <td>0.1030</td>\n",
       "      <td>0.1990</td>\n",
       "      <td>145.980</td>\n",
       "      <td>audio_features</td>\n",
       "      <td>1aRncYBtdizYoVKcSt8oaY</td>\n",
       "      <td>spotify:track:1aRncYBtdizYoVKcSt8oaY</td>\n",
       "      <td>https://api.spotify.com/v1/tracks/1aRncYBtdizY...</td>\n",
       "      <td>https://api.spotify.com/v1/audio-analysis/1aRn...</td>\n",
       "      <td>176893</td>\n",
       "      <td>4</td>\n",
       "    </tr>\n",
       "    <tr>\n",
       "      <th>8078</th>\n",
       "      <td>0.364</td>\n",
       "      <td>0.12600</td>\n",
       "      <td>7</td>\n",
       "      <td>-18.071</td>\n",
       "      <td>1</td>\n",
       "      <td>0.0286</td>\n",
       "      <td>0.862</td>\n",
       "      <td>0.000203</td>\n",
       "      <td>0.0969</td>\n",
       "      <td>0.4300</td>\n",
       "      <td>90.429</td>\n",
       "      <td>audio_features</td>\n",
       "      <td>0VdcSHXCPRfQQZYQPXSlZ9</td>\n",
       "      <td>spotify:track:0VdcSHXCPRfQQZYQPXSlZ9</td>\n",
       "      <td>https://api.spotify.com/v1/tracks/0VdcSHXCPRfQ...</td>\n",
       "      <td>https://api.spotify.com/v1/audio-analysis/0Vdc...</td>\n",
       "      <td>189427</td>\n",
       "      <td>4</td>\n",
       "    </tr>\n",
       "    <tr>\n",
       "      <th>8079</th>\n",
       "      <td>0.333</td>\n",
       "      <td>0.50900</td>\n",
       "      <td>0</td>\n",
       "      <td>-7.191</td>\n",
       "      <td>1</td>\n",
       "      <td>0.0310</td>\n",
       "      <td>0.808</td>\n",
       "      <td>0.000225</td>\n",
       "      <td>0.1070</td>\n",
       "      <td>0.2190</td>\n",
       "      <td>122.917</td>\n",
       "      <td>audio_features</td>\n",
       "      <td>7FWSMnxbNWGQXS7Jz1Uxqg</td>\n",
       "      <td>spotify:track:7FWSMnxbNWGQXS7Jz1Uxqg</td>\n",
       "      <td>https://api.spotify.com/v1/tracks/7FWSMnxbNWGQ...</td>\n",
       "      <td>https://api.spotify.com/v1/audio-analysis/7FWS...</td>\n",
       "      <td>161693</td>\n",
       "      <td>4</td>\n",
       "    </tr>\n",
       "    <tr>\n",
       "      <th>8080</th>\n",
       "      <td>0.332</td>\n",
       "      <td>0.42900</td>\n",
       "      <td>7</td>\n",
       "      <td>-8.376</td>\n",
       "      <td>1</td>\n",
       "      <td>0.0287</td>\n",
       "      <td>0.356</td>\n",
       "      <td>0.000032</td>\n",
       "      <td>0.0619</td>\n",
       "      <td>0.2390</td>\n",
       "      <td>128.073</td>\n",
       "      <td>audio_features</td>\n",
       "      <td>2QDnRMFfnes9DUWc6HgixI</td>\n",
       "      <td>spotify:track:2QDnRMFfnes9DUWc6HgixI</td>\n",
       "      <td>https://api.spotify.com/v1/tracks/2QDnRMFfnes9...</td>\n",
       "      <td>https://api.spotify.com/v1/audio-analysis/2QDn...</td>\n",
       "      <td>220520</td>\n",
       "      <td>4</td>\n",
       "    </tr>\n",
       "  </tbody>\n",
       "</table>\n",
       "<p>8081 rows × 18 columns</p>\n",
       "</div>"
      ],
      "text/plain": [
       "      danceability   energy  key  loudness  mode  speechiness  acousticness  \\\n",
       "0            0.213  0.06560    7   -24.810     1       0.0467         0.992   \n",
       "1            0.330  0.00357    3   -33.142     1       0.0339         0.995   \n",
       "2            0.368  0.00363    1   -36.759     1       0.0350         0.993   \n",
       "3            0.320  0.00501    1   -33.366     1       0.0455         0.993   \n",
       "4            0.701  0.34100    1   -12.260     0       0.0418         0.499   \n",
       "...            ...      ...  ...       ...   ...          ...           ...   \n",
       "8076         0.326  0.09020    7   -20.588     1       0.0344         0.647   \n",
       "8077         0.266  0.34500   10   -11.484     1       0.0309         0.376   \n",
       "8078         0.364  0.12600    7   -18.071     1       0.0286         0.862   \n",
       "8079         0.333  0.50900    0    -7.191     1       0.0310         0.808   \n",
       "8080         0.332  0.42900    7    -8.376     1       0.0287         0.356   \n",
       "\n",
       "      instrumentalness  liveness  valence    tempo            type  \\\n",
       "0             0.969000    0.0699   0.0384   65.023  audio_features   \n",
       "1             0.953000    0.0989   0.1210  100.741  audio_features   \n",
       "2             0.922000    0.1370   0.0850   69.363  audio_features   \n",
       "3             0.919000    0.0618   0.0383   68.947  audio_features   \n",
       "4             0.903000    0.3590   0.1630  105.513  audio_features   \n",
       "...                ...       ...      ...      ...             ...   \n",
       "8076          0.000910    0.1980   0.2180  137.611  audio_features   \n",
       "8077          0.000019    0.1030   0.1990  145.980  audio_features   \n",
       "8078          0.000203    0.0969   0.4300   90.429  audio_features   \n",
       "8079          0.000225    0.1070   0.2190  122.917  audio_features   \n",
       "8080          0.000032    0.0619   0.2390  128.073  audio_features   \n",
       "\n",
       "                          id                                   uri  \\\n",
       "0     3U8Fx7zNTQrctytkj6Gqgd  spotify:track:3U8Fx7zNTQrctytkj6Gqgd   \n",
       "1     6MzbO6YS0M6tjwT93hjAl0  spotify:track:6MzbO6YS0M6tjwT93hjAl0   \n",
       "2     1L4NadMj3Jj7YgGaikyhfr  spotify:track:1L4NadMj3Jj7YgGaikyhfr   \n",
       "3     3hCPh4oVVjaM8tv9sFH8cx  spotify:track:3hCPh4oVVjaM8tv9sFH8cx   \n",
       "4     5xbuJuQsTVheVZvX2AJVIv  spotify:track:5xbuJuQsTVheVZvX2AJVIv   \n",
       "...                      ...                                   ...   \n",
       "8076  3his1UkcI0rwrniPDR9kTj  spotify:track:3his1UkcI0rwrniPDR9kTj   \n",
       "8077  1aRncYBtdizYoVKcSt8oaY  spotify:track:1aRncYBtdizYoVKcSt8oaY   \n",
       "8078  0VdcSHXCPRfQQZYQPXSlZ9  spotify:track:0VdcSHXCPRfQQZYQPXSlZ9   \n",
       "8079  7FWSMnxbNWGQXS7Jz1Uxqg  spotify:track:7FWSMnxbNWGQXS7Jz1Uxqg   \n",
       "8080  2QDnRMFfnes9DUWc6HgixI  spotify:track:2QDnRMFfnes9DUWc6HgixI   \n",
       "\n",
       "                                             track_href  \\\n",
       "0     https://api.spotify.com/v1/tracks/3U8Fx7zNTQrc...   \n",
       "1     https://api.spotify.com/v1/tracks/6MzbO6YS0M6t...   \n",
       "2     https://api.spotify.com/v1/tracks/1L4NadMj3Jj7...   \n",
       "3     https://api.spotify.com/v1/tracks/3hCPh4oVVjaM...   \n",
       "4     https://api.spotify.com/v1/tracks/5xbuJuQsTVhe...   \n",
       "...                                                 ...   \n",
       "8076  https://api.spotify.com/v1/tracks/3his1UkcI0rw...   \n",
       "8077  https://api.spotify.com/v1/tracks/1aRncYBtdizY...   \n",
       "8078  https://api.spotify.com/v1/tracks/0VdcSHXCPRfQ...   \n",
       "8079  https://api.spotify.com/v1/tracks/7FWSMnxbNWGQ...   \n",
       "8080  https://api.spotify.com/v1/tracks/2QDnRMFfnes9...   \n",
       "\n",
       "                                           analysis_url  duration_ms  \\\n",
       "0     https://api.spotify.com/v1/audio-analysis/3U8F...       150147   \n",
       "1     https://api.spotify.com/v1/audio-analysis/6Mzb...       216213   \n",
       "2     https://api.spotify.com/v1/audio-analysis/1L4N...       254000   \n",
       "3     https://api.spotify.com/v1/audio-analysis/3hCP...       294960   \n",
       "4     https://api.spotify.com/v1/audio-analysis/5xbu...       151507   \n",
       "...                                                 ...          ...   \n",
       "8076  https://api.spotify.com/v1/audio-analysis/3his...       219493   \n",
       "8077  https://api.spotify.com/v1/audio-analysis/1aRn...       176893   \n",
       "8078  https://api.spotify.com/v1/audio-analysis/0Vdc...       189427   \n",
       "8079  https://api.spotify.com/v1/audio-analysis/7FWS...       161693   \n",
       "8080  https://api.spotify.com/v1/audio-analysis/2QDn...       220520   \n",
       "\n",
       "      time_signature  \n",
       "0                  3  \n",
       "1                  3  \n",
       "2                  3  \n",
       "3                  5  \n",
       "4                  3  \n",
       "...              ...  \n",
       "8076               4  \n",
       "8077               4  \n",
       "8078               4  \n",
       "8079               4  \n",
       "8080               4  \n",
       "\n",
       "[8081 rows x 18 columns]"
      ]
     },
     "execution_count": 6,
     "metadata": {},
     "output_type": "execute_result"
    }
   ],
   "source": [
    "df"
   ]
  },
  {
   "cell_type": "markdown",
   "id": "fe197314",
   "metadata": {},
   "source": [
    "### Creating a new df to train my KMEANS"
   ]
  },
  {
   "cell_type": "code",
   "execution_count": 7,
   "id": "4df9cdad",
   "metadata": {},
   "outputs": [],
   "source": [
    "X = df[['danceability', 'energy', 'key', 'loudness', \"mode\", 'speechiness', 'acousticness', 'instrumentalness', 'liveness', \"valence\" , \"tempo\"]]"
   ]
  },
  {
   "cell_type": "code",
   "execution_count": 8,
   "id": "ae7ac4fb",
   "metadata": {},
   "outputs": [
    {
     "data": {
      "text/html": [
       "<div>\n",
       "<style scoped>\n",
       "    .dataframe tbody tr th:only-of-type {\n",
       "        vertical-align: middle;\n",
       "    }\n",
       "\n",
       "    .dataframe tbody tr th {\n",
       "        vertical-align: top;\n",
       "    }\n",
       "\n",
       "    .dataframe thead th {\n",
       "        text-align: right;\n",
       "    }\n",
       "</style>\n",
       "<table border=\"1\" class=\"dataframe\">\n",
       "  <thead>\n",
       "    <tr style=\"text-align: right;\">\n",
       "      <th></th>\n",
       "      <th>danceability</th>\n",
       "      <th>energy</th>\n",
       "      <th>key</th>\n",
       "      <th>loudness</th>\n",
       "      <th>mode</th>\n",
       "      <th>speechiness</th>\n",
       "      <th>acousticness</th>\n",
       "      <th>instrumentalness</th>\n",
       "      <th>liveness</th>\n",
       "      <th>valence</th>\n",
       "      <th>tempo</th>\n",
       "    </tr>\n",
       "  </thead>\n",
       "  <tbody>\n",
       "    <tr>\n",
       "      <th>0</th>\n",
       "      <td>0.213</td>\n",
       "      <td>0.06560</td>\n",
       "      <td>7</td>\n",
       "      <td>-24.810</td>\n",
       "      <td>1</td>\n",
       "      <td>0.0467</td>\n",
       "      <td>0.992</td>\n",
       "      <td>0.969000</td>\n",
       "      <td>0.0699</td>\n",
       "      <td>0.0384</td>\n",
       "      <td>65.023</td>\n",
       "    </tr>\n",
       "    <tr>\n",
       "      <th>1</th>\n",
       "      <td>0.330</td>\n",
       "      <td>0.00357</td>\n",
       "      <td>3</td>\n",
       "      <td>-33.142</td>\n",
       "      <td>1</td>\n",
       "      <td>0.0339</td>\n",
       "      <td>0.995</td>\n",
       "      <td>0.953000</td>\n",
       "      <td>0.0989</td>\n",
       "      <td>0.1210</td>\n",
       "      <td>100.741</td>\n",
       "    </tr>\n",
       "    <tr>\n",
       "      <th>2</th>\n",
       "      <td>0.368</td>\n",
       "      <td>0.00363</td>\n",
       "      <td>1</td>\n",
       "      <td>-36.759</td>\n",
       "      <td>1</td>\n",
       "      <td>0.0350</td>\n",
       "      <td>0.993</td>\n",
       "      <td>0.922000</td>\n",
       "      <td>0.1370</td>\n",
       "      <td>0.0850</td>\n",
       "      <td>69.363</td>\n",
       "    </tr>\n",
       "    <tr>\n",
       "      <th>3</th>\n",
       "      <td>0.320</td>\n",
       "      <td>0.00501</td>\n",
       "      <td>1</td>\n",
       "      <td>-33.366</td>\n",
       "      <td>1</td>\n",
       "      <td>0.0455</td>\n",
       "      <td>0.993</td>\n",
       "      <td>0.919000</td>\n",
       "      <td>0.0618</td>\n",
       "      <td>0.0383</td>\n",
       "      <td>68.947</td>\n",
       "    </tr>\n",
       "    <tr>\n",
       "      <th>4</th>\n",
       "      <td>0.701</td>\n",
       "      <td>0.34100</td>\n",
       "      <td>1</td>\n",
       "      <td>-12.260</td>\n",
       "      <td>0</td>\n",
       "      <td>0.0418</td>\n",
       "      <td>0.499</td>\n",
       "      <td>0.903000</td>\n",
       "      <td>0.3590</td>\n",
       "      <td>0.1630</td>\n",
       "      <td>105.513</td>\n",
       "    </tr>\n",
       "    <tr>\n",
       "      <th>...</th>\n",
       "      <td>...</td>\n",
       "      <td>...</td>\n",
       "      <td>...</td>\n",
       "      <td>...</td>\n",
       "      <td>...</td>\n",
       "      <td>...</td>\n",
       "      <td>...</td>\n",
       "      <td>...</td>\n",
       "      <td>...</td>\n",
       "      <td>...</td>\n",
       "      <td>...</td>\n",
       "    </tr>\n",
       "    <tr>\n",
       "      <th>8076</th>\n",
       "      <td>0.326</td>\n",
       "      <td>0.09020</td>\n",
       "      <td>7</td>\n",
       "      <td>-20.588</td>\n",
       "      <td>1</td>\n",
       "      <td>0.0344</td>\n",
       "      <td>0.647</td>\n",
       "      <td>0.000910</td>\n",
       "      <td>0.1980</td>\n",
       "      <td>0.2180</td>\n",
       "      <td>137.611</td>\n",
       "    </tr>\n",
       "    <tr>\n",
       "      <th>8077</th>\n",
       "      <td>0.266</td>\n",
       "      <td>0.34500</td>\n",
       "      <td>10</td>\n",
       "      <td>-11.484</td>\n",
       "      <td>1</td>\n",
       "      <td>0.0309</td>\n",
       "      <td>0.376</td>\n",
       "      <td>0.000019</td>\n",
       "      <td>0.1030</td>\n",
       "      <td>0.1990</td>\n",
       "      <td>145.980</td>\n",
       "    </tr>\n",
       "    <tr>\n",
       "      <th>8078</th>\n",
       "      <td>0.364</td>\n",
       "      <td>0.12600</td>\n",
       "      <td>7</td>\n",
       "      <td>-18.071</td>\n",
       "      <td>1</td>\n",
       "      <td>0.0286</td>\n",
       "      <td>0.862</td>\n",
       "      <td>0.000203</td>\n",
       "      <td>0.0969</td>\n",
       "      <td>0.4300</td>\n",
       "      <td>90.429</td>\n",
       "    </tr>\n",
       "    <tr>\n",
       "      <th>8079</th>\n",
       "      <td>0.333</td>\n",
       "      <td>0.50900</td>\n",
       "      <td>0</td>\n",
       "      <td>-7.191</td>\n",
       "      <td>1</td>\n",
       "      <td>0.0310</td>\n",
       "      <td>0.808</td>\n",
       "      <td>0.000225</td>\n",
       "      <td>0.1070</td>\n",
       "      <td>0.2190</td>\n",
       "      <td>122.917</td>\n",
       "    </tr>\n",
       "    <tr>\n",
       "      <th>8080</th>\n",
       "      <td>0.332</td>\n",
       "      <td>0.42900</td>\n",
       "      <td>7</td>\n",
       "      <td>-8.376</td>\n",
       "      <td>1</td>\n",
       "      <td>0.0287</td>\n",
       "      <td>0.356</td>\n",
       "      <td>0.000032</td>\n",
       "      <td>0.0619</td>\n",
       "      <td>0.2390</td>\n",
       "      <td>128.073</td>\n",
       "    </tr>\n",
       "  </tbody>\n",
       "</table>\n",
       "<p>8081 rows × 11 columns</p>\n",
       "</div>"
      ],
      "text/plain": [
       "      danceability   energy  key  loudness  mode  speechiness  acousticness  \\\n",
       "0            0.213  0.06560    7   -24.810     1       0.0467         0.992   \n",
       "1            0.330  0.00357    3   -33.142     1       0.0339         0.995   \n",
       "2            0.368  0.00363    1   -36.759     1       0.0350         0.993   \n",
       "3            0.320  0.00501    1   -33.366     1       0.0455         0.993   \n",
       "4            0.701  0.34100    1   -12.260     0       0.0418         0.499   \n",
       "...            ...      ...  ...       ...   ...          ...           ...   \n",
       "8076         0.326  0.09020    7   -20.588     1       0.0344         0.647   \n",
       "8077         0.266  0.34500   10   -11.484     1       0.0309         0.376   \n",
       "8078         0.364  0.12600    7   -18.071     1       0.0286         0.862   \n",
       "8079         0.333  0.50900    0    -7.191     1       0.0310         0.808   \n",
       "8080         0.332  0.42900    7    -8.376     1       0.0287         0.356   \n",
       "\n",
       "      instrumentalness  liveness  valence    tempo  \n",
       "0             0.969000    0.0699   0.0384   65.023  \n",
       "1             0.953000    0.0989   0.1210  100.741  \n",
       "2             0.922000    0.1370   0.0850   69.363  \n",
       "3             0.919000    0.0618   0.0383   68.947  \n",
       "4             0.903000    0.3590   0.1630  105.513  \n",
       "...                ...       ...      ...      ...  \n",
       "8076          0.000910    0.1980   0.2180  137.611  \n",
       "8077          0.000019    0.1030   0.1990  145.980  \n",
       "8078          0.000203    0.0969   0.4300   90.429  \n",
       "8079          0.000225    0.1070   0.2190  122.917  \n",
       "8080          0.000032    0.0619   0.2390  128.073  \n",
       "\n",
       "[8081 rows x 11 columns]"
      ]
     },
     "execution_count": 8,
     "metadata": {},
     "output_type": "execute_result"
    }
   ],
   "source": [
    "X"
   ]
  },
  {
   "cell_type": "markdown",
   "id": "ae60bd4e",
   "metadata": {},
   "source": [
    "## ➡️ Train KMEANS"
   ]
  },
  {
   "cell_type": "markdown",
   "id": "973a7ff2",
   "metadata": {},
   "source": [
    "##  1. Scaling features\n",
    "\n",
    "**K-Means is a distance based algorithm**: we need to scale / normalize!:\n"
   ]
  },
  {
   "cell_type": "code",
   "execution_count": 9,
   "id": "2567195f",
   "metadata": {},
   "outputs": [
    {
     "data": {
      "text/html": [
       "<div>\n",
       "<style scoped>\n",
       "    .dataframe tbody tr th:only-of-type {\n",
       "        vertical-align: middle;\n",
       "    }\n",
       "\n",
       "    .dataframe tbody tr th {\n",
       "        vertical-align: top;\n",
       "    }\n",
       "\n",
       "    .dataframe thead th {\n",
       "        text-align: right;\n",
       "    }\n",
       "</style>\n",
       "<table border=\"1\" class=\"dataframe\">\n",
       "  <thead>\n",
       "    <tr style=\"text-align: right;\">\n",
       "      <th></th>\n",
       "      <th>danceability</th>\n",
       "      <th>energy</th>\n",
       "      <th>key</th>\n",
       "      <th>loudness</th>\n",
       "      <th>mode</th>\n",
       "      <th>speechiness</th>\n",
       "      <th>acousticness</th>\n",
       "      <th>instrumentalness</th>\n",
       "      <th>liveness</th>\n",
       "      <th>valence</th>\n",
       "      <th>tempo</th>\n",
       "    </tr>\n",
       "  </thead>\n",
       "  <tbody>\n",
       "    <tr>\n",
       "      <th>0</th>\n",
       "      <td>0.213</td>\n",
       "      <td>0.06560</td>\n",
       "      <td>7</td>\n",
       "      <td>-24.810</td>\n",
       "      <td>1</td>\n",
       "      <td>0.0467</td>\n",
       "      <td>0.992</td>\n",
       "      <td>0.969</td>\n",
       "      <td>0.0699</td>\n",
       "      <td>0.0384</td>\n",
       "      <td>65.023</td>\n",
       "    </tr>\n",
       "    <tr>\n",
       "      <th>1</th>\n",
       "      <td>0.330</td>\n",
       "      <td>0.00357</td>\n",
       "      <td>3</td>\n",
       "      <td>-33.142</td>\n",
       "      <td>1</td>\n",
       "      <td>0.0339</td>\n",
       "      <td>0.995</td>\n",
       "      <td>0.953</td>\n",
       "      <td>0.0989</td>\n",
       "      <td>0.1210</td>\n",
       "      <td>100.741</td>\n",
       "    </tr>\n",
       "    <tr>\n",
       "      <th>2</th>\n",
       "      <td>0.368</td>\n",
       "      <td>0.00363</td>\n",
       "      <td>1</td>\n",
       "      <td>-36.759</td>\n",
       "      <td>1</td>\n",
       "      <td>0.0350</td>\n",
       "      <td>0.993</td>\n",
       "      <td>0.922</td>\n",
       "      <td>0.1370</td>\n",
       "      <td>0.0850</td>\n",
       "      <td>69.363</td>\n",
       "    </tr>\n",
       "    <tr>\n",
       "      <th>3</th>\n",
       "      <td>0.320</td>\n",
       "      <td>0.00501</td>\n",
       "      <td>1</td>\n",
       "      <td>-33.366</td>\n",
       "      <td>1</td>\n",
       "      <td>0.0455</td>\n",
       "      <td>0.993</td>\n",
       "      <td>0.919</td>\n",
       "      <td>0.0618</td>\n",
       "      <td>0.0383</td>\n",
       "      <td>68.947</td>\n",
       "    </tr>\n",
       "    <tr>\n",
       "      <th>4</th>\n",
       "      <td>0.701</td>\n",
       "      <td>0.34100</td>\n",
       "      <td>1</td>\n",
       "      <td>-12.260</td>\n",
       "      <td>0</td>\n",
       "      <td>0.0418</td>\n",
       "      <td>0.499</td>\n",
       "      <td>0.903</td>\n",
       "      <td>0.3590</td>\n",
       "      <td>0.1630</td>\n",
       "      <td>105.513</td>\n",
       "    </tr>\n",
       "  </tbody>\n",
       "</table>\n",
       "</div>"
      ],
      "text/plain": [
       "   danceability   energy  key  loudness  mode  speechiness  acousticness  \\\n",
       "0         0.213  0.06560    7   -24.810     1       0.0467         0.992   \n",
       "1         0.330  0.00357    3   -33.142     1       0.0339         0.995   \n",
       "2         0.368  0.00363    1   -36.759     1       0.0350         0.993   \n",
       "3         0.320  0.00501    1   -33.366     1       0.0455         0.993   \n",
       "4         0.701  0.34100    1   -12.260     0       0.0418         0.499   \n",
       "\n",
       "   instrumentalness  liveness  valence    tempo  \n",
       "0             0.969    0.0699   0.0384   65.023  \n",
       "1             0.953    0.0989   0.1210  100.741  \n",
       "2             0.922    0.1370   0.0850   69.363  \n",
       "3             0.919    0.0618   0.0383   68.947  \n",
       "4             0.903    0.3590   0.1630  105.513  "
      ]
     },
     "metadata": {},
     "output_type": "display_data"
    },
    {
     "name": "stdout",
     "output_type": "stream",
     "text": [
      "\n"
     ]
    },
    {
     "data": {
      "text/html": [
       "<div>\n",
       "<style scoped>\n",
       "    .dataframe tbody tr th:only-of-type {\n",
       "        vertical-align: middle;\n",
       "    }\n",
       "\n",
       "    .dataframe tbody tr th {\n",
       "        vertical-align: top;\n",
       "    }\n",
       "\n",
       "    .dataframe thead th {\n",
       "        text-align: right;\n",
       "    }\n",
       "</style>\n",
       "<table border=\"1\" class=\"dataframe\">\n",
       "  <thead>\n",
       "    <tr style=\"text-align: right;\">\n",
       "      <th></th>\n",
       "      <th>danceability</th>\n",
       "      <th>energy</th>\n",
       "      <th>key</th>\n",
       "      <th>loudness</th>\n",
       "      <th>mode</th>\n",
       "      <th>speechiness</th>\n",
       "      <th>acousticness</th>\n",
       "      <th>instrumentalness</th>\n",
       "      <th>liveness</th>\n",
       "      <th>valence</th>\n",
       "      <th>tempo</th>\n",
       "    </tr>\n",
       "  </thead>\n",
       "  <tbody>\n",
       "    <tr>\n",
       "      <th>0</th>\n",
       "      <td>-2.091400</td>\n",
       "      <td>-2.338732</td>\n",
       "      <td>0.485004</td>\n",
       "      <td>-3.009033</td>\n",
       "      <td>0.726162</td>\n",
       "      <td>-0.328547</td>\n",
       "      <td>2.051296</td>\n",
       "      <td>3.495528</td>\n",
       "      <td>-0.709021</td>\n",
       "      <td>-1.979382</td>\n",
       "      <td>-1.900186</td>\n",
       "    </tr>\n",
       "    <tr>\n",
       "      <th>1</th>\n",
       "      <td>-1.430834</td>\n",
       "      <td>-2.592698</td>\n",
       "      <td>-0.643263</td>\n",
       "      <td>-4.567740</td>\n",
       "      <td>0.726162</td>\n",
       "      <td>-0.526447</td>\n",
       "      <td>2.060726</td>\n",
       "      <td>3.431632</td>\n",
       "      <td>-0.544085</td>\n",
       "      <td>-1.678720</td>\n",
       "      <td>-0.666378</td>\n",
       "    </tr>\n",
       "    <tr>\n",
       "      <th>2</th>\n",
       "      <td>-1.216291</td>\n",
       "      <td>-2.592452</td>\n",
       "      <td>-1.207397</td>\n",
       "      <td>-5.244390</td>\n",
       "      <td>0.726162</td>\n",
       "      <td>-0.509440</td>\n",
       "      <td>2.054439</td>\n",
       "      <td>3.307833</td>\n",
       "      <td>-0.327393</td>\n",
       "      <td>-1.809759</td>\n",
       "      <td>-1.750270</td>\n",
       "    </tr>\n",
       "    <tr>\n",
       "      <th>3</th>\n",
       "      <td>-1.487292</td>\n",
       "      <td>-2.586802</td>\n",
       "      <td>-1.207397</td>\n",
       "      <td>-4.609645</td>\n",
       "      <td>0.726162</td>\n",
       "      <td>-0.347101</td>\n",
       "      <td>2.054439</td>\n",
       "      <td>3.295853</td>\n",
       "      <td>-0.755090</td>\n",
       "      <td>-1.979746</td>\n",
       "      <td>-1.764639</td>\n",
       "    </tr>\n",
       "    <tr>\n",
       "      <th>4</th>\n",
       "      <td>0.663781</td>\n",
       "      <td>-1.211175</td>\n",
       "      <td>-1.207397</td>\n",
       "      <td>-0.661243</td>\n",
       "      <td>-1.377104</td>\n",
       "      <td>-0.404306</td>\n",
       "      <td>0.501590</td>\n",
       "      <td>3.231957</td>\n",
       "      <td>0.935223</td>\n",
       "      <td>-1.525840</td>\n",
       "      <td>-0.501539</td>\n",
       "    </tr>\n",
       "  </tbody>\n",
       "</table>\n",
       "</div>"
      ],
      "text/plain": [
       "   danceability    energy       key  loudness      mode  speechiness  \\\n",
       "0     -2.091400 -2.338732  0.485004 -3.009033  0.726162    -0.328547   \n",
       "1     -1.430834 -2.592698 -0.643263 -4.567740  0.726162    -0.526447   \n",
       "2     -1.216291 -2.592452 -1.207397 -5.244390  0.726162    -0.509440   \n",
       "3     -1.487292 -2.586802 -1.207397 -4.609645  0.726162    -0.347101   \n",
       "4      0.663781 -1.211175 -1.207397 -0.661243 -1.377104    -0.404306   \n",
       "\n",
       "   acousticness  instrumentalness  liveness   valence     tempo  \n",
       "0      2.051296          3.495528 -0.709021 -1.979382 -1.900186  \n",
       "1      2.060726          3.431632 -0.544085 -1.678720 -0.666378  \n",
       "2      2.054439          3.307833 -0.327393 -1.809759 -1.750270  \n",
       "3      2.054439          3.295853 -0.755090 -1.979746 -1.764639  \n",
       "4      0.501590          3.231957  0.935223 -1.525840 -0.501539  "
      ]
     },
     "metadata": {},
     "output_type": "display_data"
    }
   ],
   "source": [
    "scaler = StandardScaler()\n",
    "\n",
    "scaler.fit(X)\n",
    "\n",
    "X_scaled = scaler.transform(X)\n",
    "\n",
    "# my x scaled\n",
    "X_scaled_df = pd.DataFrame(X_scaled, columns = X.columns)\n",
    "\n",
    "display(X.head())\n",
    "\n",
    "print()\n",
    "display(X_scaled_df.head())\n",
    "\n",
    "\n"
   ]
  },
  {
   "cell_type": "markdown",
   "id": "143e24f3",
   "metadata": {},
   "source": [
    "### Now, all features will have the same weight."
   ]
  },
  {
   "cell_type": "markdown",
   "id": "88c84e4b",
   "metadata": {},
   "source": [
    "# 2. Chosing k"
   ]
  },
  {
   "cell_type": "markdown",
   "id": "d08b7244",
   "metadata": {},
   "source": [
    "### ➡️ Appling the Elbow Method"
   ]
  },
  {
   "cell_type": "code",
   "execution_count": 10,
   "id": "8d278af2",
   "metadata": {},
   "outputs": [
    {
     "name": "stdout",
     "output_type": "stream",
     "text": [
      "Training a K-Means model with 2 clusters! \n",
      "\n",
      "Training a K-Means model with 3 clusters! \n",
      "\n",
      "Training a K-Means model with 4 clusters! \n",
      "\n",
      "Training a K-Means model with 5 clusters! \n",
      "\n",
      "Training a K-Means model with 6 clusters! \n",
      "\n",
      "Training a K-Means model with 7 clusters! \n",
      "\n",
      "Training a K-Means model with 8 clusters! \n",
      "\n",
      "Training a K-Means model with 9 clusters! \n",
      "\n",
      "Training a K-Means model with 10 clusters! \n",
      "\n",
      "Training a K-Means model with 11 clusters! \n",
      "\n",
      "Training a K-Means model with 12 clusters! \n",
      "\n",
      "Training a K-Means model with 13 clusters! \n",
      "\n",
      "Training a K-Means model with 14 clusters! \n",
      "\n",
      "Training a K-Means model with 15 clusters! \n",
      "\n",
      "Training a K-Means model with 16 clusters! \n",
      "\n",
      "Training a K-Means model with 17 clusters! \n",
      "\n",
      "Training a K-Means model with 18 clusters! \n",
      "\n",
      "Training a K-Means model with 19 clusters! \n",
      "\n",
      "Training a K-Means model with 20 clusters! \n",
      "\n"
     ]
    },
    {
     "data": {
      "text/plain": [
       "Text(0.5, 1.0, 'Elbow Method showing the optimal k')"
      ]
     },
     "execution_count": 10,
     "metadata": {},
     "output_type": "execute_result"
    },
    {
     "data": {
      "image/png": "[encoded data removed]",
      "text/plain": [
       "<Figure size 1600x800 with 1 Axes>"
      ]
     },
     "metadata": {},
     "output_type": "display_data"
    }
   ],
   "source": [
    "K = range(2, 21)\n",
    "inertia = []\n",
    "\n",
    "for k in K:\n",
    "    print(\"Training a K-Means model with {} clusters! \".format(k))\n",
    "    print()\n",
    "    kmeans = KMeans(n_clusters=k,\n",
    "                    random_state=1234)\n",
    "    kmeans.fit(X_scaled_df)\n",
    "    inertia.append(kmeans.inertia_)\n",
    "\n",
    "\n",
    "\n",
    "plt.figure(figsize=(16,8))\n",
    "plt.plot(K, inertia, 'bx-')\n",
    "plt.xlabel('k')\n",
    "plt.ylabel('inertia')\n",
    "plt.xticks(np.arange(min(K), max(K)+1, 1.0))\n",
    "plt.title('Elbow Method showing the optimal k')"
   ]
  },
  {
   "cell_type": "markdown",
   "id": "ac1e084f",
   "metadata": {},
   "source": [
    "There seems to be an elbow at **k=3**, and then a very slight one at k=10, but other than that the plot is quite smooth. What if our business needs involve having a k between 5 and 8?\n",
    "\n",
    "There is another metric that will help us decide."
   ]
  },
  {
   "cell_type": "markdown",
   "id": "669c7196",
   "metadata": {},
   "source": [
    "## ➡️ Appling the Silouhette Method"
   ]
  },
  {
   "cell_type": "code",
   "execution_count": 11,
   "id": "25e99246",
   "metadata": {},
   "outputs": [
    {
     "data": {
      "text/plain": [
       "Text(0.5, 1.0, 'Silhouette Method showing the optimal k')"
      ]
     },
     "execution_count": 11,
     "metadata": {},
     "output_type": "execute_result"
    },
    {
     "data": {
      "image/png": "[encoded data removed]",
      "text/plain": [
       "<Figure size 1600x800 with 1 Axes>"
      ]
     },
     "metadata": {},
     "output_type": "display_data"
    }
   ],
   "source": [
    "K = range(2, 20)\n",
    "silhouette = []\n",
    "\n",
    "for k in K:\n",
    "    kmeans = KMeans(n_clusters=k,\n",
    "                    random_state=1234)\n",
    "    kmeans.fit(X_scaled_df)\n",
    "    \n",
    "    silhouette.append(silhouette_score(X_scaled_df, kmeans.predict(X_scaled_df)))\n",
    "\n",
    "\n",
    "plt.figure(figsize=(16,8))\n",
    "plt.plot(K, silhouette, 'bx-')\n",
    "plt.xlabel('k')\n",
    "plt.ylabel('silhouette score')\n",
    "plt.xticks(np.arange(min(K), max(K)+1, 1.0))\n",
    "plt.title('Silhouette Method showing the optimal k')"
   ]
  },
  {
   "cell_type": "markdown",
   "id": "3d4f4f8d",
   "metadata": {},
   "source": [
    "Optional"
   ]
  },
  {
   "cell_type": "code",
   "execution_count": 12,
   "id": "4c9d2de9",
   "metadata": {},
   "outputs": [
    {
     "data": {
      "image/png": "[encoded data removed]",
      "text/plain": [
       "<Figure size 800x550 with 1 Axes>"
      ]
     },
     "metadata": {},
     "output_type": "display_data"
    },
    {
     "data": {
      "text/plain": [
       "<AxesSubplot:title={'center':'Silhouette Plot of KMeans Clustering for 8081 Samples in 3 Centers'}, xlabel='silhouette coefficient values', ylabel='cluster label'>"
      ]
     },
     "execution_count": 12,
     "metadata": {},
     "output_type": "execute_result"
    }
   ],
   "source": [
    "from yellowbrick.cluster import SilhouetteVisualizer\n",
    "model = KMeans(3, random_state=42)\n",
    "visualizer = SilhouetteVisualizer(model, colors='yellowbrick')\n",
    "visualizer.fit(X_scaled_df)        # Fit the data to the visualizer\n",
    "visualizer.show()        # Finalize and render the figure"
   ]
  },
  {
   "cell_type": "code",
   "execution_count": 13,
   "id": "c5a70844",
   "metadata": {},
   "outputs": [
    {
     "data": {
      "image/png": "[encoded data removed]",
      "text/plain": [
       "<Figure size 800x550 with 1 Axes>"
      ]
     },
     "metadata": {},
     "output_type": "display_data"
    },
    {
     "data": {
      "text/plain": [
       "<AxesSubplot:title={'center':'Silhouette Plot of KMeans Clustering for 8081 Samples in 6 Centers'}, xlabel='silhouette coefficient values', ylabel='cluster label'>"
      ]
     },
     "execution_count": 13,
     "metadata": {},
     "output_type": "execute_result"
    }
   ],
   "source": [
    "from yellowbrick.cluster import SilhouetteVisualizer\n",
    "model = KMeans(6, random_state=42)\n",
    "visualizer = SilhouetteVisualizer(model, colors='yellowbrick')\n",
    "visualizer.fit(X_scaled_df)        # Fit the data to the visualizer\n",
    "visualizer.show()        # Finalize and render the figure"
   ]
  },
  {
   "cell_type": "code",
   "execution_count": 14,
   "id": "958c4ccb",
   "metadata": {},
   "outputs": [
    {
     "data": {
      "image/png": "[encoded data removed]",
      "text/plain": [
       "<Figure size 800x550 with 1 Axes>"
      ]
     },
     "metadata": {},
     "output_type": "display_data"
    },
    {
     "data": {
      "text/plain": [
       "<AxesSubplot:title={'center':'Silhouette Plot of KMeans Clustering for 8081 Samples in 9 Centers'}, xlabel='silhouette coefficient values', ylabel='cluster label'>"
      ]
     },
     "execution_count": 14,
     "metadata": {},
     "output_type": "execute_result"
    }
   ],
   "source": [
    "from yellowbrick.cluster import SilhouetteVisualizer\n",
    "model = KMeans(9, random_state=42)\n",
    "visualizer = SilhouetteVisualizer(model, colors='yellowbrick')\n",
    "visualizer.fit(X_scaled_df)        # Fit the data to the visualizer\n",
    "visualizer.show()        # Finalize and render the figure"
   ]
  },
  {
   "cell_type": "markdown",
   "id": "6d735464",
   "metadata": {},
   "source": [
    "## 3. Creating and Fitting a  K-Means Clustering Model\n"
   ]
  },
  {
   "cell_type": "markdown",
   "id": "3b90bfc0",
   "metadata": {},
   "source": [
    "###  kmeans 01"
   ]
  },
  {
   "cell_type": "code",
   "execution_count": 15,
   "id": "47edfd38",
   "metadata": {},
   "outputs": [
    {
     "data": {
      "text/plain": [
       "KMeans(n_clusters=6, random_state=1234)"
      ]
     },
     "execution_count": 15,
     "metadata": {},
     "output_type": "execute_result"
    }
   ],
   "source": [
    "kmeans = KMeans(n_clusters=6, random_state=1234)\n",
    "kmeans.fit(X_scaled_df)"
   ]
  },
  {
   "cell_type": "code",
   "execution_count": 16,
   "id": "8c280458",
   "metadata": {},
   "outputs": [
    {
     "data": {
      "text/plain": [
       "47932.63249249884"
      ]
     },
     "execution_count": 16,
     "metadata": {},
     "output_type": "execute_result"
    }
   ],
   "source": [
    "kmeans.inertia_"
   ]
  },
  {
   "cell_type": "markdown",
   "id": "cdd7c148",
   "metadata": {},
   "source": [
    "###  kmeans 02"
   ]
  },
  {
   "cell_type": "code",
   "execution_count": 17,
   "id": "54ee5848",
   "metadata": {},
   "outputs": [
    {
     "name": "stdout",
     "output_type": "stream",
     "text": [
      "49629.49886345555\n"
     ]
    }
   ],
   "source": [
    "kmeans2 = KMeans(n_clusters=6,\n",
    "                init=\"k-means++\",\n",
    "                n_init=50,  # try with 1, 4, 8, 20, 30, 100...\n",
    "                max_iter=1,\n",
    "                tol=0,\n",
    "                algorithm=\"elkan\",\n",
    "                random_state=1234)\n",
    "kmeans2.fit(X_scaled_df)\n",
    "print(kmeans2.inertia_)"
   ]
  },
  {
   "cell_type": "markdown",
   "id": "a1f11e0c",
   "metadata": {},
   "source": [
    "### Let's get the labels"
   ]
  },
  {
   "cell_type": "code",
   "execution_count": 18,
   "id": "b90d8ac6",
   "metadata": {},
   "outputs": [
    {
     "data": {
      "text/plain": [
       "array([3, 3, 3, ..., 5, 5, 5])"
      ]
     },
     "execution_count": 18,
     "metadata": {},
     "output_type": "execute_result"
    }
   ],
   "source": [
    "labels = kmeans.labels_\n",
    "labels"
   ]
  },
  {
   "cell_type": "code",
   "execution_count": 19,
   "id": "12590c4e",
   "metadata": {},
   "outputs": [
    {
     "data": {
      "text/plain": [
       "array([0, 1, 2, 3, 4, 5])"
      ]
     },
     "execution_count": 19,
     "metadata": {},
     "output_type": "execute_result"
    }
   ],
   "source": [
    "#np.unique(labels)"
   ]
  },
  {
   "cell_type": "markdown",
   "id": "4bbb1b7b",
   "metadata": {},
   "source": [
    "### Now we have our \"model\", let's get the clusters and how many observations has each cluster."
   ]
  },
  {
   "cell_type": "code",
   "execution_count": 38,
   "id": "5e146d28",
   "metadata": {},
   "outputs": [
    {
     "data": {
      "text/plain": [
       "0     445\n",
       "1    1921\n",
       "2    3299\n",
       "3     530\n",
       "4     511\n",
       "5    1375\n",
       "dtype: int64"
      ]
     },
     "execution_count": 38,
     "metadata": {},
     "output_type": "execute_result"
    }
   ],
   "source": [
    "clusters = kmeans.predict(X_scaled_df)\n",
    "clusters\n",
    "#clusters\n",
    "# we are counting how many songs we have for each cluster using series of operations on a pandas Series\n",
    "pd.Series(clusters).value_counts().sort_index()"
   ]
  },
  {
   "cell_type": "code",
   "execution_count": 21,
   "id": "d786a71f",
   "metadata": {},
   "outputs": [
    {
     "data": {
      "text/plain": [
       "8081"
      ]
     },
     "execution_count": 21,
     "metadata": {},
     "output_type": "execute_result"
    }
   ],
   "source": [
    "len(clusters)"
   ]
  },
  {
   "cell_type": "markdown",
   "id": "d7198e30",
   "metadata": {},
   "source": [
    "### Scatter Plot"
   ]
  },
  {
   "cell_type": "code",
   "execution_count": 39,
   "id": "d95a8bad",
   "metadata": {},
   "outputs": [
    {
     "data": {
      "image/png": "[encoded data removed]",
      "text/plain": [
       "<Figure size 800x550 with 1 Axes>"
      ]
     },
     "metadata": {},
     "output_type": "display_data"
    }
   ],
   "source": [
    "# assign a cluster to each example\n",
    "labels = kmeans.predict(X_scaled_df)\n",
    "# retrieve unique clusters\n",
    "clusters01 = np.unique(labels)\n",
    "# create scatter plot for samples from each cluster\n",
    "for cluster in clusters01:\n",
    "    # get row indexes for samples with this cluster\n",
    "    row_ix = np.where(labels == cluster)\n",
    "    # create scatter of these samples\n",
    "    pyplot.scatter(X.to_numpy()[row_ix, 1], X.to_numpy()[row_ix, 3])\n",
    "    # show the plot\n",
    "pyplot.show()"
   ]
  },
  {
   "cell_type": "markdown",
   "id": "e5e3ff55",
   "metadata": {},
   "source": [
    "### Now let's see to which group was assigned every song 🎶🎵"
   ]
  },
  {
   "cell_type": "code",
   "execution_count": 40,
   "id": "c22bf04e",
   "metadata": {},
   "outputs": [
    {
     "data": {
      "text/plain": [
       "array([0, 1, 2, 3, 4, 5])"
      ]
     },
     "execution_count": 40,
     "metadata": {},
     "output_type": "execute_result"
    }
   ],
   "source": [
    "np.unique(clusters)"
   ]
  },
  {
   "cell_type": "code",
   "execution_count": 41,
   "id": "28c6abcd",
   "metadata": {},
   "outputs": [
    {
     "name": "stderr",
     "output_type": "stream",
     "text": [
      "C:\\Users\\espan\\AppData\\Local\\Temp\\ipykernel_18852\\465844916.py:2: SettingWithCopyWarning: \n",
      "A value is trying to be set on a copy of a slice from a DataFrame.\n",
      "Try using .loc[row_indexer,col_indexer] = value instead\n",
      "\n",
      "See the caveats in the documentation: https://pandas.pydata.org/pandas-docs/stable/user_guide/indexing.html#returning-a-view-versus-a-copy\n",
      "  X[\"cluster\"] = clusters\n"
     ]
    }
   ],
   "source": [
    "#X_df = pd.DataFrame(X)\n",
    "X[\"cluster\"] = clusters"
   ]
  },
  {
   "cell_type": "markdown",
   "id": "ce7ff752",
   "metadata": {},
   "source": [
    "### ---------------------------------------------------------------------------------------\n",
    "\n",
    "👀👀👀👀👀👀👀👀 ⁉️"
   ]
  },
  {
   "cell_type": "code",
   "execution_count": 42,
   "id": "1f72534a",
   "metadata": {
    "scrolled": true
   },
   "outputs": [
    {
     "data": {
      "text/html": [
       "<div>\n",
       "<style scoped>\n",
       "    .dataframe tbody tr th:only-of-type {\n",
       "        vertical-align: middle;\n",
       "    }\n",
       "\n",
       "    .dataframe tbody tr th {\n",
       "        vertical-align: top;\n",
       "    }\n",
       "\n",
       "    .dataframe thead th {\n",
       "        text-align: right;\n",
       "    }\n",
       "</style>\n",
       "<table border=\"1\" class=\"dataframe\">\n",
       "  <thead>\n",
       "    <tr style=\"text-align: right;\">\n",
       "      <th></th>\n",
       "      <th>danceability</th>\n",
       "      <th>energy</th>\n",
       "      <th>key</th>\n",
       "      <th>loudness</th>\n",
       "      <th>mode</th>\n",
       "      <th>speechiness</th>\n",
       "      <th>acousticness</th>\n",
       "      <th>instrumentalness</th>\n",
       "      <th>liveness</th>\n",
       "      <th>valence</th>\n",
       "      <th>tempo</th>\n",
       "      <th>cluster</th>\n",
       "    </tr>\n",
       "  </thead>\n",
       "  <tbody>\n",
       "    <tr>\n",
       "      <th>1450</th>\n",
       "      <td>0.635</td>\n",
       "      <td>0.841</td>\n",
       "      <td>5</td>\n",
       "      <td>-5.379</td>\n",
       "      <td>1</td>\n",
       "      <td>0.0422</td>\n",
       "      <td>0.0134</td>\n",
       "      <td>0.0</td>\n",
       "      <td>0.0622</td>\n",
       "      <td>0.424</td>\n",
       "      <td>109.021</td>\n",
       "      <td>2</td>\n",
       "    </tr>\n",
       "  </tbody>\n",
       "</table>\n",
       "</div>"
      ],
      "text/plain": [
       "      danceability  energy  key  loudness  mode  speechiness  acousticness  \\\n",
       "1450         0.635   0.841    5    -5.379     1       0.0422        0.0134   \n",
       "\n",
       "      instrumentalness  liveness  valence    tempo  cluster  \n",
       "1450               0.0    0.0622    0.424  109.021        2  "
      ]
     },
     "execution_count": 42,
     "metadata": {},
     "output_type": "execute_result"
    }
   ],
   "source": [
    "X[X['cluster'] == 2].sample()"
   ]
  },
  {
   "cell_type": "markdown",
   "id": "770dac39",
   "metadata": {},
   "source": [
    "### ---------------------------------------------------------------------------------------"
   ]
  },
  {
   "cell_type": "markdown",
   "id": "c43fae86",
   "metadata": {},
   "source": [
    "## ⚠️ Preparing everything to be able to get the user input"
   ]
  },
  {
   "cell_type": "markdown",
   "id": "8241e269",
   "metadata": {},
   "source": [
    "## Loading credentials from another config file"
   ]
  },
  {
   "cell_type": "code",
   "execution_count": 43,
   "id": "a613e4de",
   "metadata": {},
   "outputs": [],
   "source": [
    "import config"
   ]
  },
  {
   "cell_type": "markdown",
   "id": "edb6889b",
   "metadata": {},
   "source": [
    "## Starting with Spotify API"
   ]
  },
  {
   "cell_type": "code",
   "execution_count": 44,
   "id": "5acfcaf1",
   "metadata": {},
   "outputs": [],
   "source": [
    "import spotipy\n",
    "import json\n",
    "from spotipy.oauth2 import SpotifyClientCredentials\n",
    "from IPython.display import IFrame"
   ]
  },
  {
   "cell_type": "code",
   "execution_count": 45,
   "id": "f05d3f80",
   "metadata": {},
   "outputs": [],
   "source": [
    "sp = spotipy.Spotify(auth_manager=SpotifyClientCredentials(client_id= config.client_id,\n",
    "                                                           client_secret= config.client_secret))"
   ]
  },
  {
   "cell_type": "markdown",
   "id": "7afcb233",
   "metadata": {},
   "source": [
    "### Creating the Final dataframe with id and cluster"
   ]
  },
  {
   "cell_type": "code",
   "execution_count": 46,
   "id": "1fa9c90d",
   "metadata": {},
   "outputs": [],
   "source": [
    "final_df = pd.merge(X, df[['id']], left_index=True, right_index=True)"
   ]
  },
  {
   "cell_type": "code",
   "execution_count": 47,
   "id": "5cf692c2",
   "metadata": {},
   "outputs": [
    {
     "data": {
      "text/html": [
       "<div>\n",
       "<style scoped>\n",
       "    .dataframe tbody tr th:only-of-type {\n",
       "        vertical-align: middle;\n",
       "    }\n",
       "\n",
       "    .dataframe tbody tr th {\n",
       "        vertical-align: top;\n",
       "    }\n",
       "\n",
       "    .dataframe thead th {\n",
       "        text-align: right;\n",
       "    }\n",
       "</style>\n",
       "<table border=\"1\" class=\"dataframe\">\n",
       "  <thead>\n",
       "    <tr style=\"text-align: right;\">\n",
       "      <th></th>\n",
       "      <th>danceability</th>\n",
       "      <th>energy</th>\n",
       "      <th>key</th>\n",
       "      <th>loudness</th>\n",
       "      <th>mode</th>\n",
       "      <th>speechiness</th>\n",
       "      <th>acousticness</th>\n",
       "      <th>instrumentalness</th>\n",
       "      <th>liveness</th>\n",
       "      <th>valence</th>\n",
       "      <th>tempo</th>\n",
       "      <th>cluster</th>\n",
       "      <th>id</th>\n",
       "    </tr>\n",
       "  </thead>\n",
       "  <tbody>\n",
       "    <tr>\n",
       "      <th>0</th>\n",
       "      <td>0.213</td>\n",
       "      <td>0.06560</td>\n",
       "      <td>7</td>\n",
       "      <td>-24.810</td>\n",
       "      <td>1</td>\n",
       "      <td>0.0467</td>\n",
       "      <td>0.992</td>\n",
       "      <td>0.969000</td>\n",
       "      <td>0.0699</td>\n",
       "      <td>0.0384</td>\n",
       "      <td>65.023</td>\n",
       "      <td>3</td>\n",
       "      <td>3U8Fx7zNTQrctytkj6Gqgd</td>\n",
       "    </tr>\n",
       "    <tr>\n",
       "      <th>1</th>\n",
       "      <td>0.330</td>\n",
       "      <td>0.00357</td>\n",
       "      <td>3</td>\n",
       "      <td>-33.142</td>\n",
       "      <td>1</td>\n",
       "      <td>0.0339</td>\n",
       "      <td>0.995</td>\n",
       "      <td>0.953000</td>\n",
       "      <td>0.0989</td>\n",
       "      <td>0.1210</td>\n",
       "      <td>100.741</td>\n",
       "      <td>3</td>\n",
       "      <td>6MzbO6YS0M6tjwT93hjAl0</td>\n",
       "    </tr>\n",
       "    <tr>\n",
       "      <th>2</th>\n",
       "      <td>0.368</td>\n",
       "      <td>0.00363</td>\n",
       "      <td>1</td>\n",
       "      <td>-36.759</td>\n",
       "      <td>1</td>\n",
       "      <td>0.0350</td>\n",
       "      <td>0.993</td>\n",
       "      <td>0.922000</td>\n",
       "      <td>0.1370</td>\n",
       "      <td>0.0850</td>\n",
       "      <td>69.363</td>\n",
       "      <td>3</td>\n",
       "      <td>1L4NadMj3Jj7YgGaikyhfr</td>\n",
       "    </tr>\n",
       "    <tr>\n",
       "      <th>3</th>\n",
       "      <td>0.320</td>\n",
       "      <td>0.00501</td>\n",
       "      <td>1</td>\n",
       "      <td>-33.366</td>\n",
       "      <td>1</td>\n",
       "      <td>0.0455</td>\n",
       "      <td>0.993</td>\n",
       "      <td>0.919000</td>\n",
       "      <td>0.0618</td>\n",
       "      <td>0.0383</td>\n",
       "      <td>68.947</td>\n",
       "      <td>3</td>\n",
       "      <td>3hCPh4oVVjaM8tv9sFH8cx</td>\n",
       "    </tr>\n",
       "    <tr>\n",
       "      <th>4</th>\n",
       "      <td>0.701</td>\n",
       "      <td>0.34100</td>\n",
       "      <td>1</td>\n",
       "      <td>-12.260</td>\n",
       "      <td>0</td>\n",
       "      <td>0.0418</td>\n",
       "      <td>0.499</td>\n",
       "      <td>0.903000</td>\n",
       "      <td>0.3590</td>\n",
       "      <td>0.1630</td>\n",
       "      <td>105.513</td>\n",
       "      <td>3</td>\n",
       "      <td>5xbuJuQsTVheVZvX2AJVIv</td>\n",
       "    </tr>\n",
       "    <tr>\n",
       "      <th>...</th>\n",
       "      <td>...</td>\n",
       "      <td>...</td>\n",
       "      <td>...</td>\n",
       "      <td>...</td>\n",
       "      <td>...</td>\n",
       "      <td>...</td>\n",
       "      <td>...</td>\n",
       "      <td>...</td>\n",
       "      <td>...</td>\n",
       "      <td>...</td>\n",
       "      <td>...</td>\n",
       "      <td>...</td>\n",
       "      <td>...</td>\n",
       "    </tr>\n",
       "    <tr>\n",
       "      <th>8076</th>\n",
       "      <td>0.326</td>\n",
       "      <td>0.09020</td>\n",
       "      <td>7</td>\n",
       "      <td>-20.588</td>\n",
       "      <td>1</td>\n",
       "      <td>0.0344</td>\n",
       "      <td>0.647</td>\n",
       "      <td>0.000910</td>\n",
       "      <td>0.1980</td>\n",
       "      <td>0.2180</td>\n",
       "      <td>137.611</td>\n",
       "      <td>5</td>\n",
       "      <td>3his1UkcI0rwrniPDR9kTj</td>\n",
       "    </tr>\n",
       "    <tr>\n",
       "      <th>8077</th>\n",
       "      <td>0.266</td>\n",
       "      <td>0.34500</td>\n",
       "      <td>10</td>\n",
       "      <td>-11.484</td>\n",
       "      <td>1</td>\n",
       "      <td>0.0309</td>\n",
       "      <td>0.376</td>\n",
       "      <td>0.000019</td>\n",
       "      <td>0.1030</td>\n",
       "      <td>0.1990</td>\n",
       "      <td>145.980</td>\n",
       "      <td>5</td>\n",
       "      <td>1aRncYBtdizYoVKcSt8oaY</td>\n",
       "    </tr>\n",
       "    <tr>\n",
       "      <th>8078</th>\n",
       "      <td>0.364</td>\n",
       "      <td>0.12600</td>\n",
       "      <td>7</td>\n",
       "      <td>-18.071</td>\n",
       "      <td>1</td>\n",
       "      <td>0.0286</td>\n",
       "      <td>0.862</td>\n",
       "      <td>0.000203</td>\n",
       "      <td>0.0969</td>\n",
       "      <td>0.4300</td>\n",
       "      <td>90.429</td>\n",
       "      <td>5</td>\n",
       "      <td>0VdcSHXCPRfQQZYQPXSlZ9</td>\n",
       "    </tr>\n",
       "    <tr>\n",
       "      <th>8079</th>\n",
       "      <td>0.333</td>\n",
       "      <td>0.50900</td>\n",
       "      <td>0</td>\n",
       "      <td>-7.191</td>\n",
       "      <td>1</td>\n",
       "      <td>0.0310</td>\n",
       "      <td>0.808</td>\n",
       "      <td>0.000225</td>\n",
       "      <td>0.1070</td>\n",
       "      <td>0.2190</td>\n",
       "      <td>122.917</td>\n",
       "      <td>5</td>\n",
       "      <td>7FWSMnxbNWGQXS7Jz1Uxqg</td>\n",
       "    </tr>\n",
       "    <tr>\n",
       "      <th>8080</th>\n",
       "      <td>0.332</td>\n",
       "      <td>0.42900</td>\n",
       "      <td>7</td>\n",
       "      <td>-8.376</td>\n",
       "      <td>1</td>\n",
       "      <td>0.0287</td>\n",
       "      <td>0.356</td>\n",
       "      <td>0.000032</td>\n",
       "      <td>0.0619</td>\n",
       "      <td>0.2390</td>\n",
       "      <td>128.073</td>\n",
       "      <td>5</td>\n",
       "      <td>2QDnRMFfnes9DUWc6HgixI</td>\n",
       "    </tr>\n",
       "  </tbody>\n",
       "</table>\n",
       "<p>8081 rows × 13 columns</p>\n",
       "</div>"
      ],
      "text/plain": [
       "      danceability   energy  key  loudness  mode  speechiness  acousticness  \\\n",
       "0            0.213  0.06560    7   -24.810     1       0.0467         0.992   \n",
       "1            0.330  0.00357    3   -33.142     1       0.0339         0.995   \n",
       "2            0.368  0.00363    1   -36.759     1       0.0350         0.993   \n",
       "3            0.320  0.00501    1   -33.366     1       0.0455         0.993   \n",
       "4            0.701  0.34100    1   -12.260     0       0.0418         0.499   \n",
       "...            ...      ...  ...       ...   ...          ...           ...   \n",
       "8076         0.326  0.09020    7   -20.588     1       0.0344         0.647   \n",
       "8077         0.266  0.34500   10   -11.484     1       0.0309         0.376   \n",
       "8078         0.364  0.12600    7   -18.071     1       0.0286         0.862   \n",
       "8079         0.333  0.50900    0    -7.191     1       0.0310         0.808   \n",
       "8080         0.332  0.42900    7    -8.376     1       0.0287         0.356   \n",
       "\n",
       "      instrumentalness  liveness  valence    tempo  cluster  \\\n",
       "0             0.969000    0.0699   0.0384   65.023        3   \n",
       "1             0.953000    0.0989   0.1210  100.741        3   \n",
       "2             0.922000    0.1370   0.0850   69.363        3   \n",
       "3             0.919000    0.0618   0.0383   68.947        3   \n",
       "4             0.903000    0.3590   0.1630  105.513        3   \n",
       "...                ...       ...      ...      ...      ...   \n",
       "8076          0.000910    0.1980   0.2180  137.611        5   \n",
       "8077          0.000019    0.1030   0.1990  145.980        5   \n",
       "8078          0.000203    0.0969   0.4300   90.429        5   \n",
       "8079          0.000225    0.1070   0.2190  122.917        5   \n",
       "8080          0.000032    0.0619   0.2390  128.073        5   \n",
       "\n",
       "                          id  \n",
       "0     3U8Fx7zNTQrctytkj6Gqgd  \n",
       "1     6MzbO6YS0M6tjwT93hjAl0  \n",
       "2     1L4NadMj3Jj7YgGaikyhfr  \n",
       "3     3hCPh4oVVjaM8tv9sFH8cx  \n",
       "4     5xbuJuQsTVheVZvX2AJVIv  \n",
       "...                      ...  \n",
       "8076  3his1UkcI0rwrniPDR9kTj  \n",
       "8077  1aRncYBtdizYoVKcSt8oaY  \n",
       "8078  0VdcSHXCPRfQQZYQPXSlZ9  \n",
       "8079  7FWSMnxbNWGQXS7Jz1Uxqg  \n",
       "8080  2QDnRMFfnes9DUWc6HgixI  \n",
       "\n",
       "[8081 rows x 13 columns]"
      ]
     },
     "execution_count": 47,
     "metadata": {},
     "output_type": "execute_result"
    }
   ],
   "source": [
    "final_df"
   ]
  },
  {
   "cell_type": "markdown",
   "id": "11b50eb0",
   "metadata": {},
   "source": [
    "## User input 👀✅\n"
   ]
  },
  {
   "cell_type": "markdown",
   "id": "a7cb29a4",
   "metadata": {},
   "source": [
    "# ----------------------------------------"
   ]
  },
  {
   "cell_type": "code",
   "execution_count": 48,
   "id": "12b8e1a9",
   "metadata": {},
   "outputs": [],
   "source": [
    "def play_song(track_id):\n",
    "    return IFrame(src=\"https://open.spotify.com/embed/track/\"+track_id,\n",
    "       width=\"320\",\n",
    "       height=\"80\",\n",
    "       frameborder=\"0\",\n",
    "       allowtransparency=\"true\",\n",
    "       allow=\"encrypted-media\",\n",
    "      )"
   ]
  },
  {
   "cell_type": "markdown",
   "id": "f5f0c45d",
   "metadata": {},
   "source": [
    "# ----------------------------------------"
   ]
  },
  {
   "cell_type": "code",
   "execution_count": 49,
   "id": "97712466",
   "metadata": {},
   "outputs": [],
   "source": [
    "billboard_hot_100 = pd.read_csv(\"hotsongs_file.csv\")\n",
    "\n",
    "# convert the column song into lower case\n",
    "billboard_hot_100[\"song\"] = billboard_hot_100[\"song\"].str.lower()"
   ]
  },
  {
   "cell_type": "markdown",
   "id": "4601d9b3",
   "metadata": {},
   "source": [
    "# ----------------------------------------"
   ]
  },
  {
   "cell_type": "code",
   "execution_count": 50,
   "id": "356428cf",
   "metadata": {},
   "outputs": [
    {
     "name": "stdout",
     "output_type": "stream",
     "text": [
      "Enter your favorite song and descover if it is in Billboard Hot 100 : macarena\n"
     ]
    },
    {
     "data": {
      "text/html": [
       "\n",
       "        <iframe\n",
       "            width=\"320\"\n",
       "            height=\"80\"\n",
       "            src=\"https://open.spotify.com/embed/track/4oaj36KzXRgDg4McgcTsZK?frameborder=0&allowtransparency=true&allow=encrypted-media\"\n",
       "            frameborder=\"0\"\n",
       "            allowfullscreen\n",
       "            \n",
       "        ></iframe>\n",
       "        "
      ],
      "text/plain": [
       "<IPython.lib.display.IFrame at 0x2640790b610>"
      ]
     },
     "metadata": {},
     "output_type": "display_data"
    },
    {
     "name": "stdout",
     "output_type": "stream",
     "text": [
      "Please, Could you confirm me if this is your song? Yes or No: yes\n",
      "Perfect!, let's see if this is in the Billboard hot 100!\n",
      "So Sorry :( The song: macarena  is not in the Billboard hot 100 list :( ...but I can recommend you a similar song!!\n"
     ]
    },
    {
     "name": "stderr",
     "output_type": "stream",
     "text": [
      "Max Retries reached\n"
     ]
    },
    {
     "ename": "SpotifyException",
     "evalue": "http status: 429, code:-1 - /v1/audio-features/?ids=4oaj36KzXRgDg4McgcTsZK:\n Max Retries, reason: too many 429 error responses",
     "output_type": "error",
     "traceback": [
      "\u001b[1;31m---------------------------------------------------------------------------\u001b[0m",
      "\u001b[1;31mMaxRetryError\u001b[0m                             Traceback (most recent call last)",
      "\u001b[1;32m~\\anaconda3\\lib\\site-packages\\requests\\adapters.py\u001b[0m in \u001b[0;36msend\u001b[1;34m(self, request, stream, timeout, verify, cert, proxies)\u001b[0m\n\u001b[0;32m    488\u001b[0m             \u001b[1;32mif\u001b[0m \u001b[1;32mnot\u001b[0m \u001b[0mchunked\u001b[0m\u001b[1;33m:\u001b[0m\u001b[1;33m\u001b[0m\u001b[1;33m\u001b[0m\u001b[0m\n\u001b[1;32m--> 489\u001b[1;33m                 resp = conn.urlopen(\n\u001b[0m\u001b[0;32m    490\u001b[0m                     \u001b[0mmethod\u001b[0m\u001b[1;33m=\u001b[0m\u001b[0mrequest\u001b[0m\u001b[1;33m.\u001b[0m\u001b[0mmethod\u001b[0m\u001b[1;33m,\u001b[0m\u001b[1;33m\u001b[0m\u001b[1;33m\u001b[0m\u001b[0m\n",
      "\u001b[1;32m~\\anaconda3\\lib\\site-packages\\urllib3\\connectionpool.py\u001b[0m in \u001b[0;36murlopen\u001b[1;34m(self, method, url, body, headers, retries, redirect, assert_same_host, timeout, pool_timeout, release_conn, chunked, body_pos, **response_kw)\u001b[0m\n\u001b[0;32m    877\u001b[0m             \u001b[0mlog\u001b[0m\u001b[1;33m.\u001b[0m\u001b[0mdebug\u001b[0m\u001b[1;33m(\u001b[0m\u001b[1;34m\"Retry: %s\"\u001b[0m\u001b[1;33m,\u001b[0m \u001b[0murl\u001b[0m\u001b[1;33m)\u001b[0m\u001b[1;33m\u001b[0m\u001b[1;33m\u001b[0m\u001b[0m\n\u001b[1;32m--> 878\u001b[1;33m             return self.urlopen(\n\u001b[0m\u001b[0;32m    879\u001b[0m                 \u001b[0mmethod\u001b[0m\u001b[1;33m,\u001b[0m\u001b[1;33m\u001b[0m\u001b[1;33m\u001b[0m\u001b[0m\n",
      "\u001b[1;32m~\\anaconda3\\lib\\site-packages\\urllib3\\connectionpool.py\u001b[0m in \u001b[0;36murlopen\u001b[1;34m(self, method, url, body, headers, retries, redirect, assert_same_host, timeout, pool_timeout, release_conn, chunked, body_pos, **response_kw)\u001b[0m\n\u001b[0;32m    877\u001b[0m             \u001b[0mlog\u001b[0m\u001b[1;33m.\u001b[0m\u001b[0mdebug\u001b[0m\u001b[1;33m(\u001b[0m\u001b[1;34m\"Retry: %s\"\u001b[0m\u001b[1;33m,\u001b[0m \u001b[0murl\u001b[0m\u001b[1;33m)\u001b[0m\u001b[1;33m\u001b[0m\u001b[1;33m\u001b[0m\u001b[0m\n\u001b[1;32m--> 878\u001b[1;33m             return self.urlopen(\n\u001b[0m\u001b[0;32m    879\u001b[0m                 \u001b[0mmethod\u001b[0m\u001b[1;33m,\u001b[0m\u001b[1;33m\u001b[0m\u001b[1;33m\u001b[0m\u001b[0m\n",
      "\u001b[1;32m~\\anaconda3\\lib\\site-packages\\urllib3\\connectionpool.py\u001b[0m in \u001b[0;36murlopen\u001b[1;34m(self, method, url, body, headers, retries, redirect, assert_same_host, timeout, pool_timeout, release_conn, chunked, body_pos, **response_kw)\u001b[0m\n\u001b[0;32m    877\u001b[0m             \u001b[0mlog\u001b[0m\u001b[1;33m.\u001b[0m\u001b[0mdebug\u001b[0m\u001b[1;33m(\u001b[0m\u001b[1;34m\"Retry: %s\"\u001b[0m\u001b[1;33m,\u001b[0m \u001b[0murl\u001b[0m\u001b[1;33m)\u001b[0m\u001b[1;33m\u001b[0m\u001b[1;33m\u001b[0m\u001b[0m\n\u001b[1;32m--> 878\u001b[1;33m             return self.urlopen(\n\u001b[0m\u001b[0;32m    879\u001b[0m                 \u001b[0mmethod\u001b[0m\u001b[1;33m,\u001b[0m\u001b[1;33m\u001b[0m\u001b[1;33m\u001b[0m\u001b[0m\n",
      "\u001b[1;32m~\\anaconda3\\lib\\site-packages\\urllib3\\connectionpool.py\u001b[0m in \u001b[0;36murlopen\u001b[1;34m(self, method, url, body, headers, retries, redirect, assert_same_host, timeout, pool_timeout, release_conn, chunked, body_pos, **response_kw)\u001b[0m\n\u001b[0;32m    867\u001b[0m             \u001b[1;32mtry\u001b[0m\u001b[1;33m:\u001b[0m\u001b[1;33m\u001b[0m\u001b[1;33m\u001b[0m\u001b[0m\n\u001b[1;32m--> 868\u001b[1;33m                 \u001b[0mretries\u001b[0m \u001b[1;33m=\u001b[0m \u001b[0mretries\u001b[0m\u001b[1;33m.\u001b[0m\u001b[0mincrement\u001b[0m\u001b[1;33m(\u001b[0m\u001b[0mmethod\u001b[0m\u001b[1;33m,\u001b[0m \u001b[0murl\u001b[0m\u001b[1;33m,\u001b[0m \u001b[0mresponse\u001b[0m\u001b[1;33m=\u001b[0m\u001b[0mresponse\u001b[0m\u001b[1;33m,\u001b[0m \u001b[0m_pool\u001b[0m\u001b[1;33m=\u001b[0m\u001b[0mself\u001b[0m\u001b[1;33m)\u001b[0m\u001b[1;33m\u001b[0m\u001b[1;33m\u001b[0m\u001b[0m\n\u001b[0m\u001b[0;32m    869\u001b[0m             \u001b[1;32mexcept\u001b[0m \u001b[0mMaxRetryError\u001b[0m\u001b[1;33m:\u001b[0m\u001b[1;33m\u001b[0m\u001b[1;33m\u001b[0m\u001b[0m\n",
      "\u001b[1;32m~\\anaconda3\\lib\\site-packages\\urllib3\\util\\retry.py\u001b[0m in \u001b[0;36mincrement\u001b[1;34m(self, method, url, response, error, _pool, _stacktrace)\u001b[0m\n\u001b[0;32m    591\u001b[0m         \u001b[1;32mif\u001b[0m \u001b[0mnew_retry\u001b[0m\u001b[1;33m.\u001b[0m\u001b[0mis_exhausted\u001b[0m\u001b[1;33m(\u001b[0m\u001b[1;33m)\u001b[0m\u001b[1;33m:\u001b[0m\u001b[1;33m\u001b[0m\u001b[1;33m\u001b[0m\u001b[0m\n\u001b[1;32m--> 592\u001b[1;33m             \u001b[1;32mraise\u001b[0m \u001b[0mMaxRetryError\u001b[0m\u001b[1;33m(\u001b[0m\u001b[0m_pool\u001b[0m\u001b[1;33m,\u001b[0m \u001b[0murl\u001b[0m\u001b[1;33m,\u001b[0m \u001b[0merror\u001b[0m \u001b[1;32mor\u001b[0m \u001b[0mResponseError\u001b[0m\u001b[1;33m(\u001b[0m\u001b[0mcause\u001b[0m\u001b[1;33m)\u001b[0m\u001b[1;33m)\u001b[0m\u001b[1;33m\u001b[0m\u001b[1;33m\u001b[0m\u001b[0m\n\u001b[0m\u001b[0;32m    593\u001b[0m \u001b[1;33m\u001b[0m\u001b[0m\n",
      "\u001b[1;31mMaxRetryError\u001b[0m: HTTPSConnectionPool(host='api.spotify.com', port=443): Max retries exceeded with url: /v1/audio-features/?ids=4oaj36KzXRgDg4McgcTsZK (Caused by ResponseError('too many 429 error responses'))",
      "\nDuring handling of the above exception, another exception occurred:\n",
      "\u001b[1;31mRetryError\u001b[0m                                Traceback (most recent call last)",
      "\u001b[1;32m~\\anaconda3\\lib\\site-packages\\spotipy\\client.py\u001b[0m in \u001b[0;36m_internal_call\u001b[1;34m(self, method, url, payload, params)\u001b[0m\n\u001b[0;32m    265\u001b[0m         \u001b[1;32mtry\u001b[0m\u001b[1;33m:\u001b[0m\u001b[1;33m\u001b[0m\u001b[1;33m\u001b[0m\u001b[0m\n\u001b[1;32m--> 266\u001b[1;33m             response = self._session.request(\n\u001b[0m\u001b[0;32m    267\u001b[0m                 \u001b[0mmethod\u001b[0m\u001b[1;33m,\u001b[0m \u001b[0murl\u001b[0m\u001b[1;33m,\u001b[0m \u001b[0mheaders\u001b[0m\u001b[1;33m=\u001b[0m\u001b[0mheaders\u001b[0m\u001b[1;33m,\u001b[0m \u001b[0mproxies\u001b[0m\u001b[1;33m=\u001b[0m\u001b[0mself\u001b[0m\u001b[1;33m.\u001b[0m\u001b[0mproxies\u001b[0m\u001b[1;33m,\u001b[0m\u001b[1;33m\u001b[0m\u001b[1;33m\u001b[0m\u001b[0m\n",
      "\u001b[1;32m~\\anaconda3\\lib\\site-packages\\requests\\sessions.py\u001b[0m in \u001b[0;36mrequest\u001b[1;34m(self, method, url, params, data, headers, cookies, files, auth, timeout, allow_redirects, proxies, hooks, stream, verify, cert, json)\u001b[0m\n\u001b[0;32m    586\u001b[0m         \u001b[0msend_kwargs\u001b[0m\u001b[1;33m.\u001b[0m\u001b[0mupdate\u001b[0m\u001b[1;33m(\u001b[0m\u001b[0msettings\u001b[0m\u001b[1;33m)\u001b[0m\u001b[1;33m\u001b[0m\u001b[1;33m\u001b[0m\u001b[0m\n\u001b[1;32m--> 587\u001b[1;33m         \u001b[0mresp\u001b[0m \u001b[1;33m=\u001b[0m \u001b[0mself\u001b[0m\u001b[1;33m.\u001b[0m\u001b[0msend\u001b[0m\u001b[1;33m(\u001b[0m\u001b[0mprep\u001b[0m\u001b[1;33m,\u001b[0m \u001b[1;33m**\u001b[0m\u001b[0msend_kwargs\u001b[0m\u001b[1;33m)\u001b[0m\u001b[1;33m\u001b[0m\u001b[1;33m\u001b[0m\u001b[0m\n\u001b[0m\u001b[0;32m    588\u001b[0m \u001b[1;33m\u001b[0m\u001b[0m\n",
      "\u001b[1;32m~\\anaconda3\\lib\\site-packages\\requests\\sessions.py\u001b[0m in \u001b[0;36msend\u001b[1;34m(self, request, **kwargs)\u001b[0m\n\u001b[0;32m    700\u001b[0m         \u001b[1;31m# Send the request\u001b[0m\u001b[1;33m\u001b[0m\u001b[1;33m\u001b[0m\u001b[0m\n\u001b[1;32m--> 701\u001b[1;33m         \u001b[0mr\u001b[0m \u001b[1;33m=\u001b[0m \u001b[0madapter\u001b[0m\u001b[1;33m.\u001b[0m\u001b[0msend\u001b[0m\u001b[1;33m(\u001b[0m\u001b[0mrequest\u001b[0m\u001b[1;33m,\u001b[0m \u001b[1;33m**\u001b[0m\u001b[0mkwargs\u001b[0m\u001b[1;33m)\u001b[0m\u001b[1;33m\u001b[0m\u001b[1;33m\u001b[0m\u001b[0m\n\u001b[0m\u001b[0;32m    702\u001b[0m \u001b[1;33m\u001b[0m\u001b[0m\n",
      "\u001b[1;32m~\\anaconda3\\lib\\site-packages\\requests\\adapters.py\u001b[0m in \u001b[0;36msend\u001b[1;34m(self, request, stream, timeout, verify, cert, proxies)\u001b[0m\n\u001b[0;32m    555\u001b[0m             \u001b[1;32mif\u001b[0m \u001b[0misinstance\u001b[0m\u001b[1;33m(\u001b[0m\u001b[0me\u001b[0m\u001b[1;33m.\u001b[0m\u001b[0mreason\u001b[0m\u001b[1;33m,\u001b[0m \u001b[0mResponseError\u001b[0m\u001b[1;33m)\u001b[0m\u001b[1;33m:\u001b[0m\u001b[1;33m\u001b[0m\u001b[1;33m\u001b[0m\u001b[0m\n\u001b[1;32m--> 556\u001b[1;33m                 \u001b[1;32mraise\u001b[0m \u001b[0mRetryError\u001b[0m\u001b[1;33m(\u001b[0m\u001b[0me\u001b[0m\u001b[1;33m,\u001b[0m \u001b[0mrequest\u001b[0m\u001b[1;33m=\u001b[0m\u001b[0mrequest\u001b[0m\u001b[1;33m)\u001b[0m\u001b[1;33m\u001b[0m\u001b[1;33m\u001b[0m\u001b[0m\n\u001b[0m\u001b[0;32m    557\u001b[0m \u001b[1;33m\u001b[0m\u001b[0m\n",
      "\u001b[1;31mRetryError\u001b[0m: HTTPSConnectionPool(host='api.spotify.com', port=443): Max retries exceeded with url: /v1/audio-features/?ids=4oaj36KzXRgDg4McgcTsZK (Caused by ResponseError('too many 429 error responses'))",
      "\nDuring handling of the above exception, another exception occurred:\n",
      "\u001b[1;31mSpotifyException\u001b[0m                          Traceback (most recent call last)",
      "\u001b[1;32m~\\AppData\\Local\\Temp\\ipykernel_18852\\1304704013.py\u001b[0m in \u001b[0;36m<module>\u001b[1;34m\u001b[0m\n\u001b[0;32m     61\u001b[0m     \u001b[1;31m## Search ID, AF\u001b[0m\u001b[1;33m\u001b[0m\u001b[1;33m\u001b[0m\u001b[0m\n\u001b[0;32m     62\u001b[0m     \u001b[1;31m## Getting the Audio feature of a song\u001b[0m\u001b[1;33m\u001b[0m\u001b[1;33m\u001b[0m\u001b[0m\n\u001b[1;32m---> 63\u001b[1;33m             \u001b[0mAF_user_song\u001b[0m \u001b[1;33m=\u001b[0m \u001b[0msp\u001b[0m\u001b[1;33m.\u001b[0m\u001b[0maudio_features\u001b[0m\u001b[1;33m(\u001b[0m\u001b[0msong_id\u001b[0m\u001b[1;33m)\u001b[0m\u001b[1;33m\u001b[0m\u001b[1;33m\u001b[0m\u001b[0m\n\u001b[0m\u001b[0;32m     64\u001b[0m \u001b[1;33m\u001b[0m\u001b[0m\n\u001b[0;32m     65\u001b[0m     \u001b[1;31m# Creating a Data frame with the audio features of my user inputs\u001b[0m\u001b[1;33m\u001b[0m\u001b[1;33m\u001b[0m\u001b[0m\n",
      "\u001b[1;32m~\\anaconda3\\lib\\site-packages\\spotipy\\client.py\u001b[0m in \u001b[0;36maudio_features\u001b[1;34m(self, tracks)\u001b[0m\n\u001b[0;32m   1732\u001b[0m         \u001b[1;32mif\u001b[0m \u001b[0misinstance\u001b[0m\u001b[1;33m(\u001b[0m\u001b[0mtracks\u001b[0m\u001b[1;33m,\u001b[0m \u001b[0mstr\u001b[0m\u001b[1;33m)\u001b[0m\u001b[1;33m:\u001b[0m\u001b[1;33m\u001b[0m\u001b[1;33m\u001b[0m\u001b[0m\n\u001b[0;32m   1733\u001b[0m             \u001b[0mtrackid\u001b[0m \u001b[1;33m=\u001b[0m \u001b[0mself\u001b[0m\u001b[1;33m.\u001b[0m\u001b[0m_get_id\u001b[0m\u001b[1;33m(\u001b[0m\u001b[1;34m\"track\"\u001b[0m\u001b[1;33m,\u001b[0m \u001b[0mtracks\u001b[0m\u001b[1;33m)\u001b[0m\u001b[1;33m\u001b[0m\u001b[1;33m\u001b[0m\u001b[0m\n\u001b[1;32m-> 1734\u001b[1;33m             \u001b[0mresults\u001b[0m \u001b[1;33m=\u001b[0m \u001b[0mself\u001b[0m\u001b[1;33m.\u001b[0m\u001b[0m_get\u001b[0m\u001b[1;33m(\u001b[0m\u001b[1;34m\"audio-features/?ids=\"\u001b[0m \u001b[1;33m+\u001b[0m \u001b[0mtrackid\u001b[0m\u001b[1;33m)\u001b[0m\u001b[1;33m\u001b[0m\u001b[1;33m\u001b[0m\u001b[0m\n\u001b[0m\u001b[0;32m   1735\u001b[0m         \u001b[1;32melse\u001b[0m\u001b[1;33m:\u001b[0m\u001b[1;33m\u001b[0m\u001b[1;33m\u001b[0m\u001b[0m\n\u001b[0;32m   1736\u001b[0m             \u001b[0mtlist\u001b[0m \u001b[1;33m=\u001b[0m \u001b[1;33m[\u001b[0m\u001b[0mself\u001b[0m\u001b[1;33m.\u001b[0m\u001b[0m_get_id\u001b[0m\u001b[1;33m(\u001b[0m\u001b[1;34m\"track\"\u001b[0m\u001b[1;33m,\u001b[0m \u001b[0mt\u001b[0m\u001b[1;33m)\u001b[0m \u001b[1;32mfor\u001b[0m \u001b[0mt\u001b[0m \u001b[1;32min\u001b[0m \u001b[0mtracks\u001b[0m\u001b[1;33m]\u001b[0m\u001b[1;33m\u001b[0m\u001b[1;33m\u001b[0m\u001b[0m\n",
      "\u001b[1;32m~\\anaconda3\\lib\\site-packages\\spotipy\\client.py\u001b[0m in \u001b[0;36m_get\u001b[1;34m(self, url, args, payload, **kwargs)\u001b[0m\n\u001b[0;32m    321\u001b[0m             \u001b[0mkwargs\u001b[0m\u001b[1;33m.\u001b[0m\u001b[0mupdate\u001b[0m\u001b[1;33m(\u001b[0m\u001b[0margs\u001b[0m\u001b[1;33m)\u001b[0m\u001b[1;33m\u001b[0m\u001b[1;33m\u001b[0m\u001b[0m\n\u001b[0;32m    322\u001b[0m \u001b[1;33m\u001b[0m\u001b[0m\n\u001b[1;32m--> 323\u001b[1;33m         \u001b[1;32mreturn\u001b[0m \u001b[0mself\u001b[0m\u001b[1;33m.\u001b[0m\u001b[0m_internal_call\u001b[0m\u001b[1;33m(\u001b[0m\u001b[1;34m\"GET\"\u001b[0m\u001b[1;33m,\u001b[0m \u001b[0murl\u001b[0m\u001b[1;33m,\u001b[0m \u001b[0mpayload\u001b[0m\u001b[1;33m,\u001b[0m \u001b[0mkwargs\u001b[0m\u001b[1;33m)\u001b[0m\u001b[1;33m\u001b[0m\u001b[1;33m\u001b[0m\u001b[0m\n\u001b[0m\u001b[0;32m    324\u001b[0m \u001b[1;33m\u001b[0m\u001b[0m\n\u001b[0;32m    325\u001b[0m     \u001b[1;32mdef\u001b[0m \u001b[0m_post\u001b[0m\u001b[1;33m(\u001b[0m\u001b[0mself\u001b[0m\u001b[1;33m,\u001b[0m \u001b[0murl\u001b[0m\u001b[1;33m,\u001b[0m \u001b[0margs\u001b[0m\u001b[1;33m=\u001b[0m\u001b[1;32mNone\u001b[0m\u001b[1;33m,\u001b[0m \u001b[0mpayload\u001b[0m\u001b[1;33m=\u001b[0m\u001b[1;32mNone\u001b[0m\u001b[1;33m,\u001b[0m \u001b[1;33m**\u001b[0m\u001b[0mkwargs\u001b[0m\u001b[1;33m)\u001b[0m\u001b[1;33m:\u001b[0m\u001b[1;33m\u001b[0m\u001b[1;33m\u001b[0m\u001b[0m\n",
      "\u001b[1;32m~\\anaconda3\\lib\\site-packages\\spotipy\\client.py\u001b[0m in \u001b[0;36m_internal_call\u001b[1;34m(self, method, url, payload, params)\u001b[0m\n\u001b[0;32m    305\u001b[0m             \u001b[1;32mexcept\u001b[0m \u001b[1;33m(\u001b[0m\u001b[0mIndexError\u001b[0m\u001b[1;33m,\u001b[0m \u001b[0mAttributeError\u001b[0m\u001b[1;33m)\u001b[0m\u001b[1;33m:\u001b[0m\u001b[1;33m\u001b[0m\u001b[1;33m\u001b[0m\u001b[0m\n\u001b[0;32m    306\u001b[0m                 \u001b[0mreason\u001b[0m \u001b[1;33m=\u001b[0m \u001b[1;32mNone\u001b[0m\u001b[1;33m\u001b[0m\u001b[1;33m\u001b[0m\u001b[0m\n\u001b[1;32m--> 307\u001b[1;33m             raise SpotifyException(\n\u001b[0m\u001b[0;32m    308\u001b[0m                 \u001b[1;36m429\u001b[0m\u001b[1;33m,\u001b[0m\u001b[1;33m\u001b[0m\u001b[1;33m\u001b[0m\u001b[0m\n\u001b[0;32m    309\u001b[0m                 \u001b[1;33m-\u001b[0m\u001b[1;36m1\u001b[0m\u001b[1;33m,\u001b[0m\u001b[1;33m\u001b[0m\u001b[1;33m\u001b[0m\u001b[0m\n",
      "\u001b[1;31mSpotifyException\u001b[0m: http status: 429, code:-1 - /v1/audio-features/?ids=4oaj36KzXRgDg4McgcTsZK:\n Max Retries, reason: too many 429 error responses"
     ]
    }
   ],
   "source": [
    "# ASK TO MY USER ENTER A SONG\n",
    "\n",
    "# User input song name\n",
    "user_input = input(\"Enter your favorite song and descover if it is in Billboard Hot 100 : \")\n",
    "\n",
    "user_input_lower = user_input.lower()\n",
    "\n",
    "user_input_search = sp.search(q = user_input_lower, type='track', limit=1)\n",
    "\n",
    "song_id = user_input_search[\"tracks\"][\"items\"][0][\"id\"]\n",
    "\n",
    "\n",
    "display(play_song(song_id))\n",
    "\n",
    "verified = input(\"Please, Could you confirm me if this is your song? Yes or No: \")\n",
    "\n",
    "###########################################################################\n",
    "\n",
    "if verified == \"yes\":\n",
    "    \n",
    "    print(\"Perfect!, let's see if this is in the Billboard hot 100!\")\n",
    "    \n",
    "    \n",
    "    #Lower case sensitive\n",
    "\n",
    "    song_name_lower = user_input.lower()\n",
    "\n",
    "    song_found = False\n",
    "\n",
    "    # Matching Songs between the Billboard hot 100 and  User input\n",
    "\n",
    "    matching_songs = billboard_hot_100[billboard_hot_100[\"song\"].str.contains(song_name_lower, case=False)]\n",
    "\n",
    "\n",
    "    for index, row in billboard_hot_100.iterrows():\n",
    "    \n",
    "         if row[\"song\"] == song_name_lower:\n",
    "        \n",
    "               song_found = True\n",
    "               # print(\"Congrats!! :) your song is in the Bilboard Hot 100\")\n",
    "        \n",
    "               print(f\"Congrats!! :) your song {user_input } is in the Bilboard Hot 100\")\n",
    "        \n",
    "               random_music = random.choice(billboard_hot_100[\"song\"])\n",
    "        \n",
    "               print(\"I will provide you another song from this Billboard Hot 100 list, I am sure you will enjoy it:\",random_music)\n",
    "         \n",
    "               random_music_search = sp.search(q = random_music, type='track', limit=1)\n",
    "\n",
    "               random_song_id = random_music_search[\"tracks\"][\"items\"][0][\"id\"]\n",
    "               \n",
    "               display(play_song(random_song_id))\n",
    "                \n",
    "                \n",
    " ##########################################################################     \n",
    "        \n",
    "         else:\n",
    "            print(\"So Sorry :( The song:\", user_input, \" is not in the Billboard hot 100 list :( ...but I can recommend you a similar song!!\")\n",
    "\n",
    "            \n",
    "    ## Search ID, AF \n",
    "    ## Getting the Audio feature of a song\n",
    "            AF_user_song = sp.audio_features(song_id)\n",
    "        \n",
    "    # Creating a Data frame with the audio features of my user inputs\n",
    "            df_user = pd.DataFrame(AF_user_song)\n",
    "        \n",
    "    # Creating a Data frame but this time with only the features needed for the model\n",
    "            df_user_model = df_user[['danceability', 'energy', 'key', 'loudness', \"mode\", 'speechiness', 'acousticness', 'instrumentalness', 'liveness', \"valence\" , \"tempo\"]]\n",
    "    \n",
    "    # Scaling the user audio features DataFrame\n",
    "            scaler.transform(df_user_model)\n",
    "    \n",
    "    # Transforming the scaled data\n",
    "            audio_user_features_scaled = scaler.transform(df_user_model)\n",
    "    \n",
    "    \n",
    "    # Apply KMeans prediction to user_scaled_df \n",
    "            user_cluster = kmeans.predict(audio_user_features_scaled)\n",
    "    \n",
    "    \n",
    "    # Filter recommended songs based on predicted cluster\n",
    "    # DataFrame final_df contains the cluster and ID of the song\n",
    "            \n",
    "            recommended_songs_from_cluster = final_df[final_df['cluster'] == user_cluster[0]]\n",
    "    # Select a random song from recommended songs\n",
    "            recommended_song = recommended_songs_from_cluster.sample(n=1)\n",
    "    \n",
    "    # Retrieve track_id of recommended song\n",
    "            recommended_track_id = recommended_song['id'].values[0]\n",
    "    \n",
    "    # Display the recommended song\n",
    "            display(play_song(recommended_track_id))\n",
    "            \n",
    "    # Ask to our user if they like our recommendation       \n",
    "            user_input2 = input(\"Di you like our recommendation? Yes/No: \")\n",
    "        \n",
    "    # Display the recommended song   \n",
    "            \n",
    "            if user_input2 == \"yes\":\n",
    "    \n",
    "                print(\"Yei! I am happy we could recommend you a nice song!\")\n",
    "        \n",
    "            else:\n",
    "                \n",
    "                print(\"ohh! :( so sorry for that, I will recommend you another one :) !\")\n",
    "                \n",
    "                 # Select a random song from recommended songs\n",
    "                recommended_song = recommended_songs_from_cluster.sample(n=1)\n",
    "    \n",
    "                # Retrieve track_id of recommended song\n",
    "                recommended_track_id = recommended_song['id'].values[0]\n",
    "    \n",
    "                # Display the recommended song\n",
    "                display(play_song(recommended_track_id))\n",
    "    \n",
    "    # Exit the loop\n",
    "            break\n",
    "\n",
    "    \n",
    "\n",
    "        \n",
    "else:\n",
    "    \n",
    "    print(\"So Sorry :(  Could you try again? Im sure in this second time you will get your song!\")\n",
    "    \n",
    "    #print(\"So Sorry :(   The song: \",user_input, \" is not in the Billboard hot 100 list :(  ...buut I can recommend you a similar song!!\")\n",
    "    \n"
   ]
  },
  {
   "cell_type": "markdown",
   "id": "a6465dec",
   "metadata": {},
   "source": [
    "✅✅"
   ]
  },
  {
   "cell_type": "markdown",
   "id": "21673d01",
   "metadata": {},
   "source": [
    "### -----------------------------------------------------------------------"
   ]
  },
  {
   "cell_type": "markdown",
   "id": "64284dab",
   "metadata": {},
   "source": [
    "### -----------------------------------------------------------------------"
   ]
  },
  {
   "cell_type": "markdown",
   "id": "93a2119c",
   "metadata": {},
   "source": [
    "### BACKLOG"
   ]
  },
  {
   "cell_type": "code",
   "execution_count": null,
   "id": "7853c350",
   "metadata": {},
   "outputs": [],
   "source": [
    "# ASK TO MY USER ENTER A SONG\n",
    "\n",
    "# User input song name\n",
    "user_input = input(\"Enter your favorite song and descover if it is in Billboard Hot 100 : \")\n",
    "\n",
    "user_input_lower = user_input.lower()\n",
    "\n",
    "user_input_search = sp.search(q = user_input_lower, type='track', limit=1)\n",
    "\n",
    "song_id = user_input_search[\"tracks\"][\"items\"][0][\"id\"]\n",
    "\n",
    "\n",
    "display(play_song(song_id))\n",
    "\n",
    "verified = input(\"Please, Could you confirm me if this is your song? Yes or No: \")\n",
    "\n",
    "###########################################################################\n",
    "\n",
    "if verified == \"yes\":\n",
    "    \n",
    "    print(\"Perfect!, let's see if this is in the Billboard hot 100!\")\n",
    "    \n",
    "    \n",
    "    #Lower case sensitive\n",
    "\n",
    "    song_name_lower = user_input.lower()\n",
    "\n",
    "    song_found = False\n",
    "\n",
    "    # Matching Songs between the Billboard hot 100 and  User input\n",
    "\n",
    "    matching_songs = billboard_hot_100[billboard_hot_100[\"song\"].str.contains(song_name_lower, case=False)]\n",
    "\n",
    "\n",
    "    for index, row in billboard_hot_100.iterrows():\n",
    "    \n",
    "         if row[\"song\"] == song_name_lower:\n",
    "        \n",
    "               song_found = True\n",
    "               # print(\"Congrats!! :) your song is in the Bilboard Hot 100\")\n",
    "        \n",
    "               print(f\"Congrats!! :) your song {user_input } is in the Bilboard Hot 100\")\n",
    "        \n",
    "               random_music = random.choice(billboard_hot_100[\"song\"])\n",
    "        \n",
    "               print(\"I will provide you another song from this Billboard Hot 100 list, I am sure you will enjoy it:\",random_music)\n",
    "         \n",
    "               random_music_search = sp.search(q = random_music, type='track', limit=1)\n",
    "\n",
    "               random_song_id = random_music_search[\"tracks\"][\"items\"][0][\"id\"]\n",
    "               \n",
    "               display(play_song(random_song_id))\n",
    "                \n",
    "                \n",
    " ##########################################################################     \n",
    "        \n",
    "         else:\n",
    "            print(\"So Sorry :( The song:\", user_input, \" is not in the Billboard hot 100 list :( ...but I can recommend you a similar song!!\")\n",
    "\n",
    "            \n",
    "    ## Search ID, AF \n",
    "    ## Getting the Audio feature of a song\n",
    "            AF_user_song = sp.audio_features(song_id)\n",
    "        \n",
    "    # Creating a Data frame with the audio features of my user inputs\n",
    "            df_user = pd.DataFrame(AF_user_song)\n",
    "        \n",
    "    # Creating a Data frame but this time with only the features needed for the model\n",
    "            df_user_model = df_user[['danceability', 'energy', 'key', 'loudness', \"mode\", 'speechiness', 'acousticness', 'instrumentalness', 'liveness', \"valence\" , \"tempo\"]]\n",
    "    \n",
    "    # Scaling the user audio features DataFrame\n",
    "            scaler.transform(df_user_model)\n",
    "    \n",
    "    # Transforming the scaled data\n",
    "            audio_user_features_scaled = scaler.transform(df_user_model)\n",
    "    \n",
    "    \n",
    "    # Apply KMeans prediction to user_scaled_df \n",
    "            user_cluster = kmeans.predict(audio_user_features_scaled)\n",
    "    \n",
    "    \n",
    "    # Filter recommended songs based on predicted cluster\n",
    "    # DataFrame final_df contains the cluster and ID of the song\n",
    "            \n",
    "            recommended_songs_from_cluster = final_df[final_df['cluster'] == user_cluster[0]]\n",
    "    # Select a random song from recommended songs\n",
    "            recommended_song = recommended_songs_from_cluster.sample(n=1, random_state=1234)\n",
    "    \n",
    "    # Retrieve track_id of recommended song\n",
    "            recommended_track_id = recommended_song['id'].values[0]\n",
    "    \n",
    "    # Display the recommended song\n",
    "            display(play_song(recommended_track_id))\n",
    "    \n",
    "    # Exit the loop\n",
    "            break\n",
    "\n",
    "    \n",
    "\n",
    "        \n",
    "else:\n",
    "    \n",
    "    print(\"So Sorry :(  Could you try again? Im sure in this second time you will get your song!\")\n",
    "    \n",
    "    #print(\"So Sorry :(   The song: \",user_input, \" is not in the Billboard hot 100 list :(  ...buut I can recommend you a similar song!!\")\n",
    "    \n"
   ]
  }
 ],
 "metadata": {
  "kernelspec": {
   "display_name": "Python 3 (ipykernel)",
   "language": "python",
   "name": "python3"
  },
  "language_info": {
   "codemirror_mode": {
    "name": "ipython",
    "version": 3
   },
   "file_extension": ".py",
   "mimetype": "text/x-python",
   "name": "python",
   "nbconvert_exporter": "python",
   "pygments_lexer": "ipython3",
   "version": "3.9.13"
  }
 },
 "nbformat": 4,
 "nbformat_minor": 5
}
