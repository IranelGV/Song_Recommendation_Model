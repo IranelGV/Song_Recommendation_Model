{
 "cells": [
  {
   "cell_type": "markdown",
   "id": "2f17f28c",
   "metadata": {},
   "source": [
    "   ## Importing Libraries"
   ]
  },
  {
   "cell_type": "code",
   "execution_count": 20,
   "id": "c46a0d7f",
   "metadata": {},
   "outputs": [],
   "source": [
    "import matplotlib.pyplot as plt\n",
    "import pandas as pd\n",
    "import numpy as np\n",
    "import pickle\n",
    "import config\n",
    "\n",
    "from sklearn import datasets # sklearn comes with some toy datasets to practice\n",
    "from sklearn.preprocessing import StandardScaler\n",
    "from sklearn.cluster import KMeans\n",
    "from matplotlib import pyplot\n",
    "from sklearn.metrics import silhouette_score\n",
    "from PIL import Image\n",
    "from IPython.display import display\n",
    "\n",
    "\n",
    "%matplotlib inline"
   ]
  },
  {
   "cell_type": "code",
   "execution_count": 2,
   "id": "098f1b50",
   "metadata": {},
   "outputs": [
    {
     "data": {
      "image/png": "[encoded data removed]",
      "text/plain": [
       "<Figure size 640x480 with 1 Axes>"
      ]
     },
     "metadata": {},
     "output_type": "display_data"
    }
   ],
   "source": [
    "image = Image.open(\"Spotify_Logo.png\")\n",
    "plt.imshow(image)\n",
    "plt.axis('off')\n",
    "plt.show()"
   ]
  },
  {
   "cell_type": "code",
   "execution_count": 133,
   "id": "ffdb654f",
   "metadata": {},
   "outputs": [],
   "source": [
    "df= pd.read_csv(\"My_spotify_df.csv\")\n",
    "\n"
   ]
  },
  {
   "cell_type": "code",
   "execution_count": 134,
   "id": "33f72e99",
   "metadata": {},
   "outputs": [
    {
     "data": {
      "text/html": [
       "<div>\n",
       "<style scoped>\n",
       "    .dataframe tbody tr th:only-of-type {\n",
       "        vertical-align: middle;\n",
       "    }\n",
       "\n",
       "    .dataframe tbody tr th {\n",
       "        vertical-align: top;\n",
       "    }\n",
       "\n",
       "    .dataframe thead th {\n",
       "        text-align: right;\n",
       "    }\n",
       "</style>\n",
       "<table border=\"1\" class=\"dataframe\">\n",
       "  <thead>\n",
       "    <tr style=\"text-align: right;\">\n",
       "      <th></th>\n",
       "      <th>danceability</th>\n",
       "      <th>energy</th>\n",
       "      <th>key</th>\n",
       "      <th>loudness</th>\n",
       "      <th>mode</th>\n",
       "      <th>speechiness</th>\n",
       "      <th>acousticness</th>\n",
       "      <th>instrumentalness</th>\n",
       "      <th>liveness</th>\n",
       "      <th>valence</th>\n",
       "      <th>tempo</th>\n",
       "      <th>type</th>\n",
       "      <th>id</th>\n",
       "      <th>uri</th>\n",
       "      <th>track_href</th>\n",
       "      <th>analysis_url</th>\n",
       "      <th>duration_ms</th>\n",
       "      <th>time_signature</th>\n",
       "    </tr>\n",
       "  </thead>\n",
       "  <tbody>\n",
       "    <tr>\n",
       "      <th>0</th>\n",
       "      <td>0.213</td>\n",
       "      <td>0.06560</td>\n",
       "      <td>7</td>\n",
       "      <td>-24.810</td>\n",
       "      <td>1</td>\n",
       "      <td>0.0467</td>\n",
       "      <td>0.99200</td>\n",
       "      <td>0.969000</td>\n",
       "      <td>0.0699</td>\n",
       "      <td>0.0384</td>\n",
       "      <td>65.023</td>\n",
       "      <td>audio_features</td>\n",
       "      <td>3U8Fx7zNTQrctytkj6Gqgd</td>\n",
       "      <td>spotify:track:3U8Fx7zNTQrctytkj6Gqgd</td>\n",
       "      <td>https://api.spotify.com/v1/tracks/3U8Fx7zNTQrc...</td>\n",
       "      <td>https://api.spotify.com/v1/audio-analysis/3U8F...</td>\n",
       "      <td>150147</td>\n",
       "      <td>3</td>\n",
       "    </tr>\n",
       "    <tr>\n",
       "      <th>1</th>\n",
       "      <td>0.330</td>\n",
       "      <td>0.00357</td>\n",
       "      <td>3</td>\n",
       "      <td>-33.142</td>\n",
       "      <td>1</td>\n",
       "      <td>0.0339</td>\n",
       "      <td>0.99500</td>\n",
       "      <td>0.953000</td>\n",
       "      <td>0.0989</td>\n",
       "      <td>0.1210</td>\n",
       "      <td>100.741</td>\n",
       "      <td>audio_features</td>\n",
       "      <td>6MzbO6YS0M6tjwT93hjAl0</td>\n",
       "      <td>spotify:track:6MzbO6YS0M6tjwT93hjAl0</td>\n",
       "      <td>https://api.spotify.com/v1/tracks/6MzbO6YS0M6t...</td>\n",
       "      <td>https://api.spotify.com/v1/audio-analysis/6Mzb...</td>\n",
       "      <td>216213</td>\n",
       "      <td>3</td>\n",
       "    </tr>\n",
       "    <tr>\n",
       "      <th>2</th>\n",
       "      <td>0.368</td>\n",
       "      <td>0.00363</td>\n",
       "      <td>1</td>\n",
       "      <td>-36.759</td>\n",
       "      <td>1</td>\n",
       "      <td>0.0350</td>\n",
       "      <td>0.99300</td>\n",
       "      <td>0.922000</td>\n",
       "      <td>0.1370</td>\n",
       "      <td>0.0850</td>\n",
       "      <td>69.363</td>\n",
       "      <td>audio_features</td>\n",
       "      <td>1L4NadMj3Jj7YgGaikyhfr</td>\n",
       "      <td>spotify:track:1L4NadMj3Jj7YgGaikyhfr</td>\n",
       "      <td>https://api.spotify.com/v1/tracks/1L4NadMj3Jj7...</td>\n",
       "      <td>https://api.spotify.com/v1/audio-analysis/1L4N...</td>\n",
       "      <td>254000</td>\n",
       "      <td>3</td>\n",
       "    </tr>\n",
       "    <tr>\n",
       "      <th>3</th>\n",
       "      <td>0.320</td>\n",
       "      <td>0.00501</td>\n",
       "      <td>1</td>\n",
       "      <td>-33.366</td>\n",
       "      <td>1</td>\n",
       "      <td>0.0455</td>\n",
       "      <td>0.99300</td>\n",
       "      <td>0.919000</td>\n",
       "      <td>0.0618</td>\n",
       "      <td>0.0383</td>\n",
       "      <td>68.947</td>\n",
       "      <td>audio_features</td>\n",
       "      <td>3hCPh4oVVjaM8tv9sFH8cx</td>\n",
       "      <td>spotify:track:3hCPh4oVVjaM8tv9sFH8cx</td>\n",
       "      <td>https://api.spotify.com/v1/tracks/3hCPh4oVVjaM...</td>\n",
       "      <td>https://api.spotify.com/v1/audio-analysis/3hCP...</td>\n",
       "      <td>294960</td>\n",
       "      <td>5</td>\n",
       "    </tr>\n",
       "    <tr>\n",
       "      <th>4</th>\n",
       "      <td>0.701</td>\n",
       "      <td>0.34100</td>\n",
       "      <td>1</td>\n",
       "      <td>-12.260</td>\n",
       "      <td>0</td>\n",
       "      <td>0.0418</td>\n",
       "      <td>0.49900</td>\n",
       "      <td>0.903000</td>\n",
       "      <td>0.3590</td>\n",
       "      <td>0.1630</td>\n",
       "      <td>105.513</td>\n",
       "      <td>audio_features</td>\n",
       "      <td>5xbuJuQsTVheVZvX2AJVIv</td>\n",
       "      <td>spotify:track:5xbuJuQsTVheVZvX2AJVIv</td>\n",
       "      <td>https://api.spotify.com/v1/tracks/5xbuJuQsTVhe...</td>\n",
       "      <td>https://api.spotify.com/v1/audio-analysis/5xbu...</td>\n",
       "      <td>151507</td>\n",
       "      <td>3</td>\n",
       "    </tr>\n",
       "    <tr>\n",
       "      <th>...</th>\n",
       "      <td>...</td>\n",
       "      <td>...</td>\n",
       "      <td>...</td>\n",
       "      <td>...</td>\n",
       "      <td>...</td>\n",
       "      <td>...</td>\n",
       "      <td>...</td>\n",
       "      <td>...</td>\n",
       "      <td>...</td>\n",
       "      <td>...</td>\n",
       "      <td>...</td>\n",
       "      <td>...</td>\n",
       "      <td>...</td>\n",
       "      <td>...</td>\n",
       "      <td>...</td>\n",
       "      <td>...</td>\n",
       "      <td>...</td>\n",
       "      <td>...</td>\n",
       "    </tr>\n",
       "    <tr>\n",
       "      <th>1843</th>\n",
       "      <td>0.767</td>\n",
       "      <td>0.68200</td>\n",
       "      <td>1</td>\n",
       "      <td>-5.020</td>\n",
       "      <td>1</td>\n",
       "      <td>0.0420</td>\n",
       "      <td>0.01130</td>\n",
       "      <td>0.000160</td>\n",
       "      <td>0.1040</td>\n",
       "      <td>0.8330</td>\n",
       "      <td>127.975</td>\n",
       "      <td>audio_features</td>\n",
       "      <td>0C4ejWmOTMv8vuYj85mf8m</td>\n",
       "      <td>spotify:track:0C4ejWmOTMv8vuYj85mf8m</td>\n",
       "      <td>https://api.spotify.com/v1/tracks/0C4ejWmOTMv8...</td>\n",
       "      <td>https://api.spotify.com/v1/audio-analysis/0C4e...</td>\n",
       "      <td>243533</td>\n",
       "      <td>4</td>\n",
       "    </tr>\n",
       "    <tr>\n",
       "      <th>1844</th>\n",
       "      <td>0.708</td>\n",
       "      <td>0.64100</td>\n",
       "      <td>7</td>\n",
       "      <td>-4.271</td>\n",
       "      <td>1</td>\n",
       "      <td>0.0336</td>\n",
       "      <td>0.20500</td>\n",
       "      <td>0.000000</td>\n",
       "      <td>0.0925</td>\n",
       "      <td>0.2530</td>\n",
       "      <td>113.082</td>\n",
       "      <td>audio_features</td>\n",
       "      <td>0lupJBVy4UQrvI4Oy3PvI7</td>\n",
       "      <td>spotify:track:0lupJBVy4UQrvI4Oy3PvI7</td>\n",
       "      <td>https://api.spotify.com/v1/tracks/0lupJBVy4UQr...</td>\n",
       "      <td>https://api.spotify.com/v1/audio-analysis/0lup...</td>\n",
       "      <td>268120</td>\n",
       "      <td>4</td>\n",
       "    </tr>\n",
       "    <tr>\n",
       "      <th>1845</th>\n",
       "      <td>0.754</td>\n",
       "      <td>0.65200</td>\n",
       "      <td>11</td>\n",
       "      <td>-4.924</td>\n",
       "      <td>0</td>\n",
       "      <td>0.0308</td>\n",
       "      <td>0.17400</td>\n",
       "      <td>0.000000</td>\n",
       "      <td>0.1130</td>\n",
       "      <td>0.4740</td>\n",
       "      <td>95.006</td>\n",
       "      <td>audio_features</td>\n",
       "      <td>1FvOiE8MGWB8MUCAPvro3h</td>\n",
       "      <td>spotify:track:1FvOiE8MGWB8MUCAPvro3h</td>\n",
       "      <td>https://api.spotify.com/v1/tracks/1FvOiE8MGWB8...</td>\n",
       "      <td>https://api.spotify.com/v1/audio-analysis/1FvO...</td>\n",
       "      <td>192013</td>\n",
       "      <td>4</td>\n",
       "    </tr>\n",
       "    <tr>\n",
       "      <th>1846</th>\n",
       "      <td>0.825</td>\n",
       "      <td>0.83200</td>\n",
       "      <td>5</td>\n",
       "      <td>-5.853</td>\n",
       "      <td>0</td>\n",
       "      <td>0.0403</td>\n",
       "      <td>0.00587</td>\n",
       "      <td>0.000789</td>\n",
       "      <td>0.1140</td>\n",
       "      <td>0.7130</td>\n",
       "      <td>122.021</td>\n",
       "      <td>audio_features</td>\n",
       "      <td>6nCDnzErqalOaIY3EJM8NK</td>\n",
       "      <td>spotify:track:6nCDnzErqalOaIY3EJM8NK</td>\n",
       "      <td>https://api.spotify.com/v1/tracks/6nCDnzErqalO...</td>\n",
       "      <td>https://api.spotify.com/v1/audio-analysis/6nCD...</td>\n",
       "      <td>220627</td>\n",
       "      <td>4</td>\n",
       "    </tr>\n",
       "    <tr>\n",
       "      <th>1847</th>\n",
       "      <td>0.758</td>\n",
       "      <td>0.55700</td>\n",
       "      <td>7</td>\n",
       "      <td>-4.568</td>\n",
       "      <td>1</td>\n",
       "      <td>0.0340</td>\n",
       "      <td>0.01170</td>\n",
       "      <td>0.000000</td>\n",
       "      <td>0.0418</td>\n",
       "      <td>0.7810</td>\n",
       "      <td>126.986</td>\n",
       "      <td>audio_features</td>\n",
       "      <td>2fQxE0jVrjNMT9oJAXtSJR</td>\n",
       "      <td>spotify:track:2fQxE0jVrjNMT9oJAXtSJR</td>\n",
       "      <td>https://api.spotify.com/v1/tracks/2fQxE0jVrjNM...</td>\n",
       "      <td>https://api.spotify.com/v1/audio-analysis/2fQx...</td>\n",
       "      <td>231840</td>\n",
       "      <td>4</td>\n",
       "    </tr>\n",
       "  </tbody>\n",
       "</table>\n",
       "<p>1848 rows × 18 columns</p>\n",
       "</div>"
      ],
      "text/plain": [
       "      danceability   energy  key  loudness  mode  speechiness  acousticness  \\\n",
       "0            0.213  0.06560    7   -24.810     1       0.0467       0.99200   \n",
       "1            0.330  0.00357    3   -33.142     1       0.0339       0.99500   \n",
       "2            0.368  0.00363    1   -36.759     1       0.0350       0.99300   \n",
       "3            0.320  0.00501    1   -33.366     1       0.0455       0.99300   \n",
       "4            0.701  0.34100    1   -12.260     0       0.0418       0.49900   \n",
       "...            ...      ...  ...       ...   ...          ...           ...   \n",
       "1843         0.767  0.68200    1    -5.020     1       0.0420       0.01130   \n",
       "1844         0.708  0.64100    7    -4.271     1       0.0336       0.20500   \n",
       "1845         0.754  0.65200   11    -4.924     0       0.0308       0.17400   \n",
       "1846         0.825  0.83200    5    -5.853     0       0.0403       0.00587   \n",
       "1847         0.758  0.55700    7    -4.568     1       0.0340       0.01170   \n",
       "\n",
       "      instrumentalness  liveness  valence    tempo            type  \\\n",
       "0             0.969000    0.0699   0.0384   65.023  audio_features   \n",
       "1             0.953000    0.0989   0.1210  100.741  audio_features   \n",
       "2             0.922000    0.1370   0.0850   69.363  audio_features   \n",
       "3             0.919000    0.0618   0.0383   68.947  audio_features   \n",
       "4             0.903000    0.3590   0.1630  105.513  audio_features   \n",
       "...                ...       ...      ...      ...             ...   \n",
       "1843          0.000160    0.1040   0.8330  127.975  audio_features   \n",
       "1844          0.000000    0.0925   0.2530  113.082  audio_features   \n",
       "1845          0.000000    0.1130   0.4740   95.006  audio_features   \n",
       "1846          0.000789    0.1140   0.7130  122.021  audio_features   \n",
       "1847          0.000000    0.0418   0.7810  126.986  audio_features   \n",
       "\n",
       "                          id                                   uri  \\\n",
       "0     3U8Fx7zNTQrctytkj6Gqgd  spotify:track:3U8Fx7zNTQrctytkj6Gqgd   \n",
       "1     6MzbO6YS0M6tjwT93hjAl0  spotify:track:6MzbO6YS0M6tjwT93hjAl0   \n",
       "2     1L4NadMj3Jj7YgGaikyhfr  spotify:track:1L4NadMj3Jj7YgGaikyhfr   \n",
       "3     3hCPh4oVVjaM8tv9sFH8cx  spotify:track:3hCPh4oVVjaM8tv9sFH8cx   \n",
       "4     5xbuJuQsTVheVZvX2AJVIv  spotify:track:5xbuJuQsTVheVZvX2AJVIv   \n",
       "...                      ...                                   ...   \n",
       "1843  0C4ejWmOTMv8vuYj85mf8m  spotify:track:0C4ejWmOTMv8vuYj85mf8m   \n",
       "1844  0lupJBVy4UQrvI4Oy3PvI7  spotify:track:0lupJBVy4UQrvI4Oy3PvI7   \n",
       "1845  1FvOiE8MGWB8MUCAPvro3h  spotify:track:1FvOiE8MGWB8MUCAPvro3h   \n",
       "1846  6nCDnzErqalOaIY3EJM8NK  spotify:track:6nCDnzErqalOaIY3EJM8NK   \n",
       "1847  2fQxE0jVrjNMT9oJAXtSJR  spotify:track:2fQxE0jVrjNMT9oJAXtSJR   \n",
       "\n",
       "                                             track_href  \\\n",
       "0     https://api.spotify.com/v1/tracks/3U8Fx7zNTQrc...   \n",
       "1     https://api.spotify.com/v1/tracks/6MzbO6YS0M6t...   \n",
       "2     https://api.spotify.com/v1/tracks/1L4NadMj3Jj7...   \n",
       "3     https://api.spotify.com/v1/tracks/3hCPh4oVVjaM...   \n",
       "4     https://api.spotify.com/v1/tracks/5xbuJuQsTVhe...   \n",
       "...                                                 ...   \n",
       "1843  https://api.spotify.com/v1/tracks/0C4ejWmOTMv8...   \n",
       "1844  https://api.spotify.com/v1/tracks/0lupJBVy4UQr...   \n",
       "1845  https://api.spotify.com/v1/tracks/1FvOiE8MGWB8...   \n",
       "1846  https://api.spotify.com/v1/tracks/6nCDnzErqalO...   \n",
       "1847  https://api.spotify.com/v1/tracks/2fQxE0jVrjNM...   \n",
       "\n",
       "                                           analysis_url  duration_ms  \\\n",
       "0     https://api.spotify.com/v1/audio-analysis/3U8F...       150147   \n",
       "1     https://api.spotify.com/v1/audio-analysis/6Mzb...       216213   \n",
       "2     https://api.spotify.com/v1/audio-analysis/1L4N...       254000   \n",
       "3     https://api.spotify.com/v1/audio-analysis/3hCP...       294960   \n",
       "4     https://api.spotify.com/v1/audio-analysis/5xbu...       151507   \n",
       "...                                                 ...          ...   \n",
       "1843  https://api.spotify.com/v1/audio-analysis/0C4e...       243533   \n",
       "1844  https://api.spotify.com/v1/audio-analysis/0lup...       268120   \n",
       "1845  https://api.spotify.com/v1/audio-analysis/1FvO...       192013   \n",
       "1846  https://api.spotify.com/v1/audio-analysis/6nCD...       220627   \n",
       "1847  https://api.spotify.com/v1/audio-analysis/2fQx...       231840   \n",
       "\n",
       "      time_signature  \n",
       "0                  3  \n",
       "1                  3  \n",
       "2                  3  \n",
       "3                  5  \n",
       "4                  3  \n",
       "...              ...  \n",
       "1843               4  \n",
       "1844               4  \n",
       "1845               4  \n",
       "1846               4  \n",
       "1847               4  \n",
       "\n",
       "[1848 rows x 18 columns]"
      ]
     },
     "execution_count": 134,
     "metadata": {},
     "output_type": "execute_result"
    }
   ],
   "source": [
    "df"
   ]
  },
  {
   "cell_type": "markdown",
   "id": "fe197314",
   "metadata": {},
   "source": [
    "### Creating a new df to train my KMEANS"
   ]
  },
  {
   "cell_type": "code",
   "execution_count": 135,
   "id": "4df9cdad",
   "metadata": {},
   "outputs": [],
   "source": [
    "X = df[['danceability', 'energy', 'key', 'loudness', \"mode\", 'speechiness', 'acousticness', 'instrumentalness', 'liveness', \"valence\" , \"tempo\"]]"
   ]
  },
  {
   "cell_type": "code",
   "execution_count": 136,
   "id": "ae7ac4fb",
   "metadata": {},
   "outputs": [
    {
     "data": {
      "text/html": [
       "<div>\n",
       "<style scoped>\n",
       "    .dataframe tbody tr th:only-of-type {\n",
       "        vertical-align: middle;\n",
       "    }\n",
       "\n",
       "    .dataframe tbody tr th {\n",
       "        vertical-align: top;\n",
       "    }\n",
       "\n",
       "    .dataframe thead th {\n",
       "        text-align: right;\n",
       "    }\n",
       "</style>\n",
       "<table border=\"1\" class=\"dataframe\">\n",
       "  <thead>\n",
       "    <tr style=\"text-align: right;\">\n",
       "      <th></th>\n",
       "      <th>danceability</th>\n",
       "      <th>energy</th>\n",
       "      <th>key</th>\n",
       "      <th>loudness</th>\n",
       "      <th>mode</th>\n",
       "      <th>speechiness</th>\n",
       "      <th>acousticness</th>\n",
       "      <th>instrumentalness</th>\n",
       "      <th>liveness</th>\n",
       "      <th>valence</th>\n",
       "      <th>tempo</th>\n",
       "    </tr>\n",
       "  </thead>\n",
       "  <tbody>\n",
       "    <tr>\n",
       "      <th>0</th>\n",
       "      <td>0.213</td>\n",
       "      <td>0.06560</td>\n",
       "      <td>7</td>\n",
       "      <td>-24.810</td>\n",
       "      <td>1</td>\n",
       "      <td>0.0467</td>\n",
       "      <td>0.99200</td>\n",
       "      <td>0.969000</td>\n",
       "      <td>0.0699</td>\n",
       "      <td>0.0384</td>\n",
       "      <td>65.023</td>\n",
       "    </tr>\n",
       "    <tr>\n",
       "      <th>1</th>\n",
       "      <td>0.330</td>\n",
       "      <td>0.00357</td>\n",
       "      <td>3</td>\n",
       "      <td>-33.142</td>\n",
       "      <td>1</td>\n",
       "      <td>0.0339</td>\n",
       "      <td>0.99500</td>\n",
       "      <td>0.953000</td>\n",
       "      <td>0.0989</td>\n",
       "      <td>0.1210</td>\n",
       "      <td>100.741</td>\n",
       "    </tr>\n",
       "    <tr>\n",
       "      <th>2</th>\n",
       "      <td>0.368</td>\n",
       "      <td>0.00363</td>\n",
       "      <td>1</td>\n",
       "      <td>-36.759</td>\n",
       "      <td>1</td>\n",
       "      <td>0.0350</td>\n",
       "      <td>0.99300</td>\n",
       "      <td>0.922000</td>\n",
       "      <td>0.1370</td>\n",
       "      <td>0.0850</td>\n",
       "      <td>69.363</td>\n",
       "    </tr>\n",
       "    <tr>\n",
       "      <th>3</th>\n",
       "      <td>0.320</td>\n",
       "      <td>0.00501</td>\n",
       "      <td>1</td>\n",
       "      <td>-33.366</td>\n",
       "      <td>1</td>\n",
       "      <td>0.0455</td>\n",
       "      <td>0.99300</td>\n",
       "      <td>0.919000</td>\n",
       "      <td>0.0618</td>\n",
       "      <td>0.0383</td>\n",
       "      <td>68.947</td>\n",
       "    </tr>\n",
       "    <tr>\n",
       "      <th>4</th>\n",
       "      <td>0.701</td>\n",
       "      <td>0.34100</td>\n",
       "      <td>1</td>\n",
       "      <td>-12.260</td>\n",
       "      <td>0</td>\n",
       "      <td>0.0418</td>\n",
       "      <td>0.49900</td>\n",
       "      <td>0.903000</td>\n",
       "      <td>0.3590</td>\n",
       "      <td>0.1630</td>\n",
       "      <td>105.513</td>\n",
       "    </tr>\n",
       "    <tr>\n",
       "      <th>...</th>\n",
       "      <td>...</td>\n",
       "      <td>...</td>\n",
       "      <td>...</td>\n",
       "      <td>...</td>\n",
       "      <td>...</td>\n",
       "      <td>...</td>\n",
       "      <td>...</td>\n",
       "      <td>...</td>\n",
       "      <td>...</td>\n",
       "      <td>...</td>\n",
       "      <td>...</td>\n",
       "    </tr>\n",
       "    <tr>\n",
       "      <th>1843</th>\n",
       "      <td>0.767</td>\n",
       "      <td>0.68200</td>\n",
       "      <td>1</td>\n",
       "      <td>-5.020</td>\n",
       "      <td>1</td>\n",
       "      <td>0.0420</td>\n",
       "      <td>0.01130</td>\n",
       "      <td>0.000160</td>\n",
       "      <td>0.1040</td>\n",
       "      <td>0.8330</td>\n",
       "      <td>127.975</td>\n",
       "    </tr>\n",
       "    <tr>\n",
       "      <th>1844</th>\n",
       "      <td>0.708</td>\n",
       "      <td>0.64100</td>\n",
       "      <td>7</td>\n",
       "      <td>-4.271</td>\n",
       "      <td>1</td>\n",
       "      <td>0.0336</td>\n",
       "      <td>0.20500</td>\n",
       "      <td>0.000000</td>\n",
       "      <td>0.0925</td>\n",
       "      <td>0.2530</td>\n",
       "      <td>113.082</td>\n",
       "    </tr>\n",
       "    <tr>\n",
       "      <th>1845</th>\n",
       "      <td>0.754</td>\n",
       "      <td>0.65200</td>\n",
       "      <td>11</td>\n",
       "      <td>-4.924</td>\n",
       "      <td>0</td>\n",
       "      <td>0.0308</td>\n",
       "      <td>0.17400</td>\n",
       "      <td>0.000000</td>\n",
       "      <td>0.1130</td>\n",
       "      <td>0.4740</td>\n",
       "      <td>95.006</td>\n",
       "    </tr>\n",
       "    <tr>\n",
       "      <th>1846</th>\n",
       "      <td>0.825</td>\n",
       "      <td>0.83200</td>\n",
       "      <td>5</td>\n",
       "      <td>-5.853</td>\n",
       "      <td>0</td>\n",
       "      <td>0.0403</td>\n",
       "      <td>0.00587</td>\n",
       "      <td>0.000789</td>\n",
       "      <td>0.1140</td>\n",
       "      <td>0.7130</td>\n",
       "      <td>122.021</td>\n",
       "    </tr>\n",
       "    <tr>\n",
       "      <th>1847</th>\n",
       "      <td>0.758</td>\n",
       "      <td>0.55700</td>\n",
       "      <td>7</td>\n",
       "      <td>-4.568</td>\n",
       "      <td>1</td>\n",
       "      <td>0.0340</td>\n",
       "      <td>0.01170</td>\n",
       "      <td>0.000000</td>\n",
       "      <td>0.0418</td>\n",
       "      <td>0.7810</td>\n",
       "      <td>126.986</td>\n",
       "    </tr>\n",
       "  </tbody>\n",
       "</table>\n",
       "<p>1848 rows × 11 columns</p>\n",
       "</div>"
      ],
      "text/plain": [
       "      danceability   energy  key  loudness  mode  speechiness  acousticness  \\\n",
       "0            0.213  0.06560    7   -24.810     1       0.0467       0.99200   \n",
       "1            0.330  0.00357    3   -33.142     1       0.0339       0.99500   \n",
       "2            0.368  0.00363    1   -36.759     1       0.0350       0.99300   \n",
       "3            0.320  0.00501    1   -33.366     1       0.0455       0.99300   \n",
       "4            0.701  0.34100    1   -12.260     0       0.0418       0.49900   \n",
       "...            ...      ...  ...       ...   ...          ...           ...   \n",
       "1843         0.767  0.68200    1    -5.020     1       0.0420       0.01130   \n",
       "1844         0.708  0.64100    7    -4.271     1       0.0336       0.20500   \n",
       "1845         0.754  0.65200   11    -4.924     0       0.0308       0.17400   \n",
       "1846         0.825  0.83200    5    -5.853     0       0.0403       0.00587   \n",
       "1847         0.758  0.55700    7    -4.568     1       0.0340       0.01170   \n",
       "\n",
       "      instrumentalness  liveness  valence    tempo  \n",
       "0             0.969000    0.0699   0.0384   65.023  \n",
       "1             0.953000    0.0989   0.1210  100.741  \n",
       "2             0.922000    0.1370   0.0850   69.363  \n",
       "3             0.919000    0.0618   0.0383   68.947  \n",
       "4             0.903000    0.3590   0.1630  105.513  \n",
       "...                ...       ...      ...      ...  \n",
       "1843          0.000160    0.1040   0.8330  127.975  \n",
       "1844          0.000000    0.0925   0.2530  113.082  \n",
       "1845          0.000000    0.1130   0.4740   95.006  \n",
       "1846          0.000789    0.1140   0.7130  122.021  \n",
       "1847          0.000000    0.0418   0.7810  126.986  \n",
       "\n",
       "[1848 rows x 11 columns]"
      ]
     },
     "execution_count": 136,
     "metadata": {},
     "output_type": "execute_result"
    }
   ],
   "source": [
    "X"
   ]
  },
  {
   "cell_type": "markdown",
   "id": "ae60bd4e",
   "metadata": {},
   "source": [
    "## ➡️ Train KMEANS"
   ]
  },
  {
   "cell_type": "markdown",
   "id": "973a7ff2",
   "metadata": {},
   "source": [
    "##  1. Scaling features\n",
    "\n",
    "**K-Means is a distance based algorithm**: we need to scale / normalize!:\n"
   ]
  },
  {
   "cell_type": "code",
   "execution_count": 137,
   "id": "2567195f",
   "metadata": {},
   "outputs": [
    {
     "data": {
      "text/html": [
       "<div>\n",
       "<style scoped>\n",
       "    .dataframe tbody tr th:only-of-type {\n",
       "        vertical-align: middle;\n",
       "    }\n",
       "\n",
       "    .dataframe tbody tr th {\n",
       "        vertical-align: top;\n",
       "    }\n",
       "\n",
       "    .dataframe thead th {\n",
       "        text-align: right;\n",
       "    }\n",
       "</style>\n",
       "<table border=\"1\" class=\"dataframe\">\n",
       "  <thead>\n",
       "    <tr style=\"text-align: right;\">\n",
       "      <th></th>\n",
       "      <th>danceability</th>\n",
       "      <th>energy</th>\n",
       "      <th>key</th>\n",
       "      <th>loudness</th>\n",
       "      <th>mode</th>\n",
       "      <th>speechiness</th>\n",
       "      <th>acousticness</th>\n",
       "      <th>instrumentalness</th>\n",
       "      <th>liveness</th>\n",
       "      <th>valence</th>\n",
       "      <th>tempo</th>\n",
       "    </tr>\n",
       "  </thead>\n",
       "  <tbody>\n",
       "    <tr>\n",
       "      <th>0</th>\n",
       "      <td>0.213</td>\n",
       "      <td>0.06560</td>\n",
       "      <td>7</td>\n",
       "      <td>-24.810</td>\n",
       "      <td>1</td>\n",
       "      <td>0.0467</td>\n",
       "      <td>0.992</td>\n",
       "      <td>0.969</td>\n",
       "      <td>0.0699</td>\n",
       "      <td>0.0384</td>\n",
       "      <td>65.023</td>\n",
       "    </tr>\n",
       "    <tr>\n",
       "      <th>1</th>\n",
       "      <td>0.330</td>\n",
       "      <td>0.00357</td>\n",
       "      <td>3</td>\n",
       "      <td>-33.142</td>\n",
       "      <td>1</td>\n",
       "      <td>0.0339</td>\n",
       "      <td>0.995</td>\n",
       "      <td>0.953</td>\n",
       "      <td>0.0989</td>\n",
       "      <td>0.1210</td>\n",
       "      <td>100.741</td>\n",
       "    </tr>\n",
       "    <tr>\n",
       "      <th>2</th>\n",
       "      <td>0.368</td>\n",
       "      <td>0.00363</td>\n",
       "      <td>1</td>\n",
       "      <td>-36.759</td>\n",
       "      <td>1</td>\n",
       "      <td>0.0350</td>\n",
       "      <td>0.993</td>\n",
       "      <td>0.922</td>\n",
       "      <td>0.1370</td>\n",
       "      <td>0.0850</td>\n",
       "      <td>69.363</td>\n",
       "    </tr>\n",
       "    <tr>\n",
       "      <th>3</th>\n",
       "      <td>0.320</td>\n",
       "      <td>0.00501</td>\n",
       "      <td>1</td>\n",
       "      <td>-33.366</td>\n",
       "      <td>1</td>\n",
       "      <td>0.0455</td>\n",
       "      <td>0.993</td>\n",
       "      <td>0.919</td>\n",
       "      <td>0.0618</td>\n",
       "      <td>0.0383</td>\n",
       "      <td>68.947</td>\n",
       "    </tr>\n",
       "    <tr>\n",
       "      <th>4</th>\n",
       "      <td>0.701</td>\n",
       "      <td>0.34100</td>\n",
       "      <td>1</td>\n",
       "      <td>-12.260</td>\n",
       "      <td>0</td>\n",
       "      <td>0.0418</td>\n",
       "      <td>0.499</td>\n",
       "      <td>0.903</td>\n",
       "      <td>0.3590</td>\n",
       "      <td>0.1630</td>\n",
       "      <td>105.513</td>\n",
       "    </tr>\n",
       "  </tbody>\n",
       "</table>\n",
       "</div>"
      ],
      "text/plain": [
       "   danceability   energy  key  loudness  mode  speechiness  acousticness  \\\n",
       "0         0.213  0.06560    7   -24.810     1       0.0467         0.992   \n",
       "1         0.330  0.00357    3   -33.142     1       0.0339         0.995   \n",
       "2         0.368  0.00363    1   -36.759     1       0.0350         0.993   \n",
       "3         0.320  0.00501    1   -33.366     1       0.0455         0.993   \n",
       "4         0.701  0.34100    1   -12.260     0       0.0418         0.499   \n",
       "\n",
       "   instrumentalness  liveness  valence    tempo  \n",
       "0             0.969    0.0699   0.0384   65.023  \n",
       "1             0.953    0.0989   0.1210  100.741  \n",
       "2             0.922    0.1370   0.0850   69.363  \n",
       "3             0.919    0.0618   0.0383   68.947  \n",
       "4             0.903    0.3590   0.1630  105.513  "
      ]
     },
     "metadata": {},
     "output_type": "display_data"
    },
    {
     "name": "stdout",
     "output_type": "stream",
     "text": [
      "\n"
     ]
    },
    {
     "data": {
      "text/html": [
       "<div>\n",
       "<style scoped>\n",
       "    .dataframe tbody tr th:only-of-type {\n",
       "        vertical-align: middle;\n",
       "    }\n",
       "\n",
       "    .dataframe tbody tr th {\n",
       "        vertical-align: top;\n",
       "    }\n",
       "\n",
       "    .dataframe thead th {\n",
       "        text-align: right;\n",
       "    }\n",
       "</style>\n",
       "<table border=\"1\" class=\"dataframe\">\n",
       "  <thead>\n",
       "    <tr style=\"text-align: right;\">\n",
       "      <th></th>\n",
       "      <th>danceability</th>\n",
       "      <th>energy</th>\n",
       "      <th>key</th>\n",
       "      <th>loudness</th>\n",
       "      <th>mode</th>\n",
       "      <th>speechiness</th>\n",
       "      <th>acousticness</th>\n",
       "      <th>instrumentalness</th>\n",
       "      <th>liveness</th>\n",
       "      <th>valence</th>\n",
       "      <th>tempo</th>\n",
       "    </tr>\n",
       "  </thead>\n",
       "  <tbody>\n",
       "    <tr>\n",
       "      <th>0</th>\n",
       "      <td>-2.106568</td>\n",
       "      <td>-2.027035</td>\n",
       "      <td>0.511318</td>\n",
       "      <td>-2.250848</td>\n",
       "      <td>0.741846</td>\n",
       "      <td>-0.347172</td>\n",
       "      <td>1.872428</td>\n",
       "      <td>3.232389</td>\n",
       "      <td>-0.670567</td>\n",
       "      <td>-1.922220</td>\n",
       "      <td>-1.882001</td>\n",
       "    </tr>\n",
       "    <tr>\n",
       "      <th>1</th>\n",
       "      <td>-1.438175</td>\n",
       "      <td>-2.270282</td>\n",
       "      <td>-0.614587</td>\n",
       "      <td>-3.487886</td>\n",
       "      <td>0.741846</td>\n",
       "      <td>-0.537394</td>\n",
       "      <td>1.881349</td>\n",
       "      <td>3.172778</td>\n",
       "      <td>-0.514928</td>\n",
       "      <td>-1.615184</td>\n",
       "      <td>-0.621480</td>\n",
       "    </tr>\n",
       "    <tr>\n",
       "      <th>2</th>\n",
       "      <td>-1.221090</td>\n",
       "      <td>-2.270047</td>\n",
       "      <td>-1.177540</td>\n",
       "      <td>-4.024896</td>\n",
       "      <td>0.741846</td>\n",
       "      <td>-0.521047</td>\n",
       "      <td>1.875402</td>\n",
       "      <td>3.057280</td>\n",
       "      <td>-0.310450</td>\n",
       "      <td>-1.749001</td>\n",
       "      <td>-1.728839</td>\n",
       "    </tr>\n",
       "    <tr>\n",
       "      <th>3</th>\n",
       "      <td>-1.495303</td>\n",
       "      <td>-2.264636</td>\n",
       "      <td>-1.177540</td>\n",
       "      <td>-3.521143</td>\n",
       "      <td>0.741846</td>\n",
       "      <td>-0.365005</td>\n",
       "      <td>1.875402</td>\n",
       "      <td>3.046103</td>\n",
       "      <td>-0.714038</td>\n",
       "      <td>-1.922591</td>\n",
       "      <td>-1.743520</td>\n",
       "    </tr>\n",
       "    <tr>\n",
       "      <th>4</th>\n",
       "      <td>0.681259</td>\n",
       "      <td>-0.947066</td>\n",
       "      <td>-1.177540</td>\n",
       "      <td>-0.387570</td>\n",
       "      <td>-1.347989</td>\n",
       "      <td>-0.419991</td>\n",
       "      <td>0.406462</td>\n",
       "      <td>2.986491</td>\n",
       "      <td>0.880993</td>\n",
       "      <td>-1.459064</td>\n",
       "      <td>-0.453072</td>\n",
       "    </tr>\n",
       "  </tbody>\n",
       "</table>\n",
       "</div>"
      ],
      "text/plain": [
       "   danceability    energy       key  loudness      mode  speechiness  \\\n",
       "0     -2.106568 -2.027035  0.511318 -2.250848  0.741846    -0.347172   \n",
       "1     -1.438175 -2.270282 -0.614587 -3.487886  0.741846    -0.537394   \n",
       "2     -1.221090 -2.270047 -1.177540 -4.024896  0.741846    -0.521047   \n",
       "3     -1.495303 -2.264636 -1.177540 -3.521143  0.741846    -0.365005   \n",
       "4      0.681259 -0.947066 -1.177540 -0.387570 -1.347989    -0.419991   \n",
       "\n",
       "   acousticness  instrumentalness  liveness   valence     tempo  \n",
       "0      1.872428          3.232389 -0.670567 -1.922220 -1.882001  \n",
       "1      1.881349          3.172778 -0.514928 -1.615184 -0.621480  \n",
       "2      1.875402          3.057280 -0.310450 -1.749001 -1.728839  \n",
       "3      1.875402          3.046103 -0.714038 -1.922591 -1.743520  \n",
       "4      0.406462          2.986491  0.880993 -1.459064 -0.453072  "
      ]
     },
     "metadata": {},
     "output_type": "display_data"
    }
   ],
   "source": [
    "scaler = StandardScaler()\n",
    "\n",
    "scaler.fit(X)\n",
    "\n",
    "X_scaled = scaler.transform(X)\n",
    "\n",
    "# my x scaled\n",
    "X_scaled_df = pd.DataFrame(X_scaled, columns = X.columns)\n",
    "\n",
    "display(X.head())\n",
    "\n",
    "print()\n",
    "display(X_scaled_df.head())\n",
    "\n",
    "\n"
   ]
  },
  {
   "cell_type": "markdown",
   "id": "143e24f3",
   "metadata": {},
   "source": [
    "### Now, all features will have the same weight."
   ]
  },
  {
   "cell_type": "markdown",
   "id": "88c84e4b",
   "metadata": {},
   "source": [
    "# 2. Chosing k"
   ]
  },
  {
   "cell_type": "markdown",
   "id": "d08b7244",
   "metadata": {},
   "source": [
    "### ➡️ Appling the Elbow Method"
   ]
  },
  {
   "cell_type": "code",
   "execution_count": 21,
   "id": "8d278af2",
   "metadata": {},
   "outputs": [
    {
     "name": "stdout",
     "output_type": "stream",
     "text": [
      "Training a K-Means model with 2 clusters! \n",
      "\n",
      "Training a K-Means model with 3 clusters! \n",
      "\n",
      "Training a K-Means model with 4 clusters! \n",
      "\n",
      "Training a K-Means model with 5 clusters! \n",
      "\n",
      "Training a K-Means model with 6 clusters! \n",
      "\n",
      "Training a K-Means model with 7 clusters! \n",
      "\n",
      "Training a K-Means model with 8 clusters! \n",
      "\n",
      "Training a K-Means model with 9 clusters! \n",
      "\n",
      "Training a K-Means model with 10 clusters! \n",
      "\n",
      "Training a K-Means model with 11 clusters! \n",
      "\n",
      "Training a K-Means model with 12 clusters! \n",
      "\n",
      "Training a K-Means model with 13 clusters! \n",
      "\n",
      "Training a K-Means model with 14 clusters! \n",
      "\n",
      "Training a K-Means model with 15 clusters! \n",
      "\n",
      "Training a K-Means model with 16 clusters! \n",
      "\n",
      "Training a K-Means model with 17 clusters! \n",
      "\n",
      "Training a K-Means model with 18 clusters! \n",
      "\n",
      "Training a K-Means model with 19 clusters! \n",
      "\n",
      "Training a K-Means model with 20 clusters! \n",
      "\n"
     ]
    },
    {
     "data": {
      "text/plain": [
       "Text(0.5, 1.0, 'Elbow Method showing the optimal k')"
      ]
     },
     "execution_count": 21,
     "metadata": {},
     "output_type": "execute_result"
    },
    {
     "data": {
      "image/png": "[encoded data removed]",
      "text/plain": [
       "<Figure size 1600x800 with 1 Axes>"
      ]
     },
     "metadata": {},
     "output_type": "display_data"
    }
   ],
   "source": [
    "K = range(2, 21)\n",
    "inertia = []\n",
    "\n",
    "for k in K:\n",
    "    print(\"Training a K-Means model with {} clusters! \".format(k))\n",
    "    print()\n",
    "    kmeans = KMeans(n_clusters=k,\n",
    "                    random_state=1234)\n",
    "    kmeans.fit(X_scaled_df)\n",
    "    inertia.append(kmeans.inertia_)\n",
    "\n",
    "\n",
    "\n",
    "plt.figure(figsize=(16,8))\n",
    "plt.plot(K, inertia, 'bx-')\n",
    "plt.xlabel('k')\n",
    "plt.ylabel('inertia')\n",
    "plt.xticks(np.arange(min(K), max(K)+1, 1.0))\n",
    "plt.title('Elbow Method showing the optimal k')"
   ]
  },
  {
   "cell_type": "markdown",
   "id": "ac1e084f",
   "metadata": {},
   "source": [
    "There seems to be an elbow at **k=3**, and then a very slight one at k=10, but other than that the plot is quite smooth. What if our business needs involve having a k between 5 and 8?\n",
    "\n",
    "There is another metric that will help us decide."
   ]
  },
  {
   "cell_type": "markdown",
   "id": "669c7196",
   "metadata": {},
   "source": [
    "## ➡️ Appling the Silouhette Method"
   ]
  },
  {
   "cell_type": "code",
   "execution_count": 24,
   "id": "25e99246",
   "metadata": {},
   "outputs": [
    {
     "data": {
      "text/plain": [
       "Text(0.5, 1.0, 'Silhouette Method showing the optimal k')"
      ]
     },
     "execution_count": 24,
     "metadata": {},
     "output_type": "execute_result"
    },
    {
     "data": {
      "image/png": "[encoded data removed]",
      "text/plain": [
       "<Figure size 1600x800 with 1 Axes>"
      ]
     },
     "metadata": {},
     "output_type": "display_data"
    }
   ],
   "source": [
    "K = range(2, 20)\n",
    "silhouette = []\n",
    "\n",
    "for k in K:\n",
    "    kmeans = KMeans(n_clusters=k,\n",
    "                    random_state=1234)\n",
    "    kmeans.fit(X_scaled_df)\n",
    "    \n",
    "    silhouette.append(silhouette_score(X_scaled_df, kmeans.predict(X_scaled_df)))\n",
    "\n",
    "\n",
    "plt.figure(figsize=(16,8))\n",
    "plt.plot(K, silhouette, 'bx-')\n",
    "plt.xlabel('k')\n",
    "plt.ylabel('silhouette score')\n",
    "plt.xticks(np.arange(min(K), max(K)+1, 1.0))\n",
    "plt.title('Silhouette Method showing the optimal k')"
   ]
  },
  {
   "cell_type": "markdown",
   "id": "3d4f4f8d",
   "metadata": {},
   "source": [
    "Optional"
   ]
  },
  {
   "cell_type": "code",
   "execution_count": 32,
   "id": "4c9d2de9",
   "metadata": {},
   "outputs": [
    {
     "data": {
      "image/png": "[encoded data removed]",
      "text/plain": [
       "<Figure size 800x550 with 1 Axes>"
      ]
     },
     "metadata": {},
     "output_type": "display_data"
    },
    {
     "data": {
      "text/plain": [
       "<AxesSubplot:title={'center':'Silhouette Plot of KMeans Clustering for 1848 Samples in 3 Centers'}, xlabel='silhouette coefficient values', ylabel='cluster label'>"
      ]
     },
     "execution_count": 32,
     "metadata": {},
     "output_type": "execute_result"
    }
   ],
   "source": [
    "from yellowbrick.cluster import SilhouetteVisualizer\n",
    "model = KMeans(3, random_state=42)\n",
    "visualizer = SilhouetteVisualizer(model, colors='yellowbrick')\n",
    "visualizer.fit(X_scaled_df)        # Fit the data to the visualizer\n",
    "visualizer.show()        # Finalize and render the figure"
   ]
  },
  {
   "cell_type": "code",
   "execution_count": 27,
   "id": "c5a70844",
   "metadata": {},
   "outputs": [
    {
     "data": {
      "image/png": "[encoded data removed]",
      "text/plain": [
       "<Figure size 800x550 with 1 Axes>"
      ]
     },
     "metadata": {},
     "output_type": "display_data"
    },
    {
     "data": {
      "text/plain": [
       "<AxesSubplot:title={'center':'Silhouette Plot of KMeans Clustering for 1848 Samples in 6 Centers'}, xlabel='silhouette coefficient values', ylabel='cluster label'>"
      ]
     },
     "execution_count": 27,
     "metadata": {},
     "output_type": "execute_result"
    }
   ],
   "source": [
    "from yellowbrick.cluster import SilhouetteVisualizer\n",
    "model = KMeans(6, random_state=42)\n",
    "visualizer = SilhouetteVisualizer(model, colors='yellowbrick')\n",
    "visualizer.fit(X_scaled_df)        # Fit the data to the visualizer\n",
    "visualizer.show()        # Finalize and render the figure"
   ]
  },
  {
   "cell_type": "code",
   "execution_count": 26,
   "id": "958c4ccb",
   "metadata": {},
   "outputs": [
    {
     "data": {
      "image/png": "[encoded data removed]",
      "text/plain": [
       "<Figure size 800x550 with 1 Axes>"
      ]
     },
     "metadata": {},
     "output_type": "display_data"
    },
    {
     "data": {
      "text/plain": [
       "<AxesSubplot:title={'center':'Silhouette Plot of KMeans Clustering for 1848 Samples in 9 Centers'}, xlabel='silhouette coefficient values', ylabel='cluster label'>"
      ]
     },
     "execution_count": 26,
     "metadata": {},
     "output_type": "execute_result"
    }
   ],
   "source": [
    "from yellowbrick.cluster import SilhouetteVisualizer\n",
    "model = KMeans(9, random_state=42)\n",
    "visualizer = SilhouetteVisualizer(model, colors='yellowbrick')\n",
    "visualizer.fit(X_scaled_df)        # Fit the data to the visualizer\n",
    "visualizer.show()        # Finalize and render the figure"
   ]
  },
  {
   "cell_type": "markdown",
   "id": "6d735464",
   "metadata": {},
   "source": [
    "## 3. Clustering the wines with K-Means\n"
   ]
  },
  {
   "cell_type": "code",
   "execution_count": 28,
   "id": "47edfd38",
   "metadata": {},
   "outputs": [
    {
     "data": {
      "text/plain": [
       "KMeans(n_clusters=6, random_state=1234)"
      ]
     },
     "execution_count": 28,
     "metadata": {},
     "output_type": "execute_result"
    }
   ],
   "source": [
    "kmeans = KMeans(n_clusters=6, random_state=1234)\n",
    "kmeans.fit(X_scaled_df)"
   ]
  },
  {
   "cell_type": "markdown",
   "id": "a1f11e0c",
   "metadata": {},
   "source": [
    "Let's get the labels"
   ]
  },
  {
   "cell_type": "code",
   "execution_count": 29,
   "id": "b90d8ac6",
   "metadata": {},
   "outputs": [
    {
     "data": {
      "text/plain": [
       "array([3, 3, 3, ..., 5, 5, 2])"
      ]
     },
     "execution_count": 29,
     "metadata": {},
     "output_type": "execute_result"
    }
   ],
   "source": [
    "labels = kmeans.labels_\n",
    "labels"
   ]
  },
  {
   "cell_type": "code",
   "execution_count": 30,
   "id": "12590c4e",
   "metadata": {},
   "outputs": [
    {
     "data": {
      "text/plain": [
       "array([0, 1, 2, 3, 4, 5])"
      ]
     },
     "execution_count": 30,
     "metadata": {},
     "output_type": "execute_result"
    }
   ],
   "source": [
    "np.unique(labels)"
   ]
  },
  {
   "cell_type": "markdown",
   "id": "d7198e30",
   "metadata": {},
   "source": [
    "### Scatter Plot"
   ]
  },
  {
   "cell_type": "code",
   "execution_count": 31,
   "id": "d95a8bad",
   "metadata": {},
   "outputs": [
    {
     "data": {
      "image/png": "[encoded data removed]",
      "text/plain": [
       "<Figure size 800x550 with 1 Axes>"
      ]
     },
     "metadata": {},
     "output_type": "display_data"
    }
   ],
   "source": [
    "# assign a cluster to each example\n",
    "labels = kmeans.predict(X_scaled_df)\n",
    "# retrieve unique clusters\n",
    "clusters = np.unique(labels)\n",
    "# create scatter plot for samples from each cluster\n",
    "for cluster in clusters:\n",
    "    # get row indexes for samples with this cluster\n",
    "    row_ix = np.where(labels == cluster)\n",
    "    # create scatter of these samples\n",
    "    pyplot.scatter(X.to_numpy()[row_ix, 1], X.to_numpy()[row_ix, 3])\n",
    "    # show the plot\n",
    "pyplot.show()"
   ]
  },
  {
   "cell_type": "markdown",
   "id": "4bbb1b7b",
   "metadata": {},
   "source": [
    "### Now we have our \"model\", let's get the clusters and how many observations has each cluster."
   ]
  },
  {
   "cell_type": "code",
   "execution_count": 33,
   "id": "5e146d28",
   "metadata": {},
   "outputs": [
    {
     "data": {
      "text/plain": [
       "0    136\n",
       "1    302\n",
       "2    672\n",
       "3    184\n",
       "4    112\n",
       "5    442\n",
       "dtype: int64"
      ]
     },
     "execution_count": 33,
     "metadata": {},
     "output_type": "execute_result"
    }
   ],
   "source": [
    "clusters = kmeans.predict(X_scaled_df)\n",
    "#clusters\n",
    "pd.Series(clusters).value_counts().sort_index()"
   ]
  },
  {
   "cell_type": "code",
   "execution_count": 34,
   "id": "d786a71f",
   "metadata": {},
   "outputs": [
    {
     "data": {
      "text/plain": [
       "array([3, 3, 3, ..., 5, 5, 2])"
      ]
     },
     "execution_count": 34,
     "metadata": {},
     "output_type": "execute_result"
    }
   ],
   "source": [
    "clusters"
   ]
  },
  {
   "cell_type": "markdown",
   "id": "e5e3ff55",
   "metadata": {},
   "source": [
    "### Now let's see to which group was assigned every song 🎶🎵"
   ]
  },
  {
   "cell_type": "code",
   "execution_count": 35,
   "id": "28c6abcd",
   "metadata": {},
   "outputs": [
    {
     "name": "stderr",
     "output_type": "stream",
     "text": [
      "C:\\Users\\espan\\AppData\\Local\\Temp\\ipykernel_20040\\3390344749.py:2: SettingWithCopyWarning: \n",
      "A value is trying to be set on a copy of a slice from a DataFrame.\n",
      "Try using .loc[row_indexer,col_indexer] = value instead\n",
      "\n",
      "See the caveats in the documentation: https://pandas.pydata.org/pandas-docs/stable/user_guide/indexing.html#returning-a-view-versus-a-copy\n",
      "  X[\"cluster\"] = clusters\n"
     ]
    },
    {
     "data": {
      "text/html": [
       "<div>\n",
       "<style scoped>\n",
       "    .dataframe tbody tr th:only-of-type {\n",
       "        vertical-align: middle;\n",
       "    }\n",
       "\n",
       "    .dataframe tbody tr th {\n",
       "        vertical-align: top;\n",
       "    }\n",
       "\n",
       "    .dataframe thead th {\n",
       "        text-align: right;\n",
       "    }\n",
       "</style>\n",
       "<table border=\"1\" class=\"dataframe\">\n",
       "  <thead>\n",
       "    <tr style=\"text-align: right;\">\n",
       "      <th></th>\n",
       "      <th>danceability</th>\n",
       "      <th>energy</th>\n",
       "      <th>key</th>\n",
       "      <th>loudness</th>\n",
       "      <th>mode</th>\n",
       "      <th>speechiness</th>\n",
       "      <th>acousticness</th>\n",
       "      <th>instrumentalness</th>\n",
       "      <th>liveness</th>\n",
       "      <th>valence</th>\n",
       "      <th>tempo</th>\n",
       "      <th>cluster</th>\n",
       "    </tr>\n",
       "  </thead>\n",
       "  <tbody>\n",
       "    <tr>\n",
       "      <th>0</th>\n",
       "      <td>0.213</td>\n",
       "      <td>0.06560</td>\n",
       "      <td>7</td>\n",
       "      <td>-24.810</td>\n",
       "      <td>1</td>\n",
       "      <td>0.0467</td>\n",
       "      <td>0.99200</td>\n",
       "      <td>0.969000</td>\n",
       "      <td>0.0699</td>\n",
       "      <td>0.0384</td>\n",
       "      <td>65.023</td>\n",
       "      <td>3</td>\n",
       "    </tr>\n",
       "    <tr>\n",
       "      <th>1</th>\n",
       "      <td>0.330</td>\n",
       "      <td>0.00357</td>\n",
       "      <td>3</td>\n",
       "      <td>-33.142</td>\n",
       "      <td>1</td>\n",
       "      <td>0.0339</td>\n",
       "      <td>0.99500</td>\n",
       "      <td>0.953000</td>\n",
       "      <td>0.0989</td>\n",
       "      <td>0.1210</td>\n",
       "      <td>100.741</td>\n",
       "      <td>3</td>\n",
       "    </tr>\n",
       "    <tr>\n",
       "      <th>2</th>\n",
       "      <td>0.368</td>\n",
       "      <td>0.00363</td>\n",
       "      <td>1</td>\n",
       "      <td>-36.759</td>\n",
       "      <td>1</td>\n",
       "      <td>0.0350</td>\n",
       "      <td>0.99300</td>\n",
       "      <td>0.922000</td>\n",
       "      <td>0.1370</td>\n",
       "      <td>0.0850</td>\n",
       "      <td>69.363</td>\n",
       "      <td>3</td>\n",
       "    </tr>\n",
       "    <tr>\n",
       "      <th>3</th>\n",
       "      <td>0.320</td>\n",
       "      <td>0.00501</td>\n",
       "      <td>1</td>\n",
       "      <td>-33.366</td>\n",
       "      <td>1</td>\n",
       "      <td>0.0455</td>\n",
       "      <td>0.99300</td>\n",
       "      <td>0.919000</td>\n",
       "      <td>0.0618</td>\n",
       "      <td>0.0383</td>\n",
       "      <td>68.947</td>\n",
       "      <td>3</td>\n",
       "    </tr>\n",
       "    <tr>\n",
       "      <th>4</th>\n",
       "      <td>0.701</td>\n",
       "      <td>0.34100</td>\n",
       "      <td>1</td>\n",
       "      <td>-12.260</td>\n",
       "      <td>0</td>\n",
       "      <td>0.0418</td>\n",
       "      <td>0.49900</td>\n",
       "      <td>0.903000</td>\n",
       "      <td>0.3590</td>\n",
       "      <td>0.1630</td>\n",
       "      <td>105.513</td>\n",
       "      <td>3</td>\n",
       "    </tr>\n",
       "    <tr>\n",
       "      <th>...</th>\n",
       "      <td>...</td>\n",
       "      <td>...</td>\n",
       "      <td>...</td>\n",
       "      <td>...</td>\n",
       "      <td>...</td>\n",
       "      <td>...</td>\n",
       "      <td>...</td>\n",
       "      <td>...</td>\n",
       "      <td>...</td>\n",
       "      <td>...</td>\n",
       "      <td>...</td>\n",
       "      <td>...</td>\n",
       "    </tr>\n",
       "    <tr>\n",
       "      <th>1843</th>\n",
       "      <td>0.767</td>\n",
       "      <td>0.68200</td>\n",
       "      <td>1</td>\n",
       "      <td>-5.020</td>\n",
       "      <td>1</td>\n",
       "      <td>0.0420</td>\n",
       "      <td>0.01130</td>\n",
       "      <td>0.000160</td>\n",
       "      <td>0.1040</td>\n",
       "      <td>0.8330</td>\n",
       "      <td>127.975</td>\n",
       "      <td>2</td>\n",
       "    </tr>\n",
       "    <tr>\n",
       "      <th>1844</th>\n",
       "      <td>0.708</td>\n",
       "      <td>0.64100</td>\n",
       "      <td>7</td>\n",
       "      <td>-4.271</td>\n",
       "      <td>1</td>\n",
       "      <td>0.0336</td>\n",
       "      <td>0.20500</td>\n",
       "      <td>0.000000</td>\n",
       "      <td>0.0925</td>\n",
       "      <td>0.2530</td>\n",
       "      <td>113.082</td>\n",
       "      <td>2</td>\n",
       "    </tr>\n",
       "    <tr>\n",
       "      <th>1845</th>\n",
       "      <td>0.754</td>\n",
       "      <td>0.65200</td>\n",
       "      <td>11</td>\n",
       "      <td>-4.924</td>\n",
       "      <td>0</td>\n",
       "      <td>0.0308</td>\n",
       "      <td>0.17400</td>\n",
       "      <td>0.000000</td>\n",
       "      <td>0.1130</td>\n",
       "      <td>0.4740</td>\n",
       "      <td>95.006</td>\n",
       "      <td>5</td>\n",
       "    </tr>\n",
       "    <tr>\n",
       "      <th>1846</th>\n",
       "      <td>0.825</td>\n",
       "      <td>0.83200</td>\n",
       "      <td>5</td>\n",
       "      <td>-5.853</td>\n",
       "      <td>0</td>\n",
       "      <td>0.0403</td>\n",
       "      <td>0.00587</td>\n",
       "      <td>0.000789</td>\n",
       "      <td>0.1140</td>\n",
       "      <td>0.7130</td>\n",
       "      <td>122.021</td>\n",
       "      <td>5</td>\n",
       "    </tr>\n",
       "    <tr>\n",
       "      <th>1847</th>\n",
       "      <td>0.758</td>\n",
       "      <td>0.55700</td>\n",
       "      <td>7</td>\n",
       "      <td>-4.568</td>\n",
       "      <td>1</td>\n",
       "      <td>0.0340</td>\n",
       "      <td>0.01170</td>\n",
       "      <td>0.000000</td>\n",
       "      <td>0.0418</td>\n",
       "      <td>0.7810</td>\n",
       "      <td>126.986</td>\n",
       "      <td>2</td>\n",
       "    </tr>\n",
       "  </tbody>\n",
       "</table>\n",
       "<p>1848 rows × 12 columns</p>\n",
       "</div>"
      ],
      "text/plain": [
       "      danceability   energy  key  loudness  mode  speechiness  acousticness  \\\n",
       "0            0.213  0.06560    7   -24.810     1       0.0467       0.99200   \n",
       "1            0.330  0.00357    3   -33.142     1       0.0339       0.99500   \n",
       "2            0.368  0.00363    1   -36.759     1       0.0350       0.99300   \n",
       "3            0.320  0.00501    1   -33.366     1       0.0455       0.99300   \n",
       "4            0.701  0.34100    1   -12.260     0       0.0418       0.49900   \n",
       "...            ...      ...  ...       ...   ...          ...           ...   \n",
       "1843         0.767  0.68200    1    -5.020     1       0.0420       0.01130   \n",
       "1844         0.708  0.64100    7    -4.271     1       0.0336       0.20500   \n",
       "1845         0.754  0.65200   11    -4.924     0       0.0308       0.17400   \n",
       "1846         0.825  0.83200    5    -5.853     0       0.0403       0.00587   \n",
       "1847         0.758  0.55700    7    -4.568     1       0.0340       0.01170   \n",
       "\n",
       "      instrumentalness  liveness  valence    tempo  cluster  \n",
       "0             0.969000    0.0699   0.0384   65.023        3  \n",
       "1             0.953000    0.0989   0.1210  100.741        3  \n",
       "2             0.922000    0.1370   0.0850   69.363        3  \n",
       "3             0.919000    0.0618   0.0383   68.947        3  \n",
       "4             0.903000    0.3590   0.1630  105.513        3  \n",
       "...                ...       ...      ...      ...      ...  \n",
       "1843          0.000160    0.1040   0.8330  127.975        2  \n",
       "1844          0.000000    0.0925   0.2530  113.082        2  \n",
       "1845          0.000000    0.1130   0.4740   95.006        5  \n",
       "1846          0.000789    0.1140   0.7130  122.021        5  \n",
       "1847          0.000000    0.0418   0.7810  126.986        2  \n",
       "\n",
       "[1848 rows x 12 columns]"
      ]
     },
     "execution_count": 35,
     "metadata": {},
     "output_type": "execute_result"
    }
   ],
   "source": [
    "#X_df = pd.DataFrame(X)\n",
    "X[\"cluster\"] = clusters\n",
    "X"
   ]
  },
  {
   "cell_type": "markdown",
   "id": "ce7ff752",
   "metadata": {},
   "source": [
    "Lets check "
   ]
  },
  {
   "cell_type": "code",
   "execution_count": 36,
   "id": "1f72534a",
   "metadata": {
    "scrolled": true
   },
   "outputs": [
    {
     "data": {
      "text/html": [
       "<div>\n",
       "<style scoped>\n",
       "    .dataframe tbody tr th:only-of-type {\n",
       "        vertical-align: middle;\n",
       "    }\n",
       "\n",
       "    .dataframe tbody tr th {\n",
       "        vertical-align: top;\n",
       "    }\n",
       "\n",
       "    .dataframe thead th {\n",
       "        text-align: right;\n",
       "    }\n",
       "</style>\n",
       "<table border=\"1\" class=\"dataframe\">\n",
       "  <thead>\n",
       "    <tr style=\"text-align: right;\">\n",
       "      <th></th>\n",
       "      <th>danceability</th>\n",
       "      <th>energy</th>\n",
       "      <th>key</th>\n",
       "      <th>loudness</th>\n",
       "      <th>mode</th>\n",
       "      <th>speechiness</th>\n",
       "      <th>acousticness</th>\n",
       "      <th>instrumentalness</th>\n",
       "      <th>liveness</th>\n",
       "      <th>valence</th>\n",
       "      <th>tempo</th>\n",
       "      <th>cluster</th>\n",
       "    </tr>\n",
       "  </thead>\n",
       "  <tbody>\n",
       "    <tr>\n",
       "      <th>1277</th>\n",
       "      <td>0.59</td>\n",
       "      <td>0.524</td>\n",
       "      <td>1</td>\n",
       "      <td>-8.108</td>\n",
       "      <td>1</td>\n",
       "      <td>0.0272</td>\n",
       "      <td>0.254</td>\n",
       "      <td>0.000008</td>\n",
       "      <td>0.201</td>\n",
       "      <td>0.503</td>\n",
       "      <td>74.986</td>\n",
       "      <td>2</td>\n",
       "    </tr>\n",
       "  </tbody>\n",
       "</table>\n",
       "</div>"
      ],
      "text/plain": [
       "      danceability  energy  key  loudness  mode  speechiness  acousticness  \\\n",
       "1277          0.59   0.524    1    -8.108     1       0.0272         0.254   \n",
       "\n",
       "      instrumentalness  liveness  valence   tempo  cluster  \n",
       "1277          0.000008     0.201    0.503  74.986        2  "
      ]
     },
     "execution_count": 36,
     "metadata": {},
     "output_type": "execute_result"
    }
   ],
   "source": [
    "X[X['cluster'] == 2].sample()"
   ]
  },
  {
   "cell_type": "markdown",
   "id": "800f0b4a",
   "metadata": {},
   "source": [
    "⁉️"
   ]
  },
  {
   "cell_type": "code",
   "execution_count": 37,
   "id": "54ee5848",
   "metadata": {},
   "outputs": [
    {
     "name": "stdout",
     "output_type": "stream",
     "text": [
      "10147.785584220535\n"
     ]
    }
   ],
   "source": [
    "kmeans2 = KMeans(n_clusters=6,\n",
    "                init=\"k-means++\",\n",
    "                n_init=50,  # try with 1, 4, 8, 20, 30, 100...\n",
    "                max_iter=1,\n",
    "                tol=0,\n",
    "                algorithm=\"elkan\",\n",
    "                random_state=1234)\n",
    "kmeans2.fit(X_scaled_df)\n",
    "print(kmeans2.inertia_)"
   ]
  },
  {
   "cell_type": "markdown",
   "id": "770dac39",
   "metadata": {},
   "source": [
    "### ---------------------------------------------------------------------------------------"
   ]
  },
  {
   "cell_type": "markdown",
   "id": "c43fae86",
   "metadata": {},
   "source": [
    "## ⚠️ Preparing everything to be able to get the user input"
   ]
  },
  {
   "cell_type": "markdown",
   "id": "8241e269",
   "metadata": {},
   "source": [
    "## Loading credentials from another config file"
   ]
  },
  {
   "cell_type": "code",
   "execution_count": 38,
   "id": "a613e4de",
   "metadata": {},
   "outputs": [],
   "source": [
    "import config"
   ]
  },
  {
   "cell_type": "markdown",
   "id": "edb6889b",
   "metadata": {},
   "source": [
    "## Starting with Spotify API"
   ]
  },
  {
   "cell_type": "code",
   "execution_count": 53,
   "id": "5acfcaf1",
   "metadata": {},
   "outputs": [],
   "source": [
    "import spotipy\n",
    "import json\n",
    "from spotipy.oauth2 import SpotifyClientCredentials\n",
    "from IPython.display import IFrame"
   ]
  },
  {
   "cell_type": "code",
   "execution_count": 54,
   "id": "f05d3f80",
   "metadata": {},
   "outputs": [],
   "source": [
    "sp = spotipy.Spotify(auth_manager=SpotifyClientCredentials(client_id= config.client_id,\n",
    "                                                           client_secret= config.client_secret))"
   ]
  },
  {
   "cell_type": "markdown",
   "id": "7afcb233",
   "metadata": {},
   "source": [
    "### Creating the Final dataframe with id and cluster"
   ]
  },
  {
   "cell_type": "code",
   "execution_count": 55,
   "id": "1fa9c90d",
   "metadata": {},
   "outputs": [],
   "source": [
    "final_df = pd.merge(X, df[['id']], left_index=True, right_index=True)"
   ]
  },
  {
   "cell_type": "code",
   "execution_count": 47,
   "id": "5cf692c2",
   "metadata": {},
   "outputs": [
    {
     "data": {
      "text/html": [
       "<div>\n",
       "<style scoped>\n",
       "    .dataframe tbody tr th:only-of-type {\n",
       "        vertical-align: middle;\n",
       "    }\n",
       "\n",
       "    .dataframe tbody tr th {\n",
       "        vertical-align: top;\n",
       "    }\n",
       "\n",
       "    .dataframe thead th {\n",
       "        text-align: right;\n",
       "    }\n",
       "</style>\n",
       "<table border=\"1\" class=\"dataframe\">\n",
       "  <thead>\n",
       "    <tr style=\"text-align: right;\">\n",
       "      <th></th>\n",
       "      <th>danceability</th>\n",
       "      <th>energy</th>\n",
       "      <th>key</th>\n",
       "      <th>loudness</th>\n",
       "      <th>mode</th>\n",
       "      <th>speechiness</th>\n",
       "      <th>acousticness</th>\n",
       "      <th>instrumentalness</th>\n",
       "      <th>liveness</th>\n",
       "      <th>valence</th>\n",
       "      <th>tempo</th>\n",
       "      <th>cluster</th>\n",
       "      <th>id</th>\n",
       "    </tr>\n",
       "  </thead>\n",
       "  <tbody>\n",
       "    <tr>\n",
       "      <th>0</th>\n",
       "      <td>0.213</td>\n",
       "      <td>0.06560</td>\n",
       "      <td>7</td>\n",
       "      <td>-24.810</td>\n",
       "      <td>1</td>\n",
       "      <td>0.0467</td>\n",
       "      <td>0.99200</td>\n",
       "      <td>0.969000</td>\n",
       "      <td>0.0699</td>\n",
       "      <td>0.0384</td>\n",
       "      <td>65.023</td>\n",
       "      <td>3</td>\n",
       "      <td>3U8Fx7zNTQrctytkj6Gqgd</td>\n",
       "    </tr>\n",
       "    <tr>\n",
       "      <th>1</th>\n",
       "      <td>0.330</td>\n",
       "      <td>0.00357</td>\n",
       "      <td>3</td>\n",
       "      <td>-33.142</td>\n",
       "      <td>1</td>\n",
       "      <td>0.0339</td>\n",
       "      <td>0.99500</td>\n",
       "      <td>0.953000</td>\n",
       "      <td>0.0989</td>\n",
       "      <td>0.1210</td>\n",
       "      <td>100.741</td>\n",
       "      <td>3</td>\n",
       "      <td>6MzbO6YS0M6tjwT93hjAl0</td>\n",
       "    </tr>\n",
       "    <tr>\n",
       "      <th>2</th>\n",
       "      <td>0.368</td>\n",
       "      <td>0.00363</td>\n",
       "      <td>1</td>\n",
       "      <td>-36.759</td>\n",
       "      <td>1</td>\n",
       "      <td>0.0350</td>\n",
       "      <td>0.99300</td>\n",
       "      <td>0.922000</td>\n",
       "      <td>0.1370</td>\n",
       "      <td>0.0850</td>\n",
       "      <td>69.363</td>\n",
       "      <td>3</td>\n",
       "      <td>1L4NadMj3Jj7YgGaikyhfr</td>\n",
       "    </tr>\n",
       "    <tr>\n",
       "      <th>3</th>\n",
       "      <td>0.320</td>\n",
       "      <td>0.00501</td>\n",
       "      <td>1</td>\n",
       "      <td>-33.366</td>\n",
       "      <td>1</td>\n",
       "      <td>0.0455</td>\n",
       "      <td>0.99300</td>\n",
       "      <td>0.919000</td>\n",
       "      <td>0.0618</td>\n",
       "      <td>0.0383</td>\n",
       "      <td>68.947</td>\n",
       "      <td>3</td>\n",
       "      <td>3hCPh4oVVjaM8tv9sFH8cx</td>\n",
       "    </tr>\n",
       "    <tr>\n",
       "      <th>4</th>\n",
       "      <td>0.701</td>\n",
       "      <td>0.34100</td>\n",
       "      <td>1</td>\n",
       "      <td>-12.260</td>\n",
       "      <td>0</td>\n",
       "      <td>0.0418</td>\n",
       "      <td>0.49900</td>\n",
       "      <td>0.903000</td>\n",
       "      <td>0.3590</td>\n",
       "      <td>0.1630</td>\n",
       "      <td>105.513</td>\n",
       "      <td>3</td>\n",
       "      <td>5xbuJuQsTVheVZvX2AJVIv</td>\n",
       "    </tr>\n",
       "    <tr>\n",
       "      <th>...</th>\n",
       "      <td>...</td>\n",
       "      <td>...</td>\n",
       "      <td>...</td>\n",
       "      <td>...</td>\n",
       "      <td>...</td>\n",
       "      <td>...</td>\n",
       "      <td>...</td>\n",
       "      <td>...</td>\n",
       "      <td>...</td>\n",
       "      <td>...</td>\n",
       "      <td>...</td>\n",
       "      <td>...</td>\n",
       "      <td>...</td>\n",
       "    </tr>\n",
       "    <tr>\n",
       "      <th>1843</th>\n",
       "      <td>0.767</td>\n",
       "      <td>0.68200</td>\n",
       "      <td>1</td>\n",
       "      <td>-5.020</td>\n",
       "      <td>1</td>\n",
       "      <td>0.0420</td>\n",
       "      <td>0.01130</td>\n",
       "      <td>0.000160</td>\n",
       "      <td>0.1040</td>\n",
       "      <td>0.8330</td>\n",
       "      <td>127.975</td>\n",
       "      <td>2</td>\n",
       "      <td>0C4ejWmOTMv8vuYj85mf8m</td>\n",
       "    </tr>\n",
       "    <tr>\n",
       "      <th>1844</th>\n",
       "      <td>0.708</td>\n",
       "      <td>0.64100</td>\n",
       "      <td>7</td>\n",
       "      <td>-4.271</td>\n",
       "      <td>1</td>\n",
       "      <td>0.0336</td>\n",
       "      <td>0.20500</td>\n",
       "      <td>0.000000</td>\n",
       "      <td>0.0925</td>\n",
       "      <td>0.2530</td>\n",
       "      <td>113.082</td>\n",
       "      <td>2</td>\n",
       "      <td>0lupJBVy4UQrvI4Oy3PvI7</td>\n",
       "    </tr>\n",
       "    <tr>\n",
       "      <th>1845</th>\n",
       "      <td>0.754</td>\n",
       "      <td>0.65200</td>\n",
       "      <td>11</td>\n",
       "      <td>-4.924</td>\n",
       "      <td>0</td>\n",
       "      <td>0.0308</td>\n",
       "      <td>0.17400</td>\n",
       "      <td>0.000000</td>\n",
       "      <td>0.1130</td>\n",
       "      <td>0.4740</td>\n",
       "      <td>95.006</td>\n",
       "      <td>5</td>\n",
       "      <td>1FvOiE8MGWB8MUCAPvro3h</td>\n",
       "    </tr>\n",
       "    <tr>\n",
       "      <th>1846</th>\n",
       "      <td>0.825</td>\n",
       "      <td>0.83200</td>\n",
       "      <td>5</td>\n",
       "      <td>-5.853</td>\n",
       "      <td>0</td>\n",
       "      <td>0.0403</td>\n",
       "      <td>0.00587</td>\n",
       "      <td>0.000789</td>\n",
       "      <td>0.1140</td>\n",
       "      <td>0.7130</td>\n",
       "      <td>122.021</td>\n",
       "      <td>5</td>\n",
       "      <td>6nCDnzErqalOaIY3EJM8NK</td>\n",
       "    </tr>\n",
       "    <tr>\n",
       "      <th>1847</th>\n",
       "      <td>0.758</td>\n",
       "      <td>0.55700</td>\n",
       "      <td>7</td>\n",
       "      <td>-4.568</td>\n",
       "      <td>1</td>\n",
       "      <td>0.0340</td>\n",
       "      <td>0.01170</td>\n",
       "      <td>0.000000</td>\n",
       "      <td>0.0418</td>\n",
       "      <td>0.7810</td>\n",
       "      <td>126.986</td>\n",
       "      <td>2</td>\n",
       "      <td>2fQxE0jVrjNMT9oJAXtSJR</td>\n",
       "    </tr>\n",
       "  </tbody>\n",
       "</table>\n",
       "<p>1848 rows × 13 columns</p>\n",
       "</div>"
      ],
      "text/plain": [
       "      danceability   energy  key  loudness  mode  speechiness  acousticness  \\\n",
       "0            0.213  0.06560    7   -24.810     1       0.0467       0.99200   \n",
       "1            0.330  0.00357    3   -33.142     1       0.0339       0.99500   \n",
       "2            0.368  0.00363    1   -36.759     1       0.0350       0.99300   \n",
       "3            0.320  0.00501    1   -33.366     1       0.0455       0.99300   \n",
       "4            0.701  0.34100    1   -12.260     0       0.0418       0.49900   \n",
       "...            ...      ...  ...       ...   ...          ...           ...   \n",
       "1843         0.767  0.68200    1    -5.020     1       0.0420       0.01130   \n",
       "1844         0.708  0.64100    7    -4.271     1       0.0336       0.20500   \n",
       "1845         0.754  0.65200   11    -4.924     0       0.0308       0.17400   \n",
       "1846         0.825  0.83200    5    -5.853     0       0.0403       0.00587   \n",
       "1847         0.758  0.55700    7    -4.568     1       0.0340       0.01170   \n",
       "\n",
       "      instrumentalness  liveness  valence    tempo  cluster  \\\n",
       "0             0.969000    0.0699   0.0384   65.023        3   \n",
       "1             0.953000    0.0989   0.1210  100.741        3   \n",
       "2             0.922000    0.1370   0.0850   69.363        3   \n",
       "3             0.919000    0.0618   0.0383   68.947        3   \n",
       "4             0.903000    0.3590   0.1630  105.513        3   \n",
       "...                ...       ...      ...      ...      ...   \n",
       "1843          0.000160    0.1040   0.8330  127.975        2   \n",
       "1844          0.000000    0.0925   0.2530  113.082        2   \n",
       "1845          0.000000    0.1130   0.4740   95.006        5   \n",
       "1846          0.000789    0.1140   0.7130  122.021        5   \n",
       "1847          0.000000    0.0418   0.7810  126.986        2   \n",
       "\n",
       "                          id  \n",
       "0     3U8Fx7zNTQrctytkj6Gqgd  \n",
       "1     6MzbO6YS0M6tjwT93hjAl0  \n",
       "2     1L4NadMj3Jj7YgGaikyhfr  \n",
       "3     3hCPh4oVVjaM8tv9sFH8cx  \n",
       "4     5xbuJuQsTVheVZvX2AJVIv  \n",
       "...                      ...  \n",
       "1843  0C4ejWmOTMv8vuYj85mf8m  \n",
       "1844  0lupJBVy4UQrvI4Oy3PvI7  \n",
       "1845  1FvOiE8MGWB8MUCAPvro3h  \n",
       "1846  6nCDnzErqalOaIY3EJM8NK  \n",
       "1847  2fQxE0jVrjNMT9oJAXtSJR  \n",
       "\n",
       "[1848 rows x 13 columns]"
      ]
     },
     "execution_count": 47,
     "metadata": {},
     "output_type": "execute_result"
    }
   ],
   "source": [
    "final_df"
   ]
  },
  {
   "cell_type": "markdown",
   "id": "11b50eb0",
   "metadata": {},
   "source": [
    "## User input 👀"
   ]
  },
  {
   "cell_type": "code",
   "execution_count": null,
   "id": "12b8e1a9",
   "metadata": {},
   "outputs": [],
   "source": [
    "def play_song(track_id):\n",
    "    return IFrame(src=\"https://open.spotify.com/embed/track/\"+track_id,\n",
    "       width=\"320\",\n",
    "       height=\"80\",\n",
    "       frameborder=\"0\",\n",
    "       allowtransparency=\"true\",\n",
    "       allow=\"encrypted-media\",\n",
    "      )"
   ]
  },
  {
   "cell_type": "code",
   "execution_count": null,
   "id": "97712466",
   "metadata": {},
   "outputs": [],
   "source": [
    "billboard_hot_100 = pd.read_csv(\"hotsongs_file.csv\")\n",
    "billboard_hot_100[\"song\"] = billboard_hot_100[\"song\"].str.lower()"
   ]
  },
  {
   "cell_type": "code",
   "execution_count": null,
   "id": "d44802bd",
   "metadata": {},
   "outputs": [],
   "source": [
    "billboard_hot_100[\"song\"] = billboard_hot_100[\"song\"].str.lower()\n",
    "\n",
    "\n",
    "# ASK TO MY USER ENTER A SONG\n",
    "\n",
    "# User input song name\n",
    "user_input = input(\"Enter your favorite song and descover if it is in Billboard Hot 100 : \")\n",
    "\n",
    "\n",
    "user_input = sp.search(q= song_input, type='track', limit=1)\n",
    "\n",
    "song_id = user_input [\"tracks\"][\"items\"][0][\"id\"]\n",
    "\n",
    "\n",
    "display(play_song(song_id))\n",
    "\n",
    "verified = input(\"Please, Can you confirm me if this is your song? Yes or No?: \")\n"
   ]
  },
  {
   "cell_type": "code",
   "execution_count": 167,
   "id": "e5ff6347",
   "metadata": {},
   "outputs": [
    {
     "name": "stdout",
     "output_type": "stream",
     "text": [
      "Enter your favorite song and descover if it is in Billboard Hot 100 : flowers\n"
     ]
    },
    {
     "data": {
      "text/html": [
       "\n",
       "        <iframe\n",
       "            width=\"320\"\n",
       "            height=\"80\"\n",
       "            src=\"https://open.spotify.com/embed/track/4oaj36KzXRgDg4McgcTsZK?frameborder=0&allowtransparency=true&allow=encrypted-media\"\n",
       "            frameborder=\"0\"\n",
       "            allowfullscreen\n",
       "            \n",
       "        ></iframe>\n",
       "        "
      ],
      "text/plain": [
       "<IPython.lib.display.IFrame at 0x28a905a8a00>"
      ]
     },
     "metadata": {},
     "output_type": "display_data"
    },
    {
     "name": "stdout",
     "output_type": "stream",
     "text": [
      "Please, Can you confirm me if this is your song? Yes or No?: no\n"
     ]
    },
    {
     "ename": "KeyError",
     "evalue": "'song'",
     "output_type": "error",
     "traceback": [
      "\u001b[1;31m---------------------------------------------------------------------------\u001b[0m",
      "\u001b[1;31mKeyError\u001b[0m                                  Traceback (most recent call last)",
      "\u001b[1;32m~\\anaconda3\\lib\\site-packages\\pandas\\core\\indexes\\base.py\u001b[0m in \u001b[0;36mget_loc\u001b[1;34m(self, key, method, tolerance)\u001b[0m\n\u001b[0;32m   3628\u001b[0m             \u001b[1;32mtry\u001b[0m\u001b[1;33m:\u001b[0m\u001b[1;33m\u001b[0m\u001b[1;33m\u001b[0m\u001b[0m\n\u001b[1;32m-> 3629\u001b[1;33m                 \u001b[1;32mreturn\u001b[0m \u001b[0mself\u001b[0m\u001b[1;33m.\u001b[0m\u001b[0m_engine\u001b[0m\u001b[1;33m.\u001b[0m\u001b[0mget_loc\u001b[0m\u001b[1;33m(\u001b[0m\u001b[0mcasted_key\u001b[0m\u001b[1;33m)\u001b[0m\u001b[1;33m\u001b[0m\u001b[1;33m\u001b[0m\u001b[0m\n\u001b[0m\u001b[0;32m   3630\u001b[0m             \u001b[1;32mexcept\u001b[0m \u001b[0mKeyError\u001b[0m \u001b[1;32mas\u001b[0m \u001b[0merr\u001b[0m\u001b[1;33m:\u001b[0m\u001b[1;33m\u001b[0m\u001b[1;33m\u001b[0m\u001b[0m\n",
      "\u001b[1;32m~\\anaconda3\\lib\\site-packages\\pandas\\_libs\\index.pyx\u001b[0m in \u001b[0;36mpandas._libs.index.IndexEngine.get_loc\u001b[1;34m()\u001b[0m\n",
      "\u001b[1;32m~\\anaconda3\\lib\\site-packages\\pandas\\_libs\\index.pyx\u001b[0m in \u001b[0;36mpandas._libs.index.IndexEngine.get_loc\u001b[1;34m()\u001b[0m\n",
      "\u001b[1;32mpandas\\_libs\\hashtable_class_helper.pxi\u001b[0m in \u001b[0;36mpandas._libs.hashtable.PyObjectHashTable.get_item\u001b[1;34m()\u001b[0m\n",
      "\u001b[1;32mpandas\\_libs\\hashtable_class_helper.pxi\u001b[0m in \u001b[0;36mpandas._libs.hashtable.PyObjectHashTable.get_item\u001b[1;34m()\u001b[0m\n",
      "\u001b[1;31mKeyError\u001b[0m: 'song'",
      "\nThe above exception was the direct cause of the following exception:\n",
      "\u001b[1;31mKeyError\u001b[0m                                  Traceback (most recent call last)",
      "\u001b[1;32m~\\AppData\\Local\\Temp\\ipykernel_20040\\767180609.py\u001b[0m in \u001b[0;36m<module>\u001b[1;34m\u001b[0m\n\u001b[0;32m     35\u001b[0m \u001b[1;32mfor\u001b[0m \u001b[0mindex\u001b[0m\u001b[1;33m,\u001b[0m \u001b[0mrow\u001b[0m \u001b[1;32min\u001b[0m \u001b[0mdf\u001b[0m\u001b[1;33m.\u001b[0m\u001b[0miterrows\u001b[0m\u001b[1;33m(\u001b[0m\u001b[1;33m)\u001b[0m\u001b[1;33m:\u001b[0m\u001b[1;33m\u001b[0m\u001b[1;33m\u001b[0m\u001b[0m\n\u001b[0;32m     36\u001b[0m \u001b[1;33m\u001b[0m\u001b[0m\n\u001b[1;32m---> 37\u001b[1;33m     \u001b[1;32mif\u001b[0m \u001b[0mrow\u001b[0m\u001b[1;33m[\u001b[0m\u001b[1;34m\"song\"\u001b[0m\u001b[1;33m]\u001b[0m \u001b[1;33m==\u001b[0m \u001b[0msong_name_lower\u001b[0m\u001b[1;33m:\u001b[0m\u001b[1;33m\u001b[0m\u001b[1;33m\u001b[0m\u001b[0m\n\u001b[0m\u001b[0;32m     38\u001b[0m \u001b[1;33m\u001b[0m\u001b[0m\n\u001b[0;32m     39\u001b[0m         \u001b[0msong_found\u001b[0m \u001b[1;33m=\u001b[0m \u001b[1;32mTrue\u001b[0m\u001b[1;33m\u001b[0m\u001b[1;33m\u001b[0m\u001b[0m\n",
      "\u001b[1;32m~\\anaconda3\\lib\\site-packages\\pandas\\core\\series.py\u001b[0m in \u001b[0;36m__getitem__\u001b[1;34m(self, key)\u001b[0m\n\u001b[0;32m    956\u001b[0m \u001b[1;33m\u001b[0m\u001b[0m\n\u001b[0;32m    957\u001b[0m         \u001b[1;32melif\u001b[0m \u001b[0mkey_is_scalar\u001b[0m\u001b[1;33m:\u001b[0m\u001b[1;33m\u001b[0m\u001b[1;33m\u001b[0m\u001b[0m\n\u001b[1;32m--> 958\u001b[1;33m             \u001b[1;32mreturn\u001b[0m \u001b[0mself\u001b[0m\u001b[1;33m.\u001b[0m\u001b[0m_get_value\u001b[0m\u001b[1;33m(\u001b[0m\u001b[0mkey\u001b[0m\u001b[1;33m)\u001b[0m\u001b[1;33m\u001b[0m\u001b[1;33m\u001b[0m\u001b[0m\n\u001b[0m\u001b[0;32m    959\u001b[0m \u001b[1;33m\u001b[0m\u001b[0m\n\u001b[0;32m    960\u001b[0m         \u001b[1;32mif\u001b[0m \u001b[0mis_hashable\u001b[0m\u001b[1;33m(\u001b[0m\u001b[0mkey\u001b[0m\u001b[1;33m)\u001b[0m\u001b[1;33m:\u001b[0m\u001b[1;33m\u001b[0m\u001b[1;33m\u001b[0m\u001b[0m\n",
      "\u001b[1;32m~\\anaconda3\\lib\\site-packages\\pandas\\core\\series.py\u001b[0m in \u001b[0;36m_get_value\u001b[1;34m(self, label, takeable)\u001b[0m\n\u001b[0;32m   1067\u001b[0m \u001b[1;33m\u001b[0m\u001b[0m\n\u001b[0;32m   1068\u001b[0m         \u001b[1;31m# Similar to Index.get_value, but we do not fall back to positional\u001b[0m\u001b[1;33m\u001b[0m\u001b[1;33m\u001b[0m\u001b[0m\n\u001b[1;32m-> 1069\u001b[1;33m         \u001b[0mloc\u001b[0m \u001b[1;33m=\u001b[0m \u001b[0mself\u001b[0m\u001b[1;33m.\u001b[0m\u001b[0mindex\u001b[0m\u001b[1;33m.\u001b[0m\u001b[0mget_loc\u001b[0m\u001b[1;33m(\u001b[0m\u001b[0mlabel\u001b[0m\u001b[1;33m)\u001b[0m\u001b[1;33m\u001b[0m\u001b[1;33m\u001b[0m\u001b[0m\n\u001b[0m\u001b[0;32m   1070\u001b[0m         \u001b[1;32mreturn\u001b[0m \u001b[0mself\u001b[0m\u001b[1;33m.\u001b[0m\u001b[0mindex\u001b[0m\u001b[1;33m.\u001b[0m\u001b[0m_get_values_for_loc\u001b[0m\u001b[1;33m(\u001b[0m\u001b[0mself\u001b[0m\u001b[1;33m,\u001b[0m \u001b[0mloc\u001b[0m\u001b[1;33m,\u001b[0m \u001b[0mlabel\u001b[0m\u001b[1;33m)\u001b[0m\u001b[1;33m\u001b[0m\u001b[1;33m\u001b[0m\u001b[0m\n\u001b[0;32m   1071\u001b[0m \u001b[1;33m\u001b[0m\u001b[0m\n",
      "\u001b[1;32m~\\anaconda3\\lib\\site-packages\\pandas\\core\\indexes\\base.py\u001b[0m in \u001b[0;36mget_loc\u001b[1;34m(self, key, method, tolerance)\u001b[0m\n\u001b[0;32m   3629\u001b[0m                 \u001b[1;32mreturn\u001b[0m \u001b[0mself\u001b[0m\u001b[1;33m.\u001b[0m\u001b[0m_engine\u001b[0m\u001b[1;33m.\u001b[0m\u001b[0mget_loc\u001b[0m\u001b[1;33m(\u001b[0m\u001b[0mcasted_key\u001b[0m\u001b[1;33m)\u001b[0m\u001b[1;33m\u001b[0m\u001b[1;33m\u001b[0m\u001b[0m\n\u001b[0;32m   3630\u001b[0m             \u001b[1;32mexcept\u001b[0m \u001b[0mKeyError\u001b[0m \u001b[1;32mas\u001b[0m \u001b[0merr\u001b[0m\u001b[1;33m:\u001b[0m\u001b[1;33m\u001b[0m\u001b[1;33m\u001b[0m\u001b[0m\n\u001b[1;32m-> 3631\u001b[1;33m                 \u001b[1;32mraise\u001b[0m \u001b[0mKeyError\u001b[0m\u001b[1;33m(\u001b[0m\u001b[0mkey\u001b[0m\u001b[1;33m)\u001b[0m \u001b[1;32mfrom\u001b[0m \u001b[0merr\u001b[0m\u001b[1;33m\u001b[0m\u001b[1;33m\u001b[0m\u001b[0m\n\u001b[0m\u001b[0;32m   3632\u001b[0m             \u001b[1;32mexcept\u001b[0m \u001b[0mTypeError\u001b[0m\u001b[1;33m:\u001b[0m\u001b[1;33m\u001b[0m\u001b[1;33m\u001b[0m\u001b[0m\n\u001b[0;32m   3633\u001b[0m                 \u001b[1;31m# If we have a listlike key, _check_indexing_error will raise\u001b[0m\u001b[1;33m\u001b[0m\u001b[1;33m\u001b[0m\u001b[0m\n",
      "\u001b[1;31mKeyError\u001b[0m: 'song'"
     ]
    }
   ],
   "source": [
    "billboard_hot_100[\"song\"] = billboard_hot_100[\"song\"].str.lower()\n",
    "\n",
    "\n",
    "# ASK TO MY USER ENTER A SONG\n",
    "\n",
    "# User input song name\n",
    "user_input = input(\"Enter your favorite song and descover if it is in Billboard Hot 100 : \")\n",
    "\n",
    "\n",
    "user_input = sp.search(q= song_input, type='track', limit=1)\n",
    "\n",
    "song_id = user_input [\"tracks\"][\"items\"][0][\"id\"]\n",
    "\n",
    "\n",
    "display(play_song(song_id))\n",
    "\n",
    "verified = input(\"Please, Can you confirm me if this is your song? Yes or No?: \")\n",
    "\n",
    "\n",
    "if verified == \"yes\":\n",
    "    \n",
    "    print(\"Perfect!, lets see if this is in the Billboar hot 100!\")\n",
    "\n",
    "#Lower case sensitive\n",
    "\n",
    "    song_name_lower = song_name.lower()\n",
    "\n",
    "    song_found = False\n",
    "\n",
    "# Matching Songs between the Billboard hot 100 and  User input\n",
    "\n",
    "matching_songs = billboard_hot_100[billboard_hot_100[\"song\"].str.contains(song_name_lower, case=False)]\n",
    "\n",
    "\n",
    "for index, row in df.iterrows():\n",
    "    \n",
    "    if row[\"song\"] == song_name_lower:\n",
    "        \n",
    "        song_found = True\n",
    "       # print(\"Congrats!! :) your song is in the Bilboard Hot 100\")\n",
    "        \n",
    "        print(f\"Congrats!! :) your song {song_input} is in the Bilboard Hot 100\")\n",
    "        \n",
    "        random_music = random.choice(df[\"song\"])\n",
    "        \n",
    "        print(\"I will provide you another song from this Billboard Hot 100 list, I am sure you will enjoy it:\",random_music)\n",
    "        \n",
    "    \n",
    "    elif song_found == False:\n",
    "  \n",
    "        print(\" So sorry :(, The song: \", song_name, \"is not in the Billboard hot 100 list :(  ...buut I can recommend you a similar song!!.\")\n",
    "   \n",
    "\n",
    "    break\n",
    "\n",
    "\n",
    "\n",
    "\n",
    "\n"
   ]
  },
  {
   "cell_type": "code",
   "execution_count": null,
   "id": "c6523621",
   "metadata": {},
   "outputs": [],
   "source": []
  },
  {
   "cell_type": "markdown",
   "id": "a183cdf3",
   "metadata": {},
   "source": [
    "## Search ID, AF 👀"
   ]
  },
  {
   "cell_type": "code",
   "execution_count": 99,
   "id": "2b353b3b",
   "metadata": {},
   "outputs": [],
   "source": [
    "AF_user_song = sp.audio_features(user_input [\"tracks\"][\"items\"][0][\"id\"] )"
   ]
  },
  {
   "cell_type": "code",
   "execution_count": 108,
   "id": "6f84560a",
   "metadata": {},
   "outputs": [],
   "source": [
    "df_user = pd.DataFrame(AF_user_song)"
   ]
  },
  {
   "cell_type": "code",
   "execution_count": 109,
   "id": "7d0739a7",
   "metadata": {},
   "outputs": [
    {
     "data": {
      "text/html": [
       "<div>\n",
       "<style scoped>\n",
       "    .dataframe tbody tr th:only-of-type {\n",
       "        vertical-align: middle;\n",
       "    }\n",
       "\n",
       "    .dataframe tbody tr th {\n",
       "        vertical-align: top;\n",
       "    }\n",
       "\n",
       "    .dataframe thead th {\n",
       "        text-align: right;\n",
       "    }\n",
       "</style>\n",
       "<table border=\"1\" class=\"dataframe\">\n",
       "  <thead>\n",
       "    <tr style=\"text-align: right;\">\n",
       "      <th></th>\n",
       "      <th>danceability</th>\n",
       "      <th>energy</th>\n",
       "      <th>key</th>\n",
       "      <th>loudness</th>\n",
       "      <th>mode</th>\n",
       "      <th>speechiness</th>\n",
       "      <th>acousticness</th>\n",
       "      <th>instrumentalness</th>\n",
       "      <th>liveness</th>\n",
       "      <th>valence</th>\n",
       "      <th>tempo</th>\n",
       "      <th>type</th>\n",
       "      <th>id</th>\n",
       "      <th>uri</th>\n",
       "      <th>track_href</th>\n",
       "      <th>analysis_url</th>\n",
       "      <th>duration_ms</th>\n",
       "      <th>time_signature</th>\n",
       "    </tr>\n",
       "  </thead>\n",
       "  <tbody>\n",
       "    <tr>\n",
       "      <th>0</th>\n",
       "      <td>0.707</td>\n",
       "      <td>0.681</td>\n",
       "      <td>0</td>\n",
       "      <td>-4.325</td>\n",
       "      <td>1</td>\n",
       "      <td>0.0668</td>\n",
       "      <td>0.0632</td>\n",
       "      <td>0.000005</td>\n",
       "      <td>0.0322</td>\n",
       "      <td>0.646</td>\n",
       "      <td>117.999</td>\n",
       "      <td>audio_features</td>\n",
       "      <td>0yLdNVWF3Srea0uzk55zFn</td>\n",
       "      <td>spotify:track:0yLdNVWF3Srea0uzk55zFn</td>\n",
       "      <td>https://api.spotify.com/v1/tracks/0yLdNVWF3Sre...</td>\n",
       "      <td>https://api.spotify.com/v1/audio-analysis/0yLd...</td>\n",
       "      <td>200455</td>\n",
       "      <td>4</td>\n",
       "    </tr>\n",
       "  </tbody>\n",
       "</table>\n",
       "</div>"
      ],
      "text/plain": [
       "   danceability  energy  key  loudness  mode  speechiness  acousticness  \\\n",
       "0         0.707   0.681    0    -4.325     1       0.0668        0.0632   \n",
       "\n",
       "   instrumentalness  liveness  valence    tempo            type  \\\n",
       "0          0.000005    0.0322    0.646  117.999  audio_features   \n",
       "\n",
       "                       id                                   uri  \\\n",
       "0  0yLdNVWF3Srea0uzk55zFn  spotify:track:0yLdNVWF3Srea0uzk55zFn   \n",
       "\n",
       "                                          track_href  \\\n",
       "0  https://api.spotify.com/v1/tracks/0yLdNVWF3Sre...   \n",
       "\n",
       "                                        analysis_url  duration_ms  \\\n",
       "0  https://api.spotify.com/v1/audio-analysis/0yLd...       200455   \n",
       "\n",
       "   time_signature  \n",
       "0               4  "
      ]
     },
     "execution_count": 109,
     "metadata": {},
     "output_type": "execute_result"
    }
   ],
   "source": [
    "df_user"
   ]
  },
  {
   "cell_type": "code",
   "execution_count": 122,
   "id": "e3d66d75",
   "metadata": {},
   "outputs": [],
   "source": [
    "df_user_model = df_user[['danceability', 'energy', 'key', 'loudness', \"mode\", 'speechiness', 'acousticness', 'instrumentalness', 'liveness', \"valence\" , \"tempo\"]]"
   ]
  },
  {
   "cell_type": "code",
   "execution_count": 123,
   "id": "3ae966e5",
   "metadata": {},
   "outputs": [
    {
     "data": {
      "text/html": [
       "<div>\n",
       "<style scoped>\n",
       "    .dataframe tbody tr th:only-of-type {\n",
       "        vertical-align: middle;\n",
       "    }\n",
       "\n",
       "    .dataframe tbody tr th {\n",
       "        vertical-align: top;\n",
       "    }\n",
       "\n",
       "    .dataframe thead th {\n",
       "        text-align: right;\n",
       "    }\n",
       "</style>\n",
       "<table border=\"1\" class=\"dataframe\">\n",
       "  <thead>\n",
       "    <tr style=\"text-align: right;\">\n",
       "      <th></th>\n",
       "      <th>danceability</th>\n",
       "      <th>energy</th>\n",
       "      <th>key</th>\n",
       "      <th>loudness</th>\n",
       "      <th>mode</th>\n",
       "      <th>speechiness</th>\n",
       "      <th>acousticness</th>\n",
       "      <th>instrumentalness</th>\n",
       "      <th>liveness</th>\n",
       "      <th>valence</th>\n",
       "      <th>tempo</th>\n",
       "    </tr>\n",
       "  </thead>\n",
       "  <tbody>\n",
       "    <tr>\n",
       "      <th>0</th>\n",
       "      <td>0.707</td>\n",
       "      <td>0.681</td>\n",
       "      <td>0</td>\n",
       "      <td>-4.325</td>\n",
       "      <td>1</td>\n",
       "      <td>0.0668</td>\n",
       "      <td>0.0632</td>\n",
       "      <td>0.000005</td>\n",
       "      <td>0.0322</td>\n",
       "      <td>0.646</td>\n",
       "      <td>117.999</td>\n",
       "    </tr>\n",
       "  </tbody>\n",
       "</table>\n",
       "</div>"
      ],
      "text/plain": [
       "   danceability  energy  key  loudness  mode  speechiness  acousticness  \\\n",
       "0         0.707   0.681    0    -4.325     1       0.0668        0.0632   \n",
       "\n",
       "   instrumentalness  liveness  valence    tempo  \n",
       "0          0.000005    0.0322    0.646  117.999  "
      ]
     },
     "execution_count": 123,
     "metadata": {},
     "output_type": "execute_result"
    }
   ],
   "source": [
    "df_user_model "
   ]
  },
  {
   "cell_type": "markdown",
   "id": "21673d01",
   "metadata": {},
   "source": [
    "### -----------------------------------------------------------------------"
   ]
  },
  {
   "cell_type": "markdown",
   "id": "6835ee5c",
   "metadata": {},
   "source": [
    "### SCALE AND PREDICT"
   ]
  },
  {
   "cell_type": "markdown",
   "id": "c9f26415",
   "metadata": {},
   "source": [
    "### Scaling the features from the user input "
   ]
  },
  {
   "cell_type": "code",
   "execution_count": 132,
   "id": "26f00eb9",
   "metadata": {
    "scrolled": true
   },
   "outputs": [
    {
     "name": "stdout",
     "output_type": "stream",
     "text": [
      "Index(['danceability', 'energy', 'key', 'loudness', 'mode', 'speechiness',\n",
      "       'acousticness', 'instrumentalness', 'liveness', 'valence', 'tempo'],\n",
      "      dtype='object')\n",
      "Index(['danceability', 'energy', 'key', 'loudness', 'mode', 'speechiness',\n",
      "       'acousticness', 'instrumentalness', 'liveness', 'valence', 'tempo',\n",
      "       'cluster'],\n",
      "      dtype='object')\n"
     ]
    }
   ],
   "source": [
    "print(df_user_model.columns)\n",
    "print(X_scaled_df.columns)"
   ]
  },
  {
   "cell_type": "code",
   "execution_count": 138,
   "id": "f40acaec",
   "metadata": {},
   "outputs": [
    {
     "data": {
      "text/plain": [
       "array([[ 0.71553606,  0.38622783, -1.45901616,  0.79052609,  0.74184606,\n",
       "        -0.04846421, -0.88941683, -0.3778231 , -0.87289751,  0.33631682,\n",
       "        -0.01242936]])"
      ]
     },
     "execution_count": 138,
     "metadata": {},
     "output_type": "execute_result"
    }
   ],
   "source": [
    "scaler.transform(df_user_model)"
   ]
  },
  {
   "cell_type": "code",
   "execution_count": 151,
   "id": "096a05f2",
   "metadata": {},
   "outputs": [],
   "source": [
    "audio_user_features_scaled = scaler.transform(df_user_model)"
   ]
  },
  {
   "cell_type": "markdown",
   "id": "880a21b3",
   "metadata": {},
   "source": [
    "### -----------------------------------------------------------------------"
   ]
  },
  {
   "cell_type": "code",
   "execution_count": null,
   "id": "5892557d",
   "metadata": {},
   "outputs": [],
   "source": []
  },
  {
   "cell_type": "code",
   "execution_count": null,
   "id": "75a946d6",
   "metadata": {},
   "outputs": [],
   "source": []
  },
  {
   "cell_type": "code",
   "execution_count": null,
   "id": "9a5fc650",
   "metadata": {},
   "outputs": [],
   "source": []
  },
  {
   "cell_type": "code",
   "execution_count": null,
   "id": "785703d9",
   "metadata": {},
   "outputs": [],
   "source": []
  },
  {
   "cell_type": "code",
   "execution_count": null,
   "id": "046df64c",
   "metadata": {},
   "outputs": [],
   "source": []
  },
  {
   "cell_type": "code",
   "execution_count": null,
   "id": "63134af3",
   "metadata": {},
   "outputs": [],
   "source": []
  },
  {
   "cell_type": "code",
   "execution_count": null,
   "id": "369ad995",
   "metadata": {},
   "outputs": [],
   "source": []
  },
  {
   "cell_type": "code",
   "execution_count": 153,
   "id": "3628533c",
   "metadata": {},
   "outputs": [],
   "source": [
    "columns = df_user_model.columns"
   ]
  },
  {
   "cell_type": "code",
   "execution_count": 154,
   "id": "b85aa0f1",
   "metadata": {},
   "outputs": [
    {
     "data": {
      "text/plain": [
       "Index(['danceability', 'energy', 'key', 'loudness', 'mode', 'speechiness',\n",
       "       'acousticness', 'instrumentalness', 'liveness', 'valence', 'tempo'],\n",
       "      dtype='object')"
      ]
     },
     "execution_count": 154,
     "metadata": {},
     "output_type": "execute_result"
    }
   ],
   "source": [
    "columns"
   ]
  },
  {
   "cell_type": "code",
   "execution_count": 156,
   "id": "c2b3437a",
   "metadata": {},
   "outputs": [],
   "source": [
    "audio_features_scaled = scaler.transform(df_user_model )\n",
    "\n",
    "audio_features_scaled = pd.DataFrame(audio_features_scaled, columns= columns)\n"
   ]
  },
  {
   "cell_type": "code",
   "execution_count": 157,
   "id": "af76d818",
   "metadata": {},
   "outputs": [
    {
     "data": {
      "text/html": [
       "<div>\n",
       "<style scoped>\n",
       "    .dataframe tbody tr th:only-of-type {\n",
       "        vertical-align: middle;\n",
       "    }\n",
       "\n",
       "    .dataframe tbody tr th {\n",
       "        vertical-align: top;\n",
       "    }\n",
       "\n",
       "    .dataframe thead th {\n",
       "        text-align: right;\n",
       "    }\n",
       "</style>\n",
       "<table border=\"1\" class=\"dataframe\">\n",
       "  <thead>\n",
       "    <tr style=\"text-align: right;\">\n",
       "      <th></th>\n",
       "      <th>danceability</th>\n",
       "      <th>energy</th>\n",
       "      <th>key</th>\n",
       "      <th>loudness</th>\n",
       "      <th>mode</th>\n",
       "      <th>speechiness</th>\n",
       "      <th>acousticness</th>\n",
       "      <th>instrumentalness</th>\n",
       "      <th>liveness</th>\n",
       "      <th>valence</th>\n",
       "      <th>tempo</th>\n",
       "    </tr>\n",
       "  </thead>\n",
       "  <tbody>\n",
       "    <tr>\n",
       "      <th>0</th>\n",
       "      <td>0.715536</td>\n",
       "      <td>0.386228</td>\n",
       "      <td>-1.459016</td>\n",
       "      <td>0.790526</td>\n",
       "      <td>0.741846</td>\n",
       "      <td>-0.048464</td>\n",
       "      <td>-0.889417</td>\n",
       "      <td>-0.377823</td>\n",
       "      <td>-0.872898</td>\n",
       "      <td>0.336317</td>\n",
       "      <td>-0.012429</td>\n",
       "    </tr>\n",
       "  </tbody>\n",
       "</table>\n",
       "</div>"
      ],
      "text/plain": [
       "   danceability    energy       key  loudness      mode  speechiness  \\\n",
       "0      0.715536  0.386228 -1.459016  0.790526  0.741846    -0.048464   \n",
       "\n",
       "   acousticness  instrumentalness  liveness   valence     tempo  \n",
       "0     -0.889417         -0.377823 -0.872898  0.336317 -0.012429  "
      ]
     },
     "execution_count": 157,
     "metadata": {},
     "output_type": "execute_result"
    }
   ],
   "source": [
    "audio_features_scaled"
   ]
  },
  {
   "cell_type": "code",
   "execution_count": null,
   "id": "d99662f1",
   "metadata": {},
   "outputs": [],
   "source": []
  },
  {
   "cell_type": "code",
   "execution_count": 164,
   "id": "a5e5c0bc",
   "metadata": {},
   "outputs": [
    {
     "name": "stdout",
     "output_type": "stream",
     "text": [
      "[1]\n",
      "      danceability  energy  key  loudness  mode  speechiness  acousticness  \\\n",
      "9            0.499   0.351    9   -11.509     0       0.0448         0.951   \n",
      "24           0.463   0.155    5   -17.164     1       0.0440         0.877   \n",
      "49           0.456   0.456   11   -16.055     0       0.0535         0.973   \n",
      "61           0.447   0.327    4   -16.489     1       0.0432         0.864   \n",
      "68           0.159   0.054    1   -23.234     1       0.0540         0.977   \n",
      "...            ...     ...  ...       ...   ...          ...           ...   \n",
      "1826         0.575   0.330    7    -6.557     1       0.0310         0.416   \n",
      "1828         0.501   0.405    1    -5.679     1       0.0319         0.751   \n",
      "1831         0.689   0.481   10    -7.503     1       0.0815         0.369   \n",
      "1832         0.614   0.379    4   -10.480     1       0.0476         0.607   \n",
      "1836         0.481   0.267    7    -9.249     1       0.0339         0.800   \n",
      "\n",
      "      instrumentalness  liveness  valence    tempo  cluster  \\\n",
      "9             0.000099    0.1180    0.616   90.664        1   \n",
      "24            0.261000    0.1050    0.222  122.437        1   \n",
      "49            0.353000    0.1860    0.974  144.489        1   \n",
      "61            0.022400    0.0850    0.565  100.439        1   \n",
      "68            0.014800    0.0961    0.062  174.394        1   \n",
      "...                ...       ...      ...      ...      ...   \n",
      "1826          0.000000    0.0872    0.277   95.801        1   \n",
      "1828          0.000000    0.1050    0.446  109.891        1   \n",
      "1831          0.000001    0.0649    0.283   80.025        1   \n",
      "1832          0.000464    0.0986    0.201  107.989        1   \n",
      "1836          0.000000    0.2490    0.137  117.640        1   \n",
      "\n",
      "                          id  \n",
      "9     28XMNc5If5BmJWYDU42gkw  \n",
      "24    1qpKMLztFXlRFSlGhjj1dZ  \n",
      "49    4XJXYvjW0CB2MLMk8l7Vdi  \n",
      "61    0EnEULk14Oso59QtQHVUoC  \n",
      "68    1ypvFPpRdI7bV38hctvL2Z  \n",
      "...                      ...  \n",
      "1826  6QfS2wq5sSC1xAJCQsTSlj  \n",
      "1828  2TIlqbIneP0ZY1O0EzYLlc  \n",
      "1831  2JzZzZUQj3Qff7wapcbKjc  \n",
      "1832  1HNkqx9Ahdgi1Ixy2xkKkL  \n",
      "1836  4WzhjxvLP95y7AMDy0Atwb  \n",
      "\n",
      "[302 rows x 13 columns]\n"
     ]
    },
    {
     "data": {
      "text/html": [
       "\n",
       "        <iframe\n",
       "            width=\"320\"\n",
       "            height=\"80\"\n",
       "            src=\"https://open.spotify.com/embed/track/4j0JOQJkDnO0mYXpt7n62e?frameborder=0&allowtransparency=true&allow=encrypted-media\"\n",
       "            frameborder=\"0\"\n",
       "            allowfullscreen\n",
       "            \n",
       "        ></iframe>\n",
       "        "
      ],
      "text/plain": [
       "<IPython.lib.display.IFrame at 0x28a84fd2c40>"
      ]
     },
     "metadata": {},
     "output_type": "display_data"
    }
   ],
   "source": [
    "# Apply KMeans prediction to user_scaled_df\n",
    "user_cluster = kmeans2.predict(audio_features_scaled)\n",
    "\n",
    "print(user_cluster)\n",
    "\n",
    "# Filter recommended songs based on predicted cluster\n",
    "recommended_songs = final_df[final_df['cluster'] == user_cluster[0]]\n",
    "\n",
    "# in this case\n",
    "print(recommended_songs)\n",
    "\n",
    "\n",
    "# Select a random song from recommended songs\n",
    "recommended_song = recommended_songs.sample(n=1, random_state=1234)\n",
    "\n",
    "\n",
    "# Retrieve track_id of recommended song\n",
    "recommended_track_id = recommended_song['id'].values[0]\n",
    "\n",
    "# Display the recommended song\n",
    "display(play_song(recommended_track_id))"
   ]
  },
  {
   "cell_type": "code",
   "execution_count": null,
   "id": "77ba0b5c",
   "metadata": {},
   "outputs": [],
   "source": []
  },
  {
   "cell_type": "code",
   "execution_count": null,
   "id": "97705cee",
   "metadata": {},
   "outputs": [],
   "source": []
  },
  {
   "cell_type": "code",
   "execution_count": null,
   "id": "73b5bc3c",
   "metadata": {},
   "outputs": [],
   "source": []
  },
  {
   "cell_type": "code",
   "execution_count": null,
   "id": "434da15f",
   "metadata": {},
   "outputs": [],
   "source": [
    "# Apply KMeans prediction to user_scaled_df\n",
    "user_cluster = kmeans2.predict(user_scaled_df)\n",
    "# Filter recommended songs based on predicted cluster\n",
    "recommended_songs = audios[audios['cluster'] == user_cluster[0]]\n",
    "# Select a random song from recommended songs\n",
    "recommended_song = recommended_songs.sample(n=1, random_state=1234)\n",
    "# Retrieve track_id of recommended song\n",
    "recommended_track_id = recommended_song['id'].values[0]\n",
    "# Display the recommended song\n",
    "display(play_song(recommended_track_id))"
   ]
  },
  {
   "cell_type": "code",
   "execution_count": null,
   "id": "7477edca",
   "metadata": {},
   "outputs": [],
   "source": []
  },
  {
   "cell_type": "code",
   "execution_count": null,
   "id": "cb6e762c",
   "metadata": {},
   "outputs": [],
   "source": []
  },
  {
   "cell_type": "code",
   "execution_count": null,
   "id": "8c278874",
   "metadata": {},
   "outputs": [],
   "source": []
  },
  {
   "cell_type": "code",
   "execution_count": null,
   "id": "4eb5f2ad",
   "metadata": {},
   "outputs": [],
   "source": []
  },
  {
   "cell_type": "code",
   "execution_count": 149,
   "id": "a1aa4c1e",
   "metadata": {},
   "outputs": [],
   "source": [
    "#kmeans = KMeans(n_clusters=6, random_state=1234)\n",
    "kmeans_model = KMeans(n_clusters=3) "
   ]
  },
  {
   "cell_type": "code",
   "execution_count": 150,
   "id": "c789e1f1",
   "metadata": {},
   "outputs": [
    {
     "ename": "ValueError",
     "evalue": "n_samples=1 should be >= n_clusters=3.",
     "output_type": "error",
     "traceback": [
      "\u001b[1;31m---------------------------------------------------------------------------\u001b[0m",
      "\u001b[1;31mValueError\u001b[0m                                Traceback (most recent call last)",
      "\u001b[1;32m~\\AppData\\Local\\Temp\\ipykernel_20040\\844444099.py\u001b[0m in \u001b[0;36m<module>\u001b[1;34m\u001b[0m\n\u001b[1;32m----> 1\u001b[1;33m \u001b[0mpredictions\u001b[0m \u001b[1;33m=\u001b[0m \u001b[0mkmeans_model\u001b[0m\u001b[1;33m.\u001b[0m\u001b[0mfit_predict\u001b[0m\u001b[1;33m(\u001b[0m\u001b[0mdf_user_model\u001b[0m\u001b[1;33m)\u001b[0m\u001b[1;33m\u001b[0m\u001b[1;33m\u001b[0m\u001b[0m\n\u001b[0m\u001b[0;32m      2\u001b[0m \u001b[1;33m\u001b[0m\u001b[0m\n\u001b[0;32m      3\u001b[0m \u001b[1;31m#predictions = kmeans.fit_predict(df_user_model)\u001b[0m\u001b[1;33m\u001b[0m\u001b[1;33m\u001b[0m\u001b[0m\n",
      "\u001b[1;32m~\\anaconda3\\lib\\site-packages\\sklearn\\cluster\\_kmeans.py\u001b[0m in \u001b[0;36mfit_predict\u001b[1;34m(self, X, y, sample_weight)\u001b[0m\n\u001b[0;32m   1253\u001b[0m             \u001b[0mIndex\u001b[0m \u001b[0mof\u001b[0m \u001b[0mthe\u001b[0m \u001b[0mcluster\u001b[0m \u001b[0meach\u001b[0m \u001b[0msample\u001b[0m \u001b[0mbelongs\u001b[0m \u001b[0mto\u001b[0m\u001b[1;33m.\u001b[0m\u001b[1;33m\u001b[0m\u001b[1;33m\u001b[0m\u001b[0m\n\u001b[0;32m   1254\u001b[0m         \"\"\"\n\u001b[1;32m-> 1255\u001b[1;33m         \u001b[1;32mreturn\u001b[0m \u001b[0mself\u001b[0m\u001b[1;33m.\u001b[0m\u001b[0mfit\u001b[0m\u001b[1;33m(\u001b[0m\u001b[0mX\u001b[0m\u001b[1;33m,\u001b[0m \u001b[0msample_weight\u001b[0m\u001b[1;33m=\u001b[0m\u001b[0msample_weight\u001b[0m\u001b[1;33m)\u001b[0m\u001b[1;33m.\u001b[0m\u001b[0mlabels_\u001b[0m\u001b[1;33m\u001b[0m\u001b[1;33m\u001b[0m\u001b[0m\n\u001b[0m\u001b[0;32m   1256\u001b[0m \u001b[1;33m\u001b[0m\u001b[0m\n\u001b[0;32m   1257\u001b[0m     \u001b[1;32mdef\u001b[0m \u001b[0mfit_transform\u001b[0m\u001b[1;33m(\u001b[0m\u001b[0mself\u001b[0m\u001b[1;33m,\u001b[0m \u001b[0mX\u001b[0m\u001b[1;33m,\u001b[0m \u001b[0my\u001b[0m\u001b[1;33m=\u001b[0m\u001b[1;32mNone\u001b[0m\u001b[1;33m,\u001b[0m \u001b[0msample_weight\u001b[0m\u001b[1;33m=\u001b[0m\u001b[1;32mNone\u001b[0m\u001b[1;33m)\u001b[0m\u001b[1;33m:\u001b[0m\u001b[1;33m\u001b[0m\u001b[1;33m\u001b[0m\u001b[0m\n",
      "\u001b[1;32m~\\anaconda3\\lib\\site-packages\\sklearn\\cluster\\_kmeans.py\u001b[0m in \u001b[0;36mfit\u001b[1;34m(self, X, y, sample_weight)\u001b[0m\n\u001b[0;32m   1144\u001b[0m         )\n\u001b[0;32m   1145\u001b[0m \u001b[1;33m\u001b[0m\u001b[0m\n\u001b[1;32m-> 1146\u001b[1;33m         \u001b[0mself\u001b[0m\u001b[1;33m.\u001b[0m\u001b[0m_check_params\u001b[0m\u001b[1;33m(\u001b[0m\u001b[0mX\u001b[0m\u001b[1;33m)\u001b[0m\u001b[1;33m\u001b[0m\u001b[1;33m\u001b[0m\u001b[0m\n\u001b[0m\u001b[0;32m   1147\u001b[0m         \u001b[0mrandom_state\u001b[0m \u001b[1;33m=\u001b[0m \u001b[0mcheck_random_state\u001b[0m\u001b[1;33m(\u001b[0m\u001b[0mself\u001b[0m\u001b[1;33m.\u001b[0m\u001b[0mrandom_state\u001b[0m\u001b[1;33m)\u001b[0m\u001b[1;33m\u001b[0m\u001b[1;33m\u001b[0m\u001b[0m\n\u001b[0;32m   1148\u001b[0m         \u001b[0msample_weight\u001b[0m \u001b[1;33m=\u001b[0m \u001b[0m_check_sample_weight\u001b[0m\u001b[1;33m(\u001b[0m\u001b[0msample_weight\u001b[0m\u001b[1;33m,\u001b[0m \u001b[0mX\u001b[0m\u001b[1;33m,\u001b[0m \u001b[0mdtype\u001b[0m\u001b[1;33m=\u001b[0m\u001b[0mX\u001b[0m\u001b[1;33m.\u001b[0m\u001b[0mdtype\u001b[0m\u001b[1;33m)\u001b[0m\u001b[1;33m\u001b[0m\u001b[1;33m\u001b[0m\u001b[0m\n",
      "\u001b[1;32m~\\anaconda3\\lib\\site-packages\\sklearn\\cluster\\_kmeans.py\u001b[0m in \u001b[0;36m_check_params\u001b[1;34m(self, X)\u001b[0m\n\u001b[0;32m    945\u001b[0m         \u001b[1;31m# n_clusters\u001b[0m\u001b[1;33m\u001b[0m\u001b[1;33m\u001b[0m\u001b[0m\n\u001b[0;32m    946\u001b[0m         \u001b[1;32mif\u001b[0m \u001b[0mX\u001b[0m\u001b[1;33m.\u001b[0m\u001b[0mshape\u001b[0m\u001b[1;33m[\u001b[0m\u001b[1;36m0\u001b[0m\u001b[1;33m]\u001b[0m \u001b[1;33m<\u001b[0m \u001b[0mself\u001b[0m\u001b[1;33m.\u001b[0m\u001b[0mn_clusters\u001b[0m\u001b[1;33m:\u001b[0m\u001b[1;33m\u001b[0m\u001b[1;33m\u001b[0m\u001b[0m\n\u001b[1;32m--> 947\u001b[1;33m             raise ValueError(\n\u001b[0m\u001b[0;32m    948\u001b[0m                 \u001b[1;34mf\"n_samples={X.shape[0]} should be >= n_clusters={self.n_clusters}.\"\u001b[0m\u001b[1;33m\u001b[0m\u001b[1;33m\u001b[0m\u001b[0m\n\u001b[0;32m    949\u001b[0m             )\n",
      "\u001b[1;31mValueError\u001b[0m: n_samples=1 should be >= n_clusters=3."
     ]
    }
   ],
   "source": [
    "predictions = kmeans_model.fit_predict(df_user_model)\n",
    "\n",
    "#predictions = kmeans.fit_predict(df_user_model)"
   ]
  },
  {
   "cell_type": "code",
   "execution_count": null,
   "id": "883c444f",
   "metadata": {},
   "outputs": [],
   "source": [
    "# Load pre-trained K-means model\n",
    "    kmeans_model = KMeans(n_clusters=3)  # Specify the appropriate number of clusters\n",
    "\n",
    "    # Make predictions using K-means model\n",
    "    predictions = kmeans_model.fit_predict(df)\n",
    "\n",
    "    # Get a song from the same cluster\n",
    "    cluster_label = predictions[0]\n",
    "    cluster_songs = get_songs_in_cluster(cluster_label)  # Replace with your own logic to retrieve songs in the same cluster\n",
    "\n",
    "    # Print a similar song from the cluster\n",
    "    if cluster_songs:\n",
    "        similar_song = cluster_songs[0]  # Retrieve the first song in the cluster\n",
    "        print(\"Similar song:\", similar_song)\n",
    "    else:\n",
    "        print(\"No similar songs found in the cluster.\")\n",
    "else:\n",
    "    print(\"Song not found.\")"
   ]
  },
  {
   "cell_type": "code",
   "execution_count": null,
   "id": "17280e61",
   "metadata": {},
   "outputs": [],
   "source": []
  },
  {
   "cell_type": "code",
   "execution_count": null,
   "id": "c14d9baa",
   "metadata": {},
   "outputs": [],
   "source": []
  },
  {
   "cell_type": "code",
   "execution_count": null,
   "id": "f7621948",
   "metadata": {},
   "outputs": [],
   "source": []
  },
  {
   "cell_type": "code",
   "execution_count": null,
   "id": "4389275e",
   "metadata": {},
   "outputs": [],
   "source": []
  },
  {
   "cell_type": "code",
   "execution_count": null,
   "id": "1fea7ace",
   "metadata": {},
   "outputs": [],
   "source": [
    "kmeans = KMeans(n_clusters=6, random_state=1234)\n",
    "kmeans.fit(X_scaled_df)"
   ]
  },
  {
   "cell_type": "code",
   "execution_count": null,
   "id": "ca499682",
   "metadata": {},
   "outputs": [],
   "source": [
    "kmeans = KMeans(n_clusters=6, random_state=1234)\n",
    "kmeans.fit(X_scaled_df)"
   ]
  },
  {
   "cell_type": "code",
   "execution_count": 148,
   "id": "7e8f3747",
   "metadata": {},
   "outputs": [
    {
     "data": {
      "text/plain": [
       "array([0, 1, 2, 3, 4, 5])"
      ]
     },
     "execution_count": 148,
     "metadata": {},
     "output_type": "execute_result"
    }
   ],
   "source": [
    "np.unique(labels)"
   ]
  },
  {
   "cell_type": "code",
   "execution_count": null,
   "id": "8d0e6359",
   "metadata": {},
   "outputs": [],
   "source": []
  },
  {
   "cell_type": "code",
   "execution_count": null,
   "id": "b368c31c",
   "metadata": {},
   "outputs": [],
   "source": []
  },
  {
   "cell_type": "code",
   "execution_count": null,
   "id": "7da101fb",
   "metadata": {},
   "outputs": [],
   "source": []
  },
  {
   "cell_type": "code",
   "execution_count": null,
   "id": "52de50b2",
   "metadata": {},
   "outputs": [],
   "source": [
    "matching_songs = df[df[\"song\"].str.contains(song_name_lower, case=False)]\n",
    "\n",
    "\n",
    "for index, row in df.iterrows():\n",
    "    \n",
    "    if row[\"song\"] == song_name_lower:\n",
    "        song_found = True\n",
    "        print(\"your song is in the Bilboard Hot 100\")\n",
    "        \n",
    "        random_music = random.choice(df[\"song\"])\n",
    "        \n",
    "        print(\"I will provide you a recommendation from this Billboard Hot list:\",random_music )\n",
    "        \n",
    "    elif song_found == False:\n",
    "  \n",
    "        print(\"The song\", song_name, \"is not in the  Hot Billboard song.\")\n",
    "    break"
   ]
  },
  {
   "cell_type": "code",
   "execution_count": 91,
   "id": "023702d9",
   "metadata": {},
   "outputs": [
    {
     "data": {
      "text/plain": [
       "'0yLdNVWF3Srea0uzk55zFn'"
      ]
     },
     "execution_count": 91,
     "metadata": {},
     "output_type": "execute_result"
    }
   ],
   "source": [
    "song_id= results[\"tracks\"][\"items\"][0][\"id\"]\n",
    "song_id\n"
   ]
  },
  {
   "cell_type": "code",
   "execution_count": null,
   "id": "970ce5c7",
   "metadata": {},
   "outputs": [],
   "source": [
    "2naqSVQHgiaoEpxtkVOhmK\n",
    "\n",
    "#print(\"Song ID:\", song_id)\n",
    "\n",
    "#display(play_song(song_id))\n",
    "    "
   ]
  },
  {
   "cell_type": "code",
   "execution_count": 41,
   "id": "6d906a14",
   "metadata": {},
   "outputs": [
    {
     "name": "stdout",
     "output_type": "stream",
     "text": [
      "Enter your favorite song name:lloraras\n"
     ]
    }
   ],
   "source": [
    "# Ask the user for a song name\n",
    "\n",
    "song_name = input(\"Enter your favorite song name:\")\n",
    "\n",
    "\n",
    "# Convert the user's input to lowercase\n",
    "song_name_lower = song_name.lower()\n",
    "\n",
    "user_input = sp.search(q= song_name_lower,limit=5,market=\"GB\")\n",
    "\n",
    "play_song(track_id)"
   ]
  },
  {
   "cell_type": "code",
   "execution_count": null,
   "id": "59d2310d",
   "metadata": {},
   "outputs": [],
   "source": []
  },
  {
   "cell_type": "markdown",
   "id": "04c21cdd",
   "metadata": {},
   "source": [
    "## Embeded track player"
   ]
  },
  {
   "cell_type": "code",
   "execution_count": 93,
   "id": "ed7ace19",
   "metadata": {},
   "outputs": [
    {
     "data": {
      "text/html": [
       "\n",
       "        <iframe\n",
       "            width=\"320\"\n",
       "            height=\"80\"\n",
       "            src=\"https://open.spotify.com/embed/track/0yLdNVWF3Srea0uzk55zFn?frameborder=0&allowtransparency=true&allow=encrypted-media\"\n",
       "            frameborder=\"0\"\n",
       "            allowfullscreen\n",
       "            \n",
       "        ></iframe>\n",
       "        "
      ],
      "text/plain": [
       "<IPython.lib.display.IFrame at 0x28a905a8b20>"
      ]
     },
     "execution_count": 93,
     "metadata": {},
     "output_type": "execute_result"
    }
   ],
   "source": [
    "play_song(\"0yLdNVWF3Srea0uzk55zFn\")"
   ]
  },
  {
   "cell_type": "code",
   "execution_count": null,
   "id": "651a8d65",
   "metadata": {},
   "outputs": [],
   "source": []
  }
 ],
 "metadata": {
  "kernelspec": {
   "display_name": "Python 3 (ipykernel)",
   "language": "python",
   "name": "python3"
  },
  "language_info": {
   "codemirror_mode": {
    "name": "ipython",
    "version": 3
   },
   "file_extension": ".py",
   "mimetype": "text/x-python",
   "name": "python",
   "nbconvert_exporter": "python",
   "pygments_lexer": "ipython3",
   "version": "3.9.13"
  }
 },
 "nbformat": 4,
 "nbformat_minor": 5
}
